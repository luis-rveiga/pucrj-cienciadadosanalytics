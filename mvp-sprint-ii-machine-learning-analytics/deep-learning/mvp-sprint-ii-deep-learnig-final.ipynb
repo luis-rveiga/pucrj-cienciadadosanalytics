{
 "cells": [
  {
   "cell_type": "code",
   "execution_count": 29,
   "metadata": {},
   "outputs": [],
   "source": [
    "# Configuração para não exibir os warnings\n",
    "import warnings\n",
    "warnings.filterwarnings(\"ignore\")\n",
    "\n",
    "# Imports necessários\n",
    "from keras.preprocessing.image import ImageDataGenerator\n",
    "from keras import layers\n",
    "from keras import models\n",
    "from keras import optimizers\n",
    "import os\n",
    "from sklearn.model_selection import train_test_split\n",
    "import numpy as np\n",
    "import pandas as pd\n",
    "import matplotlib.image as mpimg\n",
    "import matplotlib.pyplot as plt\n",
    "import matplotlib.image as mpimg\n",
    "from datetime import datetime\n",
    "from tensorflow import keras\n",
    "from sklearn.metrics import confusion_matrix, classification_report\n",
    "import sklearn.metrics as skm\n",
    "import numpy as np\n",
    "import matplotlib.pyplot as plt\n",
    "\n",
    "#import itertools\n",
    "#import shutil\n",
    "#import random\n",
    "#import math\n",
    "#import zipfile\n"
   ]
  },
  {
   "cell_type": "code",
   "execution_count": 30,
   "metadata": {},
   "outputs": [],
   "source": [
    "def prepare_dataset(X_dataset, y_dataset, classes, n_samples):\n",
    "    if n_samples is None:\n",
    "        img_samples = X_dataset.shape[0]\n",
    "    else:\n",
    "        img_samples = n_samples\n",
    "\n",
    "    df_aux = pd.DataFrame(columns=['id', 'label'])\n",
    "\n",
    "    list_aux = []\n",
    "\n",
    "    for i in range(img_samples):\n",
    "        nm_file = str(i)+'-'+str([classes[x] for x in y_dataset[i]]).strip('[]').strip('\\'')+'.'+'png'\n",
    "        sample = {'id':nm_file, 'label':str([classes[x] for x in y_dataset[i]]).strip('[]').strip('\\'')}\n",
    "        list_aux.append(sample)\n",
    "\n",
    "    return pd.concat([df_aux, pd.DataFrame(list_aux)], ignore_index=True)\n",
    "\n",
    "\n",
    "def create_files(X_dataset, y_dataset, classes, dir, n_samples):\n",
    "    if n_samples is None:\n",
    "        img_samples = X_dataset.shape[0]\n",
    "    else:\n",
    "        img_samples = n_samples\n",
    "\n",
    "    for i in range(img_samples):\n",
    "        nm_file = str(i)+'-'+str([classes[x] for x in y_dataset[i]]).strip('[]').strip('\\'')+'.'+'png'\n",
    "        img = X_dataset[i]\n",
    "        plt.imsave(dir + nm_file, img)\n",
    "\n",
    "\n",
    "def create_directory(dir):\n",
    "    if os.path.exists(dir):\n",
    "        for file in os.listdir(dir):\n",
    "            os.remove(dir+file)\n",
    "    else:\n",
    "        os.makedirs(dir)"
   ]
  },
  {
   "cell_type": "code",
   "execution_count": 31,
   "metadata": {},
   "outputs": [],
   "source": [
    "from keras.datasets import cifar10\n",
    "\n",
    "(X_train, y_train), (X_test, y_test) = cifar10.load_data()\n",
    "\n",
    "cifar10_classes = ['airplane', 'automobile', 'bird', 'cat', 'deer', 'dog', 'frog', 'horse', 'ship', 'truck']"
   ]
  },
  {
   "cell_type": "code",
   "execution_count": 32,
   "metadata": {},
   "outputs": [],
   "source": [
    "train_dir = \"./train/\"\n",
    "test_dir = \"./test/\" \n",
    "\n",
    "create_directory(train_dir)\n",
    "create_directory(test_dir)"
   ]
  },
  {
   "cell_type": "code",
   "execution_count": 33,
   "metadata": {},
   "outputs": [
    {
     "data": {
      "text/html": [
       "<div>\n",
       "<style scoped>\n",
       "    .dataframe tbody tr th:only-of-type {\n",
       "        vertical-align: middle;\n",
       "    }\n",
       "\n",
       "    .dataframe tbody tr th {\n",
       "        vertical-align: top;\n",
       "    }\n",
       "\n",
       "    .dataframe thead th {\n",
       "        text-align: right;\n",
       "    }\n",
       "</style>\n",
       "<table border=\"1\" class=\"dataframe\">\n",
       "  <thead>\n",
       "    <tr style=\"text-align: right;\">\n",
       "      <th></th>\n",
       "      <th>id</th>\n",
       "      <th>label</th>\n",
       "    </tr>\n",
       "  </thead>\n",
       "  <tbody>\n",
       "    <tr>\n",
       "      <th>0</th>\n",
       "      <td>0-frog.png</td>\n",
       "      <td>frog</td>\n",
       "    </tr>\n",
       "    <tr>\n",
       "      <th>1</th>\n",
       "      <td>1-truck.png</td>\n",
       "      <td>truck</td>\n",
       "    </tr>\n",
       "    <tr>\n",
       "      <th>2</th>\n",
       "      <td>2-truck.png</td>\n",
       "      <td>truck</td>\n",
       "    </tr>\n",
       "    <tr>\n",
       "      <th>3</th>\n",
       "      <td>3-deer.png</td>\n",
       "      <td>deer</td>\n",
       "    </tr>\n",
       "    <tr>\n",
       "      <th>4</th>\n",
       "      <td>4-automobile.png</td>\n",
       "      <td>automobile</td>\n",
       "    </tr>\n",
       "  </tbody>\n",
       "</table>\n",
       "</div>"
      ],
      "text/plain": [
       "                 id       label\n",
       "0        0-frog.png        frog\n",
       "1       1-truck.png       truck\n",
       "2       2-truck.png       truck\n",
       "3        3-deer.png        deer\n",
       "4  4-automobile.png  automobile"
      ]
     },
     "execution_count": 33,
     "metadata": {},
     "output_type": "execute_result"
    }
   ],
   "source": [
    "train_samples = 250 #X_train.shape[0]\n",
    "\n",
    "create_files(X_train, y_train, cifar10_classes, train_dir, train_samples)\n",
    "\n",
    "train_df = prepare_dataset(X_train, y_train, cifar10_classes, train_samples)\n",
    "\n",
    "train_df.head()"
   ]
  },
  {
   "cell_type": "code",
   "execution_count": 34,
   "metadata": {},
   "outputs": [
    {
     "data": {
      "text/html": [
       "<div>\n",
       "<style scoped>\n",
       "    .dataframe tbody tr th:only-of-type {\n",
       "        vertical-align: middle;\n",
       "    }\n",
       "\n",
       "    .dataframe tbody tr th {\n",
       "        vertical-align: top;\n",
       "    }\n",
       "\n",
       "    .dataframe thead th {\n",
       "        text-align: right;\n",
       "    }\n",
       "</style>\n",
       "<table border=\"1\" class=\"dataframe\">\n",
       "  <thead>\n",
       "    <tr style=\"text-align: right;\">\n",
       "      <th></th>\n",
       "      <th>id</th>\n",
       "      <th>label</th>\n",
       "    </tr>\n",
       "  </thead>\n",
       "  <tbody>\n",
       "    <tr>\n",
       "      <th>0</th>\n",
       "      <td>0-cat.png</td>\n",
       "      <td>cat</td>\n",
       "    </tr>\n",
       "    <tr>\n",
       "      <th>1</th>\n",
       "      <td>1-ship.png</td>\n",
       "      <td>ship</td>\n",
       "    </tr>\n",
       "    <tr>\n",
       "      <th>2</th>\n",
       "      <td>2-ship.png</td>\n",
       "      <td>ship</td>\n",
       "    </tr>\n",
       "    <tr>\n",
       "      <th>3</th>\n",
       "      <td>3-airplane.png</td>\n",
       "      <td>airplane</td>\n",
       "    </tr>\n",
       "    <tr>\n",
       "      <th>4</th>\n",
       "      <td>4-frog.png</td>\n",
       "      <td>frog</td>\n",
       "    </tr>\n",
       "  </tbody>\n",
       "</table>\n",
       "</div>"
      ],
      "text/plain": [
       "               id     label\n",
       "0       0-cat.png       cat\n",
       "1      1-ship.png      ship\n",
       "2      2-ship.png      ship\n",
       "3  3-airplane.png  airplane\n",
       "4      4-frog.png      frog"
      ]
     },
     "execution_count": 34,
     "metadata": {},
     "output_type": "execute_result"
    }
   ],
   "source": [
    "test_samples = 100 #X_test.shape[0]\n",
    "\n",
    "create_files(X_test, y_test, cifar10_classes, test_dir, test_samples)\n",
    "\n",
    "test_df = prepare_dataset(X_test, y_test, cifar10_classes, test_samples)\n",
    "\n",
    "test_df.head()"
   ]
  },
  {
   "cell_type": "code",
   "execution_count": 35,
   "metadata": {},
   "outputs": [
    {
     "name": "stdout",
     "output_type": "stream",
     "text": [
      "Total de imagens para treinamento: 250\n",
      "Total de imagens para teste      : 100\n"
     ]
    }
   ],
   "source": [
    "print('Total de imagens para treinamento: %s' % len(os.listdir(train_dir)))\n",
    "print('Total de imagens para teste      : %s' % len(os.listdir(test_dir)))"
   ]
  },
  {
   "cell_type": "code",
   "execution_count": 36,
   "metadata": {},
   "outputs": [
    {
     "name": "stdout",
     "output_type": "stream",
     "text": [
      "Found 188 validated image filenames belonging to 10 classes.\n",
      "Found 62 validated image filenames belonging to 10 classes.\n"
     ]
    }
   ],
   "source": [
    "train_datagen=ImageDataGenerator(rescale=1.0/255.0,\n",
    "                                validation_split=0.25)\n",
    "\n",
    "train_generator=train_datagen.flow_from_dataframe(\n",
    "dataframe=train_df,\n",
    "directory=train_dir,\n",
    "x_col=\"id\",\n",
    "y_col=\"label\",\n",
    "subset=\"training\",\n",
    "batch_size=32,\n",
    "seed=42,\n",
    "shuffle=True,\n",
    "class_mode=\"categorical\",\n",
    "target_size=(32,32))\n",
    "\n",
    "valid_generator=train_datagen.flow_from_dataframe(\n",
    "dataframe=train_df,\n",
    "directory=train_dir,\n",
    "x_col=\"id\",\n",
    "y_col=\"label\",\n",
    "subset=\"validation\",\n",
    "batch_size=32,\n",
    "seed=42,\n",
    "shuffle=True,\n",
    "class_mode=\"categorical\",\n",
    "target_size=(32,32))"
   ]
  },
  {
   "cell_type": "code",
   "execution_count": 37,
   "metadata": {},
   "outputs": [
    {
     "name": "stdout",
     "output_type": "stream",
     "text": [
      "Found 100 validated image filenames belonging to 10 classes.\n"
     ]
    }
   ],
   "source": [
    "test_datagen=ImageDataGenerator(rescale=1.0/255.0)\n",
    "\n",
    "test_generator=test_datagen.flow_from_dataframe(\n",
    "dataframe=test_df,\n",
    "directory=test_dir,\n",
    "x_col=\"id\",\n",
    "y_col=\"label\",\n",
    "batch_size=32,\n",
    "seed=42,\n",
    "shuffle=False,\n",
    "class_mode=\"categorical\",\n",
    "target_size=(32,32))"
   ]
  },
  {
   "cell_type": "code",
   "execution_count": 38,
   "metadata": {},
   "outputs": [
    {
     "name": "stdout",
     "output_type": "stream",
     "text": [
      "Model: \"sequential_1\"\n",
      "_________________________________________________________________\n",
      " Layer (type)                Output Shape              Param #   \n",
      "=================================================================\n",
      " conv2d_2 (Conv2D)           (None, 30, 30, 32)        896       \n",
      "                                                                 \n",
      " conv2d_3 (Conv2D)           (None, 28, 28, 32)        9248      \n",
      "                                                                 \n",
      " batch_normalization_2 (Batc  (None, 28, 28, 32)       128       \n",
      " hNormalization)                                                 \n",
      "                                                                 \n",
      " activation_2 (Activation)   (None, 28, 28, 32)        0         \n",
      "                                                                 \n",
      " max_pooling2d_1 (MaxPooling  (None, 14, 14, 32)       0         \n",
      " 2D)                                                             \n",
      "                                                                 \n",
      " dropout_2 (Dropout)         (None, 14, 14, 32)        0         \n",
      "                                                                 \n",
      " flatten_1 (Flatten)         (None, 6272)              0         \n",
      "                                                                 \n",
      " dense_2 (Dense)             (None, 256)               1605888   \n",
      "                                                                 \n",
      " batch_normalization_3 (Batc  (None, 256)              1024      \n",
      " hNormalization)                                                 \n",
      "                                                                 \n",
      " activation_3 (Activation)   (None, 256)               0         \n",
      "                                                                 \n",
      " dropout_3 (Dropout)         (None, 256)               0         \n",
      "                                                                 \n",
      " dense_3 (Dense)             (None, 10)                2570      \n",
      "                                                                 \n",
      "=================================================================\n",
      "Total params: 1,619,754\n",
      "Trainable params: 1,619,178\n",
      "Non-trainable params: 576\n",
      "_________________________________________________________________\n"
     ]
    }
   ],
   "source": [
    "model = models.Sequential()\n",
    "model.add(layers.Conv2D(32, (3, 3), input_shape=(32,32,3), activation=('relu')))\n",
    "model.add(layers.Conv2D(32, (3, 3)))\n",
    "model.add(layers.BatchNormalization())\n",
    "model.add(layers.Activation('relu'))\n",
    "model.add(layers.MaxPooling2D(pool_size=(2, 2)))\n",
    "model.add(layers.Dropout(0.25))\n",
    "\n",
    "model.add(layers.Flatten())\n",
    "model.add(layers.Dense(256))\n",
    "model.add(layers.BatchNormalization())\n",
    "model.add(layers.Activation('relu'))\n",
    "model.add(layers.Dropout(0.5))\n",
    "model.add(layers.Dense(10, activation='softmax'))\n",
    "\n",
    "model.summary()"
   ]
  },
  {
   "cell_type": "code",
   "execution_count": 39,
   "metadata": {},
   "outputs": [],
   "source": [
    "model.compile(optimizer='adam', loss='categorical_crossentropy', metrics=['accuracy'])"
   ]
  },
  {
   "cell_type": "code",
   "execution_count": 40,
   "metadata": {},
   "outputs": [
    {
     "name": "stdout",
     "output_type": "stream",
     "text": [
      "Epoch 1/5\n",
      "5/5 [==============================] - 1s 86ms/step - loss: 2.8733 - accuracy: 0.1731 - val_loss: 2.2865 - val_accuracy: 0.0625\n",
      "Epoch 2/5\n",
      "5/5 [==============================] - 0s 61ms/step - loss: 1.6182 - accuracy: 0.4487 - val_loss: 2.2636 - val_accuracy: 0.2188\n",
      "Epoch 3/5\n",
      "5/5 [==============================] - 0s 55ms/step - loss: 1.1110 - accuracy: 0.6346 - val_loss: 2.2096 - val_accuracy: 0.1875\n",
      "Epoch 4/5\n",
      "5/5 [==============================] - 0s 54ms/step - loss: 0.7752 - accuracy: 0.7692 - val_loss: 2.1789 - val_accuracy: 0.2812\n",
      "Epoch 5/5\n",
      "5/5 [==============================] - 0s 54ms/step - loss: 0.6137 - accuracy: 0.8188 - val_loss: 2.1613 - val_accuracy: 0.1875\n"
     ]
    },
    {
     "data": {
      "text/plain": [
       "<keras.callbacks.History at 0x2284c0baf50>"
      ]
     },
     "execution_count": 40,
     "metadata": {},
     "output_type": "execute_result"
    }
   ],
   "source": [
    "train_step_size = train_generator.n//train_generator.batch_size\n",
    "validation_step_size = valid_generator.n//valid_generator.batch_size\n",
    "\n",
    "model.fit_generator(generator=train_generator,\n",
    "          steps_per_epoch=train_step_size,\n",
    "          validation_data=valid_generator,\n",
    "          validation_steps=validation_step_size,\n",
    "          epochs=5\n",
    ")"
   ]
  },
  {
   "cell_type": "code",
   "execution_count": 41,
   "metadata": {},
   "outputs": [
    {
     "name": "stdout",
     "output_type": "stream",
     "text": [
      "1/1 [==============================] - 0s 61ms/step\n",
      "1/1 [==============================] - 0s 19ms/step\n",
      "1/1 [==============================] - 0s 19ms/step\n",
      "1/1 [==============================] - 0s 54ms/step\n"
     ]
    }
   ],
   "source": [
    "test_generator.reset()\n",
    "\n",
    "count = 0\n",
    "y_pred = list()\n",
    "y_true = list()\n",
    "class_names = cifar10_classes\n",
    "\n",
    "# Loop do data generator de teste que contem as imagens\n",
    "for batch in test_generator:\n",
    "\n",
    "    count+=1\n",
    "\n",
    "    # Condição de saída do loop. Só executaremos o modelo em algumas imagens\n",
    "    if count == len(test_generator)+1:\n",
    "        break\n",
    "\n",
    "    else:\n",
    "        # Pegando a imagem e o label\n",
    "        images = batch[0]\n",
    "        labels = batch[1]\n",
    "\n",
    "        # Previsão\n",
    "        predictions = model.predict(images)\n",
    "\n",
    "        # Visualização da imagem\n",
    "        for i in range(len(images)):\n",
    "\n",
    "            image = images[i]\n",
    "            label = labels[i]\n",
    "\n",
    "            prediction = predictions[i]\n",
    "\n",
    "            # Converte o array de previsão para visualizar a classe e a probabilidade\n",
    "            predicted_class = np.argmax(prediction)\n",
    "            probability = prediction[predicted_class]\n",
    "\n",
    "            labeled_class = np.argmax(label)\n",
    "            label = class_names[int(labeled_class)]\n",
    "\n",
    "            y_true.append(label)\n",
    "\n",
    "            # Faz o DE-PARA da probabilidade com o tipo de classe da previsão\n",
    "            # class_name = 'dog' if prediction >= 0.5 else 'cat'\n",
    "\n",
    "            class_name = class_names[int(predicted_class)]\n",
    "\n",
    "            y_pred.append(class_name)\n",
    "\n",
    "            # # Configura a saída das imagens que serão visualizadas\n",
    "            # plt.figure(figsize=(.5, .5))\n",
    "            # plt.imshow(image)\n",
    "            # plt.axis('Off')\n",
    "            # plt.show()\n",
    "\n",
    "            # print('%s : %s : %f' % (label, class_name, probability))"
   ]
  },
  {
   "cell_type": "code",
   "execution_count": 42,
   "metadata": {},
   "outputs": [],
   "source": [
    "filenames=test_generator.filenames\n",
    "results=pd.DataFrame({\"Filename\":filenames,\n",
    "                      \"Predictions\":y_pred})\n",
    "results.to_csv(\"results_deep_learning.csv\",index=False)"
   ]
  },
  {
   "cell_type": "code",
   "execution_count": 43,
   "metadata": {},
   "outputs": [
    {
     "name": "stdout",
     "output_type": "stream",
     "text": [
      "Test: accuracy = 0.140000  ;  loss = 2.212551 \n"
     ]
    }
   ],
   "source": [
    "loss, accuracy = model.evaluate_generator(test_generator)\n",
    "print(\"Test: accuracy = %f  ;  loss = %f \" % (accuracy, loss))"
   ]
  },
  {
   "cell_type": "code",
   "execution_count": 44,
   "metadata": {},
   "outputs": [
    {
     "name": "stdout",
     "output_type": "stream",
     "text": [
      "Accuracy:  0.14\n",
      "Precision:  0.05567901234567901\n",
      "Recall:  0.14\n",
      "F1 Score:  0.06357802197802197\n"
     ]
    }
   ],
   "source": [
    "accuracy = skm.accuracy_score(y_true, y_pred)\n",
    "precision = skm.precision_score(y_true, y_pred, average='weighted')\n",
    "recall = skm.recall_score(y_true, y_pred, average='weighted')\n",
    "f1score = skm.f1_score(y_true, y_pred, average='weighted')\n",
    "\n",
    "print(\"Accuracy: \", accuracy)\n",
    "print(\"Precision: \", precision)\n",
    "print(\"Recall: \", recall)\n",
    "print(\"F1 Score: \", f1score)"
   ]
  },
  {
   "cell_type": "code",
   "execution_count": 45,
   "metadata": {},
   "outputs": [
    {
     "data": {
      "image/png": "[encoded data removed]",
      "text/plain": [
       "<Figure size 500x500 with 1 Axes>"
      ]
     },
     "metadata": {},
     "output_type": "display_data"
    }
   ],
   "source": [
    "cnf_matrix = confusion_matrix(y_true, y_pred, labels=class_names)\n",
    "np.set_printoptions(precision=2)\n",
    "\n",
    "fig, ax = plt.subplots(figsize=(5, 5))\n",
    "ax.matshow(cnf_matrix, cmap=plt.cm.Blues, alpha=0.3)\n",
    "plt.gca().xaxis.tick_bottom()\n",
    "\n",
    "tick_marks = np.arange(len(cifar10_classes))\n",
    "plt.xticks(tick_marks, cifar10_classes, rotation=45)\n",
    "plt.yticks(tick_marks, cifar10_classes)\n",
    "\n",
    "for i in range(cnf_matrix.shape[0]):\n",
    "    for j in range(cnf_matrix.shape[1]):\n",
    "        ax.text(x=j, y=i,s=cnf_matrix[i, j], va='center', ha='center')\n",
    "\n",
    "plt.xlabel('Predição', fontsize=13)\n",
    "plt.ylabel('Real', fontsize=13)\n",
    "plt.title('Matriz de Confusão', fontsize=18)\n",
    "plt.show()"
   ]
  },
  {
   "cell_type": "code",
   "execution_count": null,
   "metadata": {},
   "outputs": [],
   "source": []
  },
  {
   "cell_type": "code",
   "execution_count": 46,
   "metadata": {},
   "outputs": [],
   "source": [
    "# loss, accuracy = model.evaluate_generator(generator=valid_generator)\n",
    "# print(\"Test: accuracy = %f  ;  loss = %f \" % (accuracy, loss))"
   ]
  },
  {
   "cell_type": "code",
   "execution_count": 47,
   "metadata": {},
   "outputs": [],
   "source": [
    "# test_generator.reset()\n",
    "# pred=model.predict_generator(test_generator)\n",
    "\n",
    "# predicted_class_indices=np.argmax(pred,axis=1)"
   ]
  },
  {
   "cell_type": "code",
   "execution_count": 48,
   "metadata": {},
   "outputs": [],
   "source": [
    "# labels = (train_generator.class_indices)\n",
    "# labels = dict((v,k) for k,v in labels.items())\n",
    "# predictions = [labels[k] for k in predicted_class_indices]"
   ]
  },
  {
   "cell_type": "code",
   "execution_count": 49,
   "metadata": {},
   "outputs": [
    {
     "name": "stdout",
     "output_type": "stream",
     "text": [
      "Modelo salvo com o nome:  trained_model_deep_learning2023-07-02T0155.h5\n"
     ]
    }
   ],
   "source": [
    "model_dir = \"./trained_models/\"\n",
    "create_directory(model_dir)\n",
    "\n",
    "# obtendo a data e hora atual\n",
    "now = datetime.now()\n",
    "\n",
    "# Definição do formato\n",
    "format = '%Y-%m-%dT%H%M'\n",
    "\n",
    "# Converter a data e hora em uma string com o formato especificado\n",
    "formatted_datetime = now.strftime(format)\n",
    "\n",
    "model_name = 'trained_model_deep_learning' + formatted_datetime + '.h5'\n",
    "\n",
    "# salvando o modelo\n",
    "model.save(\"%s/%s\" % (model_dir, model_name))\n",
    "print(\"Modelo salvo com o nome: \", model_name)"
   ]
  },
  {
   "cell_type": "code",
   "execution_count": 50,
   "metadata": {},
   "outputs": [
    {
     "name": "stdout",
     "output_type": "stream",
     "text": [
      "Modelo trained_model_deep_learning2023-07-02T0155.h5 carregado com sucesso\n"
     ]
    }
   ],
   "source": [
    "model_loaded = keras.models.load_model(\"%s/%s\" % (model_dir, model_name))\n",
    "print(\"Modelo %s carregado com sucesso\" % (model_name))"
   ]
  },
  {
   "cell_type": "code",
   "execution_count": 52,
   "metadata": {},
   "outputs": [
    {
     "name": "stdout",
     "output_type": "stream",
     "text": [
      "WARNING:tensorflow:5 out of the last 9 calls to <function Model.make_predict_function.<locals>.predict_function at 0x00000228506AAC00> triggered tf.function retracing. Tracing is expensive and the excessive number of tracings could be due to (1) creating @tf.function repeatedly in a loop, (2) passing tensors with different shapes, (3) passing Python objects instead of tensors. For (1), please define your @tf.function outside of the loop. For (2), @tf.function has reduce_retracing=True option that can avoid unnecessary retracing. For (3), please refer to https://www.tensorflow.org/guide/function#controlling_retracing and https://www.tensorflow.org/api_docs/python/tf/function for  more details.\n",
      "1/1 [==============================] - 0s 60ms/step\n",
      "1/1 [==============================] - 0s 18ms/step\n",
      "1/1 [==============================] - 0s 18ms/step\n",
      "WARNING:tensorflow:6 out of the last 12 calls to <function Model.make_predict_function.<locals>.predict_function at 0x00000228506AAC00> triggered tf.function retracing. Tracing is expensive and the excessive number of tracings could be due to (1) creating @tf.function repeatedly in a loop, (2) passing tensors with different shapes, (3) passing Python objects instead of tensors. For (1), please define your @tf.function outside of the loop. For (2), @tf.function has reduce_retracing=True option that can avoid unnecessary retracing. For (3), please refer to https://www.tensorflow.org/guide/function#controlling_retracing and https://www.tensorflow.org/api_docs/python/tf/function for  more details.\n",
      "1/1 [==============================] - 0s 60ms/step\n"
     ]
    }
   ],
   "source": [
    "test_generator.reset()\n",
    "\n",
    "count = 0\n",
    "y_pred = list()\n",
    "y_true = list()\n",
    "class_names = cifar10_classes\n",
    "\n",
    "# Loop do data generator de teste que contem as imagens\n",
    "for batch in test_generator:\n",
    "\n",
    "    count+=1\n",
    "\n",
    "    # Condição de saída do loop. Só executaremos o modelo em algumas imagens\n",
    "    if count == len(test_generator)+1:\n",
    "        break\n",
    "\n",
    "    else:\n",
    "        # Pegando a imagem e o label\n",
    "        images = batch[0]\n",
    "        labels = batch[1]\n",
    "\n",
    "        # Previsão\n",
    "        predictions = model_loaded.predict(images)\n",
    "\n",
    "        # Visualização da imagem\n",
    "        for i in range(len(images)):\n",
    "\n",
    "            image = images[i]\n",
    "            label = labels[i]\n",
    "\n",
    "            prediction = predictions[i]\n",
    "\n",
    "            # Converte o array de previsão para visualizar a classe e a probabilidade\n",
    "            predicted_class = np.argmax(prediction)\n",
    "            probability = prediction[predicted_class]\n",
    "\n",
    "            labeled_class = np.argmax(label)\n",
    "            label = class_names[int(labeled_class)]\n",
    "\n",
    "            y_true.append(label)\n",
    "\n",
    "            # Faz o DE-PARA da probabilidade com o tipo de classe da previsão\n",
    "            # class_name = 'dog' if prediction >= 0.5 else 'cat'\n",
    "\n",
    "            class_name = class_names[int(predicted_class)]\n",
    "\n",
    "            y_pred.append(class_name)\n",
    "\n",
    "            # # Configura a saída das imagens que serão visualizadas\n",
    "            # plt.figure(figsize=(.5, .5))\n",
    "            # plt.imshow(image)\n",
    "            # plt.axis('Off')\n",
    "            # plt.show()\n",
    "\n",
    "            # print('%s : %s : %f' % (label, class_name, probability))"
   ]
  },
  {
   "cell_type": "code",
   "execution_count": 53,
   "metadata": {},
   "outputs": [],
   "source": [
    "filenames=test_generator.filenames\n",
    "results=pd.DataFrame({\"Filename\":filenames,\n",
    "                      \"Predictions\":y_pred})\n",
    "results.to_csv(\"results_deep_learning_trained.csv\",index=False)"
   ]
  }
 ],
 "metadata": {
  "kernelspec": {
   "display_name": "Python 3",
   "language": "python",
   "name": "python3"
  },
  "language_info": {
   "codemirror_mode": {
    "name": "ipython",
    "version": 3
   },
   "file_extension": ".py",
   "mimetype": "text/x-python",
   "name": "python",
   "nbconvert_exporter": "python",
   "pygments_lexer": "ipython3",
   "version": "3.11.4"
  },
  "orig_nbformat": 4
 },
 "nbformat": 4,
 "nbformat_minor": 2
}
