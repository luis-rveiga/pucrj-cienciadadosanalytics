{
 "cells": [
  {
   "cell_type": "code",
   "execution_count": 42,
   "metadata": {},
   "outputs": [],
   "source": [
    "# Configuração para não exibir os warnings\n",
    "import warnings\n",
    "warnings.filterwarnings(\"ignore\")\n",
    "\n",
    "# Imports necessários\n",
    "from keras.preprocessing.image import ImageDataGenerator\n",
    "from keras import layers\n",
    "from keras import models\n",
    "import os\n",
    "from sklearn.model_selection import train_test_split\n",
    "import numpy as np\n",
    "import pandas as pd\n",
    "import matplotlib.pyplot as plt\n",
    "import matplotlib.image as mpimg\n",
    "from datetime import datetime\n",
    "from tensorflow import keras\n",
    "from sklearn.metrics import confusion_matrix, classification_report\n",
    "import sklearn.metrics as skm\n",
    "import numpy as np\n",
    "import matplotlib.pyplot as plt"
   ]
  },
  {
   "cell_type": "code",
   "execution_count": 43,
   "metadata": {},
   "outputs": [],
   "source": [
    "def prepare_dataset(X_dataset, y_dataset, classes, n_samples):\n",
    "    if n_samples is None:\n",
    "        img_samples = X_dataset.shape[0]\n",
    "    else:\n",
    "        img_samples = n_samples\n",
    "\n",
    "    df_aux = pd.DataFrame(columns=['id', 'label'])\n",
    "\n",
    "    list_aux = []\n",
    "\n",
    "    for i in range(img_samples):\n",
    "        nm_file = str(i)+'-'+str([classes[x] for x in y_dataset[i]]).strip('[]').strip('\\'')+'.'+'png'\n",
    "        sample = {'id':nm_file, 'label':str([classes[x] for x in y_dataset[i]]).strip('[]').strip('\\'')}\n",
    "        list_aux.append(sample)\n",
    "\n",
    "    return pd.concat([df_aux, pd.DataFrame(list_aux)], ignore_index=True)\n",
    "\n",
    "\n",
    "def create_files(X_dataset, y_dataset, classes, dir, n_samples):\n",
    "    if n_samples is None:\n",
    "        img_samples = X_dataset.shape[0]\n",
    "    else:\n",
    "        img_samples = n_samples\n",
    "\n",
    "    for i in range(img_samples):\n",
    "        nm_file = str(i)+'-'+str([classes[x] for x in y_dataset[i]]).strip('[]').strip('\\'')+'.'+'png'\n",
    "        img = X_dataset[i]\n",
    "        plt.imsave(dir + nm_file, img)\n",
    "\n",
    "\n",
    "def create_directory(dir):\n",
    "    if os.path.exists(dir):\n",
    "        for file in os.listdir(dir):\n",
    "            os.remove(dir+file)\n",
    "    else:\n",
    "        os.makedirs(dir)\n",
    "\n",
    "\n",
    "def plot_loss(history):  \n",
    "    plt.plot(history.history['loss'])\n",
    "    plt.plot(history.history['val_loss'])\n",
    "    plt.title('Gráfico loss X epoch')\n",
    "    plt.ylabel('loss')\n",
    "    plt.xlabel('epoch')\n",
    "    plt.legend(['train', 'validation'], loc='upper left')\n",
    "    plt.show()"
   ]
  },
  {
   "cell_type": "code",
   "execution_count": 44,
   "metadata": {},
   "outputs": [],
   "source": [
    "from keras.datasets import cifar10\n",
    "\n",
    "(X_train, y_train), (X_test, y_test) = cifar10.load_data()\n",
    "\n",
    "cifar10_classes = ['airplane', 'automobile', 'bird', 'cat', 'deer', 'dog', 'frog', 'horse', 'ship', 'truck']"
   ]
  },
  {
   "cell_type": "code",
   "execution_count": 61,
   "metadata": {},
   "outputs": [],
   "source": [
    "train_dir = \"./train/\"\n",
    "test_dir = \"./test/\" \n",
    "\n",
    "create_directory(train_dir)\n",
    "create_directory(test_dir)"
   ]
  },
  {
   "cell_type": "code",
   "execution_count": 46,
   "metadata": {},
   "outputs": [
    {
     "data": {
      "text/html": [
       "<div>\n",
       "<style scoped>\n",
       "    .dataframe tbody tr th:only-of-type {\n",
       "        vertical-align: middle;\n",
       "    }\n",
       "\n",
       "    .dataframe tbody tr th {\n",
       "        vertical-align: top;\n",
       "    }\n",
       "\n",
       "    .dataframe thead th {\n",
       "        text-align: right;\n",
       "    }\n",
       "</style>\n",
       "<table border=\"1\" class=\"dataframe\">\n",
       "  <thead>\n",
       "    <tr style=\"text-align: right;\">\n",
       "      <th></th>\n",
       "      <th>id</th>\n",
       "      <th>label</th>\n",
       "    </tr>\n",
       "  </thead>\n",
       "  <tbody>\n",
       "    <tr>\n",
       "      <th>0</th>\n",
       "      <td>0-frog.png</td>\n",
       "      <td>frog</td>\n",
       "    </tr>\n",
       "    <tr>\n",
       "      <th>1</th>\n",
       "      <td>1-truck.png</td>\n",
       "      <td>truck</td>\n",
       "    </tr>\n",
       "    <tr>\n",
       "      <th>2</th>\n",
       "      <td>2-truck.png</td>\n",
       "      <td>truck</td>\n",
       "    </tr>\n",
       "    <tr>\n",
       "      <th>3</th>\n",
       "      <td>3-deer.png</td>\n",
       "      <td>deer</td>\n",
       "    </tr>\n",
       "    <tr>\n",
       "      <th>4</th>\n",
       "      <td>4-automobile.png</td>\n",
       "      <td>automobile</td>\n",
       "    </tr>\n",
       "  </tbody>\n",
       "</table>\n",
       "</div>"
      ],
      "text/plain": [
       "                 id       label\n",
       "0        0-frog.png        frog\n",
       "1       1-truck.png       truck\n",
       "2       2-truck.png       truck\n",
       "3        3-deer.png        deer\n",
       "4  4-automobile.png  automobile"
      ]
     },
     "execution_count": 46,
     "metadata": {},
     "output_type": "execute_result"
    }
   ],
   "source": [
    "train_samples = X_train.shape[0]\n",
    "\n",
    "create_files(X_train, y_train, cifar10_classes, train_dir, train_samples)\n",
    "\n",
    "train_df = prepare_dataset(X_train, y_train, cifar10_classes, train_samples)\n",
    "\n",
    "train_df.head()"
   ]
  },
  {
   "cell_type": "code",
   "execution_count": 47,
   "metadata": {},
   "outputs": [
    {
     "data": {
      "text/html": [
       "<div>\n",
       "<style scoped>\n",
       "    .dataframe tbody tr th:only-of-type {\n",
       "        vertical-align: middle;\n",
       "    }\n",
       "\n",
       "    .dataframe tbody tr th {\n",
       "        vertical-align: top;\n",
       "    }\n",
       "\n",
       "    .dataframe thead th {\n",
       "        text-align: right;\n",
       "    }\n",
       "</style>\n",
       "<table border=\"1\" class=\"dataframe\">\n",
       "  <thead>\n",
       "    <tr style=\"text-align: right;\">\n",
       "      <th></th>\n",
       "      <th>id</th>\n",
       "      <th>label</th>\n",
       "    </tr>\n",
       "  </thead>\n",
       "  <tbody>\n",
       "    <tr>\n",
       "      <th>0</th>\n",
       "      <td>0-cat.png</td>\n",
       "      <td>cat</td>\n",
       "    </tr>\n",
       "    <tr>\n",
       "      <th>1</th>\n",
       "      <td>1-ship.png</td>\n",
       "      <td>ship</td>\n",
       "    </tr>\n",
       "    <tr>\n",
       "      <th>2</th>\n",
       "      <td>2-ship.png</td>\n",
       "      <td>ship</td>\n",
       "    </tr>\n",
       "    <tr>\n",
       "      <th>3</th>\n",
       "      <td>3-airplane.png</td>\n",
       "      <td>airplane</td>\n",
       "    </tr>\n",
       "    <tr>\n",
       "      <th>4</th>\n",
       "      <td>4-frog.png</td>\n",
       "      <td>frog</td>\n",
       "    </tr>\n",
       "  </tbody>\n",
       "</table>\n",
       "</div>"
      ],
      "text/plain": [
       "               id     label\n",
       "0       0-cat.png       cat\n",
       "1      1-ship.png      ship\n",
       "2      2-ship.png      ship\n",
       "3  3-airplane.png  airplane\n",
       "4      4-frog.png      frog"
      ]
     },
     "execution_count": 47,
     "metadata": {},
     "output_type": "execute_result"
    }
   ],
   "source": [
    "test_samples = X_test.shape[0]\n",
    "\n",
    "create_files(X_test, y_test, cifar10_classes, test_dir, test_samples)\n",
    "\n",
    "test_df = prepare_dataset(X_test, y_test, cifar10_classes, test_samples)\n",
    "\n",
    "test_df.head()"
   ]
  },
  {
   "cell_type": "code",
   "execution_count": 48,
   "metadata": {},
   "outputs": [
    {
     "name": "stdout",
     "output_type": "stream",
     "text": [
      "label\n",
      "frog          5000\n",
      "truck         5000\n",
      "deer          5000\n",
      "automobile    5000\n",
      "bird          5000\n",
      "horse         5000\n",
      "ship          5000\n",
      "cat           5000\n",
      "dog           5000\n",
      "airplane      5000\n",
      "Name: count, dtype: int64\n"
     ]
    },
    {
     "data": {
      "text/plain": [
       "<Axes: title={'center': 'Dados para Treinamento por classe'}, xlabel='label'>"
      ]
     },
     "execution_count": 48,
     "metadata": {},
     "output_type": "execute_result"
    },
    {
     "data": {
      "image/png": "[encoded data removed]",
      "text/plain": [
       "<Figure size 640x480 with 1 Axes>"
      ]
     },
     "metadata": {},
     "output_type": "display_data"
    }
   ],
   "source": [
    "print((train_df['label']).value_counts())\n",
    "train_df['label'].value_counts().plot.bar(title='Dados para Treinamento por classe')"
   ]
  },
  {
   "cell_type": "code",
   "execution_count": 49,
   "metadata": {},
   "outputs": [
    {
     "name": "stdout",
     "output_type": "stream",
     "text": [
      "label\n",
      "cat           1000\n",
      "ship          1000\n",
      "airplane      1000\n",
      "frog          1000\n",
      "automobile    1000\n",
      "truck         1000\n",
      "dog           1000\n",
      "horse         1000\n",
      "deer          1000\n",
      "bird          1000\n",
      "Name: count, dtype: int64\n"
     ]
    },
    {
     "data": {
      "text/plain": [
       "<Axes: title={'center': 'Dados para Teste por classe'}, xlabel='label'>"
      ]
     },
     "execution_count": 49,
     "metadata": {},
     "output_type": "execute_result"
    },
    {
     "data": {
      "image/png": "[encoded data removed]",
      "text/plain": [
       "<Figure size 640x480 with 1 Axes>"
      ]
     },
     "metadata": {},
     "output_type": "display_data"
    }
   ],
   "source": [
    "print((test_df['label']).value_counts())\n",
    "test_df['label'].value_counts().plot.bar(title='Dados para Teste por classe')"
   ]
  },
  {
   "cell_type": "code",
   "execution_count": 50,
   "metadata": {},
   "outputs": [
    {
     "name": "stdout",
     "output_type": "stream",
     "text": [
      "Total de imagens para treinamento: 50000\n",
      "Total de imagens para teste      : 10000\n"
     ]
    }
   ],
   "source": [
    "print('Total de imagens para treinamento: %s' % len(os.listdir(train_dir)))\n",
    "print('Total de imagens para teste      : %s' % len(os.listdir(test_dir)))"
   ]
  },
  {
   "cell_type": "code",
   "execution_count": 64,
   "metadata": {},
   "outputs": [
    {
     "name": "stdout",
     "output_type": "stream",
     "text": [
      "Classes: ['frog', 'truck', 'truck', 'deer', 'automobile']\n"
     ]
    },
    {
     "data": {
      "image/png": "[encoded data removed]",
      "text/plain": [
       "<Figure size 600x600 with 5 Axes>"
      ]
     },
     "metadata": {},
     "output_type": "display_data"
    }
   ],
   "source": [
    "fig, x = plt.subplots(1, 5)\n",
    "fig.set_size_inches(6, 6)\n",
    "\n",
    "print('Classes: ' + str([cifar10_classes[x[0]] for x in y_train[0:5]]))\n",
    "\n",
    "for i in range(5):\n",
    "    image = X_train[i]\n",
    "    x[i].imshow(image)\n",
    "\n",
    "plt.show()"
   ]
  },
  {
   "cell_type": "code",
   "execution_count": 52,
   "metadata": {},
   "outputs": [
    {
     "name": "stdout",
     "output_type": "stream",
     "text": [
      "Found 37500 validated image filenames belonging to 10 classes.\n",
      "Found 12500 validated image filenames belonging to 10 classes.\n"
     ]
    }
   ],
   "source": [
    "train_datagen=ImageDataGenerator(rescale=1.0/255.0,\n",
    "                                validation_split=0.25,\n",
    "                                rotation_range=30,\n",
    "                                width_shift_range=0.2,\n",
    "                                height_shift_range=0.2,\n",
    "                                horizontal_flip=True                                \n",
    "                                )\n",
    "\n",
    "train_generator=train_datagen.flow_from_dataframe(\n",
    "dataframe=train_df,\n",
    "directory=train_dir,\n",
    "x_col=\"id\",\n",
    "y_col=\"label\",\n",
    "subset=\"training\",\n",
    "batch_size=32,\n",
    "seed=42,\n",
    "shuffle=True,\n",
    "class_mode=\"categorical\",\n",
    "target_size=(32,32))\n",
    "\n",
    "valid_generator=train_datagen.flow_from_dataframe(\n",
    "dataframe=train_df,\n",
    "directory=train_dir,\n",
    "x_col=\"id\",\n",
    "y_col=\"label\",\n",
    "subset=\"validation\",\n",
    "batch_size=32,\n",
    "seed=42,\n",
    "shuffle=True,\n",
    "class_mode=\"categorical\",\n",
    "target_size=(32,32))"
   ]
  },
  {
   "cell_type": "code",
   "execution_count": 53,
   "metadata": {},
   "outputs": [
    {
     "name": "stdout",
     "output_type": "stream",
     "text": [
      "Found 10000 validated image filenames belonging to 10 classes.\n"
     ]
    }
   ],
   "source": [
    "test_datagen=ImageDataGenerator(rescale=1.0/255.0)\n",
    "\n",
    "test_generator=test_datagen.flow_from_dataframe(\n",
    "dataframe=test_df,\n",
    "directory=test_dir,\n",
    "x_col=\"id\",\n",
    "y_col=\"label\",\n",
    "batch_size=32,\n",
    "seed=42,\n",
    "shuffle=False,\n",
    "class_mode=\"categorical\",\n",
    "target_size=(32,32))"
   ]
  },
  {
   "cell_type": "code",
   "execution_count": 54,
   "metadata": {},
   "outputs": [],
   "source": [
    "train_step_size = train_generator.n//train_generator.batch_size\n",
    "validation_step_size = valid_generator.n//valid_generator.batch_size"
   ]
  },
  {
   "cell_type": "code",
   "execution_count": 55,
   "metadata": {},
   "outputs": [],
   "source": [
    "# Modelo 1\n",
    "\n",
    "model = models.Sequential()\n",
    "\n",
    "model.add(layers.Conv2D(32, (3, 3), input_shape=(32,32,3), activation='relu'))\n",
    "\n",
    "model.add(layers.Conv2D(64, (3, 3), activation='relu'))\n",
    "model.add(layers.MaxPooling2D(pool_size=(2, 2)))\n",
    "\n",
    "model.add(layers.Conv2D(64, (3, 3), activation='relu'))\n",
    "model.add(layers.MaxPooling2D(pool_size=(2, 2)))\n",
    "\n",
    "model.add(layers.Conv2D(128, (3, 3), activation='relu'))\n",
    "model.add(layers.MaxPooling2D(pool_size=(2, 2)))\n",
    "\n",
    "model.add(layers.Flatten())\n",
    "model.add(layers.Dense(512, activation='relu'))\n",
    "model.add(layers.Dense(10, activation='softmax'))\n",
    "\n",
    "model.compile(optimizer='adam', loss='categorical_crossentropy', metrics=['accuracy'])"
   ]
  },
  {
   "cell_type": "code",
   "execution_count": 56,
   "metadata": {},
   "outputs": [
    {
     "name": "stdout",
     "output_type": "stream",
     "text": [
      "Epoch 1/30\n",
      "1171/1171 [==============================] - 84s 71ms/step - loss: 1.7815 - accuracy: 0.3375 - val_loss: 1.5308 - val_accuracy: 0.4339\n",
      "Epoch 2/30\n",
      "1171/1171 [==============================] - 86s 73ms/step - loss: 1.4462 - accuracy: 0.4741 - val_loss: 1.3751 - val_accuracy: 0.5002\n",
      "Epoch 3/30\n",
      "1171/1171 [==============================] - 88s 75ms/step - loss: 1.3051 - accuracy: 0.5293 - val_loss: 1.2410 - val_accuracy: 0.5543\n",
      "Epoch 4/30\n",
      "1171/1171 [==============================] - 82s 70ms/step - loss: 1.2104 - accuracy: 0.5673 - val_loss: 1.1794 - val_accuracy: 0.5761\n",
      "Epoch 5/30\n",
      "1171/1171 [==============================] - 79s 67ms/step - loss: 1.1516 - accuracy: 0.5890 - val_loss: 1.1236 - val_accuracy: 0.5992\n",
      "Epoch 6/30\n",
      "1171/1171 [==============================] - 81s 69ms/step - loss: 1.0973 - accuracy: 0.6088 - val_loss: 1.0844 - val_accuracy: 0.6173\n",
      "Epoch 7/30\n",
      "1171/1171 [==============================] - 84s 72ms/step - loss: 1.0646 - accuracy: 0.6231 - val_loss: 1.0536 - val_accuracy: 0.6252\n",
      "Epoch 8/30\n",
      "1171/1171 [==============================] - 83s 71ms/step - loss: 1.0319 - accuracy: 0.6341 - val_loss: 1.0201 - val_accuracy: 0.6397\n",
      "Epoch 9/30\n",
      "1171/1171 [==============================] - 78s 66ms/step - loss: 1.0062 - accuracy: 0.6424 - val_loss: 1.0105 - val_accuracy: 0.6443\n",
      "Epoch 10/30\n",
      "1171/1171 [==============================] - 85s 72ms/step - loss: 0.9815 - accuracy: 0.6546 - val_loss: 1.0105 - val_accuracy: 0.6432\n",
      "Epoch 11/30\n",
      "1171/1171 [==============================] - 90s 77ms/step - loss: 0.9676 - accuracy: 0.6560 - val_loss: 0.9968 - val_accuracy: 0.6452\n",
      "Epoch 12/30\n",
      "1171/1171 [==============================] - 92s 79ms/step - loss: 0.9439 - accuracy: 0.6670 - val_loss: 0.9564 - val_accuracy: 0.6639\n",
      "Epoch 13/30\n",
      "1171/1171 [==============================] - 91s 78ms/step - loss: 0.9375 - accuracy: 0.6735 - val_loss: 1.0037 - val_accuracy: 0.6452\n",
      "Epoch 14/30\n",
      "1171/1171 [==============================] - 92s 78ms/step - loss: 0.9232 - accuracy: 0.6766 - val_loss: 0.9617 - val_accuracy: 0.6621\n",
      "Epoch 15/30\n",
      "1171/1171 [==============================] - 97s 83ms/step - loss: 0.9133 - accuracy: 0.6770 - val_loss: 0.9303 - val_accuracy: 0.6724\n",
      "Epoch 16/30\n",
      "1171/1171 [==============================] - 96s 82ms/step - loss: 0.8928 - accuracy: 0.6851 - val_loss: 0.9092 - val_accuracy: 0.6812\n",
      "Epoch 17/30\n",
      "1171/1171 [==============================] - 94s 81ms/step - loss: 0.8792 - accuracy: 0.6918 - val_loss: 0.9236 - val_accuracy: 0.6776\n",
      "Epoch 18/30\n",
      "1171/1171 [==============================] - 93s 80ms/step - loss: 0.8772 - accuracy: 0.6927 - val_loss: 0.9504 - val_accuracy: 0.6723\n",
      "Epoch 19/30\n",
      "1171/1171 [==============================] - 93s 79ms/step - loss: 0.8686 - accuracy: 0.6951 - val_loss: 0.9451 - val_accuracy: 0.6732\n",
      "Epoch 20/30\n",
      "1171/1171 [==============================] - 86s 74ms/step - loss: 0.8624 - accuracy: 0.6969 - val_loss: 0.9234 - val_accuracy: 0.6776\n",
      "Epoch 21/30\n",
      "1171/1171 [==============================] - 78s 67ms/step - loss: 0.8495 - accuracy: 0.7006 - val_loss: 0.9250 - val_accuracy: 0.6823\n",
      "Epoch 22/30\n",
      "1171/1171 [==============================] - 86s 73ms/step - loss: 0.8457 - accuracy: 0.7034 - val_loss: 0.8884 - val_accuracy: 0.6938\n",
      "Epoch 23/30\n",
      "1171/1171 [==============================] - 91s 78ms/step - loss: 0.8410 - accuracy: 0.7035 - val_loss: 0.8791 - val_accuracy: 0.6900\n",
      "Epoch 24/30\n",
      "1171/1171 [==============================] - 94s 81ms/step - loss: 0.8305 - accuracy: 0.7098 - val_loss: 0.8806 - val_accuracy: 0.6951\n",
      "Epoch 25/30\n",
      "1171/1171 [==============================] - 93s 80ms/step - loss: 0.8278 - accuracy: 0.7128 - val_loss: 0.8669 - val_accuracy: 0.6970\n",
      "Epoch 26/30\n",
      "1171/1171 [==============================] - 95s 81ms/step - loss: 0.8160 - accuracy: 0.7141 - val_loss: 0.8978 - val_accuracy: 0.6901\n",
      "Epoch 27/30\n",
      "1171/1171 [==============================] - 96s 82ms/step - loss: 0.8136 - accuracy: 0.7160 - val_loss: 0.8967 - val_accuracy: 0.6868\n",
      "Epoch 28/30\n",
      "1171/1171 [==============================] - 88s 75ms/step - loss: 0.8164 - accuracy: 0.7133 - val_loss: 0.8908 - val_accuracy: 0.6931\n",
      "Epoch 29/30\n",
      "1171/1171 [==============================] - 95s 81ms/step - loss: 0.8074 - accuracy: 0.7190 - val_loss: 0.8326 - val_accuracy: 0.7115\n",
      "Epoch 30/30\n",
      "1171/1171 [==============================] - 91s 78ms/step - loss: 0.8016 - accuracy: 0.7207 - val_loss: 0.8489 - val_accuracy: 0.7031\n"
     ]
    }
   ],
   "source": [
    "history = model.fit_generator(generator=train_generator,\n",
    "          validation_data=valid_generator,\n",
    "          steps_per_epoch=train_step_size,\n",
    "          validation_steps=validation_step_size,\n",
    "          epochs=30)"
   ]
  },
  {
   "cell_type": "code",
   "execution_count": 57,
   "metadata": {},
   "outputs": [
    {
     "data": {
      "image/png": "[encoded data removed]",
      "text/plain": [
       "<Figure size 640x480 with 1 Axes>"
      ]
     },
     "metadata": {},
     "output_type": "display_data"
    }
   ],
   "source": [
    "plot_loss(history)"
   ]
  },
  {
   "cell_type": "code",
   "execution_count": 58,
   "metadata": {},
   "outputs": [
    {
     "name": "stdout",
     "output_type": "stream",
     "text": [
      "Test: accuracy = 0.757100  ;  loss = 0.717708 \n"
     ]
    }
   ],
   "source": [
    "loss, accuracy = model.evaluate_generator(test_generator)\n",
    "print(\"Test: accuracy = %f  ;  loss = %f \" % (accuracy, loss))"
   ]
  },
  {
   "cell_type": "code",
   "execution_count": 59,
   "metadata": {},
   "outputs": [],
   "source": [
    "# Modelo 2\n",
    "\n",
    "model = models.Sequential()\n",
    "\n",
    "model.add(layers.Conv2D(32, (3, 3), input_shape=(32,32,3), activation='relu'))\n",
    "\n",
    "model.add(layers.Conv2D(64, (3, 3), activation='relu'))\n",
    "model.add(layers.MaxPooling2D(pool_size=(2, 2)))\n",
    "model.add(layers.Dropout(0.25))\n",
    "\n",
    "model.add(layers.Conv2D(64, (3, 3), activation='relu'))\n",
    "model.add(layers.MaxPooling2D(pool_size=(2, 2)))\n",
    "model.add(layers.Dropout(0.25))\n",
    "\n",
    "model.add(layers.Conv2D(128, (3, 3), activation='relu'))\n",
    "model.add(layers.MaxPooling2D(pool_size=(2, 2)))\n",
    "model.add(layers.Dropout(0.25))\n",
    "\n",
    "model.add(layers.Flatten())\n",
    "model.add(layers.Dense(512, activation='relu'))\n",
    "model.add(layers.Dropout(0.25))\n",
    "model.add(layers.Dense(10, activation='softmax'))\n",
    "\n",
    "model.compile(optimizer='adam', loss='categorical_crossentropy', metrics=['accuracy'])"
   ]
  },
  {
   "cell_type": "code",
   "execution_count": 60,
   "metadata": {},
   "outputs": [
    {
     "name": "stdout",
     "output_type": "stream",
     "text": [
      "Epoch 1/30\n",
      "1171/1171 [==============================] - 87s 74ms/step - loss: 1.8612 - accuracy: 0.2988 - val_loss: 1.6848 - val_accuracy: 0.3778\n",
      "Epoch 2/30\n",
      "1171/1171 [==============================] - 93s 80ms/step - loss: 1.5793 - accuracy: 0.4202 - val_loss: 1.4641 - val_accuracy: 0.4631\n",
      "Epoch 3/30\n",
      "1171/1171 [==============================] - 84s 72ms/step - loss: 1.4631 - accuracy: 0.4692 - val_loss: 1.3803 - val_accuracy: 0.5016\n",
      "Epoch 4/30\n",
      "1171/1171 [==============================] - 84s 72ms/step - loss: 1.3902 - accuracy: 0.4966 - val_loss: 1.3687 - val_accuracy: 0.5116\n",
      "Epoch 5/30\n",
      "1171/1171 [==============================] - 82s 70ms/step - loss: 1.3497 - accuracy: 0.5140 - val_loss: 1.2697 - val_accuracy: 0.5435\n",
      "Epoch 6/30\n",
      "1171/1171 [==============================] - 90s 77ms/step - loss: 1.3144 - accuracy: 0.5314 - val_loss: 1.2298 - val_accuracy: 0.5585\n",
      "Epoch 7/30\n",
      "1171/1171 [==============================] - 92s 78ms/step - loss: 1.2867 - accuracy: 0.5414 - val_loss: 1.2282 - val_accuracy: 0.5587\n",
      "Epoch 8/30\n",
      "1171/1171 [==============================] - 89s 76ms/step - loss: 1.2605 - accuracy: 0.5501 - val_loss: 1.1687 - val_accuracy: 0.5819\n",
      "Epoch 9/30\n",
      "1171/1171 [==============================] - 88s 75ms/step - loss: 1.2482 - accuracy: 0.5559 - val_loss: 1.2158 - val_accuracy: 0.5685\n",
      "Epoch 10/30\n",
      "1171/1171 [==============================] - 86s 73ms/step - loss: 1.2292 - accuracy: 0.5636 - val_loss: 1.1366 - val_accuracy: 0.5943\n",
      "Epoch 11/30\n",
      "1171/1171 [==============================] - 88s 75ms/step - loss: 1.2051 - accuracy: 0.5745 - val_loss: 1.0892 - val_accuracy: 0.6131\n",
      "Epoch 12/30\n",
      "1171/1171 [==============================] - 88s 75ms/step - loss: 1.2050 - accuracy: 0.5745 - val_loss: 1.1302 - val_accuracy: 0.6042\n",
      "Epoch 13/30\n",
      "1171/1171 [==============================] - 83s 71ms/step - loss: 1.1917 - accuracy: 0.5779 - val_loss: 1.0894 - val_accuracy: 0.6192\n",
      "Epoch 14/30\n",
      "1171/1171 [==============================] - 90s 77ms/step - loss: 1.1841 - accuracy: 0.5812 - val_loss: 1.0993 - val_accuracy: 0.6107\n",
      "Epoch 15/30\n",
      "1171/1171 [==============================] - 89s 76ms/step - loss: 1.1653 - accuracy: 0.5889 - val_loss: 1.0682 - val_accuracy: 0.6228\n",
      "Epoch 16/30\n",
      "1171/1171 [==============================] - 87s 74ms/step - loss: 1.1643 - accuracy: 0.5879 - val_loss: 1.0389 - val_accuracy: 0.6357\n",
      "Epoch 17/30\n",
      "1171/1171 [==============================] - 89s 76ms/step - loss: 1.1543 - accuracy: 0.5924 - val_loss: 1.0671 - val_accuracy: 0.6269\n",
      "Epoch 18/30\n",
      "1171/1171 [==============================] - 85s 73ms/step - loss: 1.1508 - accuracy: 0.5938 - val_loss: 1.0625 - val_accuracy: 0.6225\n",
      "Epoch 19/30\n",
      "1171/1171 [==============================] - 82s 70ms/step - loss: 1.1430 - accuracy: 0.5963 - val_loss: 1.0495 - val_accuracy: 0.6366\n",
      "Epoch 20/30\n",
      "1171/1171 [==============================] - 82s 70ms/step - loss: 1.1429 - accuracy: 0.5970 - val_loss: 1.0356 - val_accuracy: 0.6373\n",
      "Epoch 21/30\n",
      "1171/1171 [==============================] - 81s 69ms/step - loss: 1.1302 - accuracy: 0.6036 - val_loss: 1.0471 - val_accuracy: 0.6335\n",
      "Epoch 22/30\n",
      "1171/1171 [==============================] - 80s 68ms/step - loss: 1.1279 - accuracy: 0.6026 - val_loss: 1.0176 - val_accuracy: 0.6459\n",
      "Epoch 23/30\n",
      " 903/1171 [======================>.......] - ETA: 16s - loss: 1.1296 - accuracy: 0.6017"
     ]
    },
    {
     "ename": "KeyboardInterrupt",
     "evalue": "",
     "output_type": "error",
     "traceback": [
      "\u001b[1;31m---------------------------------------------------------------------------\u001b[0m",
      "\u001b[1;31mKeyboardInterrupt\u001b[0m                         Traceback (most recent call last)",
      "Cell \u001b[1;32mIn[60], line 1\u001b[0m\n\u001b[1;32m----> 1\u001b[0m history \u001b[39m=\u001b[39m model\u001b[39m.\u001b[39;49mfit_generator(generator\u001b[39m=\u001b[39;49mtrain_generator,\n\u001b[0;32m      2\u001b[0m           steps_per_epoch\u001b[39m=\u001b[39;49mtrain_step_size,\n\u001b[0;32m      3\u001b[0m           validation_data\u001b[39m=\u001b[39;49mvalid_generator,\n\u001b[0;32m      4\u001b[0m           validation_steps\u001b[39m=\u001b[39;49mvalidation_step_size,\n\u001b[0;32m      5\u001b[0m           epochs\u001b[39m=\u001b[39;49m\u001b[39m30\u001b[39;49m)\n",
      "File \u001b[1;32mc:\\Users\\lveig\\AppData\\Local\\Programs\\Python\\Python311\\Lib\\site-packages\\keras\\engine\\training.py:2636\u001b[0m, in \u001b[0;36mModel.fit_generator\u001b[1;34m(self, generator, steps_per_epoch, epochs, verbose, callbacks, validation_data, validation_steps, validation_freq, class_weight, max_queue_size, workers, use_multiprocessing, shuffle, initial_epoch)\u001b[0m\n\u001b[0;32m   2624\u001b[0m \u001b[39m\u001b[39m\u001b[39m\"\"\"Fits the model on data yielded batch-by-batch by a Python generator.\u001b[39;00m\n\u001b[0;32m   2625\u001b[0m \n\u001b[0;32m   2626\u001b[0m \u001b[39mDEPRECATED:\u001b[39;00m\n\u001b[0;32m   2627\u001b[0m \u001b[39m  `Model.fit` now supports generators, so there is no longer any need to\u001b[39;00m\n\u001b[0;32m   2628\u001b[0m \u001b[39m  use this endpoint.\u001b[39;00m\n\u001b[0;32m   2629\u001b[0m \u001b[39m\"\"\"\u001b[39;00m\n\u001b[0;32m   2630\u001b[0m warnings\u001b[39m.\u001b[39mwarn(\n\u001b[0;32m   2631\u001b[0m     \u001b[39m\"\u001b[39m\u001b[39m`Model.fit_generator` is deprecated and \u001b[39m\u001b[39m\"\u001b[39m\n\u001b[0;32m   2632\u001b[0m     \u001b[39m\"\u001b[39m\u001b[39mwill be removed in a future version. \u001b[39m\u001b[39m\"\u001b[39m\n\u001b[0;32m   2633\u001b[0m     \u001b[39m\"\u001b[39m\u001b[39mPlease use `Model.fit`, which supports generators.\u001b[39m\u001b[39m\"\u001b[39m,\n\u001b[0;32m   2634\u001b[0m     stacklevel\u001b[39m=\u001b[39m\u001b[39m2\u001b[39m,\n\u001b[0;32m   2635\u001b[0m )\n\u001b[1;32m-> 2636\u001b[0m \u001b[39mreturn\u001b[39;00m \u001b[39mself\u001b[39;49m\u001b[39m.\u001b[39;49mfit(\n\u001b[0;32m   2637\u001b[0m     generator,\n\u001b[0;32m   2638\u001b[0m     steps_per_epoch\u001b[39m=\u001b[39;49msteps_per_epoch,\n\u001b[0;32m   2639\u001b[0m     epochs\u001b[39m=\u001b[39;49mepochs,\n\u001b[0;32m   2640\u001b[0m     verbose\u001b[39m=\u001b[39;49mverbose,\n\u001b[0;32m   2641\u001b[0m     callbacks\u001b[39m=\u001b[39;49mcallbacks,\n\u001b[0;32m   2642\u001b[0m     validation_data\u001b[39m=\u001b[39;49mvalidation_data,\n\u001b[0;32m   2643\u001b[0m     validation_steps\u001b[39m=\u001b[39;49mvalidation_steps,\n\u001b[0;32m   2644\u001b[0m     validation_freq\u001b[39m=\u001b[39;49mvalidation_freq,\n\u001b[0;32m   2645\u001b[0m     class_weight\u001b[39m=\u001b[39;49mclass_weight,\n\u001b[0;32m   2646\u001b[0m     max_queue_size\u001b[39m=\u001b[39;49mmax_queue_size,\n\u001b[0;32m   2647\u001b[0m     workers\u001b[39m=\u001b[39;49mworkers,\n\u001b[0;32m   2648\u001b[0m     use_multiprocessing\u001b[39m=\u001b[39;49muse_multiprocessing,\n\u001b[0;32m   2649\u001b[0m     shuffle\u001b[39m=\u001b[39;49mshuffle,\n\u001b[0;32m   2650\u001b[0m     initial_epoch\u001b[39m=\u001b[39;49minitial_epoch,\n\u001b[0;32m   2651\u001b[0m )\n",
      "File \u001b[1;32mc:\\Users\\lveig\\AppData\\Local\\Programs\\Python\\Python311\\Lib\\site-packages\\keras\\utils\\traceback_utils.py:65\u001b[0m, in \u001b[0;36mfilter_traceback.<locals>.error_handler\u001b[1;34m(*args, **kwargs)\u001b[0m\n\u001b[0;32m     63\u001b[0m filtered_tb \u001b[39m=\u001b[39m \u001b[39mNone\u001b[39;00m\n\u001b[0;32m     64\u001b[0m \u001b[39mtry\u001b[39;00m:\n\u001b[1;32m---> 65\u001b[0m     \u001b[39mreturn\u001b[39;00m fn(\u001b[39m*\u001b[39;49margs, \u001b[39m*\u001b[39;49m\u001b[39m*\u001b[39;49mkwargs)\n\u001b[0;32m     66\u001b[0m \u001b[39mexcept\u001b[39;00m \u001b[39mException\u001b[39;00m \u001b[39mas\u001b[39;00m e:\n\u001b[0;32m     67\u001b[0m     filtered_tb \u001b[39m=\u001b[39m _process_traceback_frames(e\u001b[39m.\u001b[39m__traceback__)\n",
      "File \u001b[1;32mc:\\Users\\lveig\\AppData\\Local\\Programs\\Python\\Python311\\Lib\\site-packages\\keras\\engine\\training.py:1685\u001b[0m, in \u001b[0;36mModel.fit\u001b[1;34m(self, x, y, batch_size, epochs, verbose, callbacks, validation_split, validation_data, shuffle, class_weight, sample_weight, initial_epoch, steps_per_epoch, validation_steps, validation_batch_size, validation_freq, max_queue_size, workers, use_multiprocessing)\u001b[0m\n\u001b[0;32m   1677\u001b[0m \u001b[39mwith\u001b[39;00m tf\u001b[39m.\u001b[39mprofiler\u001b[39m.\u001b[39mexperimental\u001b[39m.\u001b[39mTrace(\n\u001b[0;32m   1678\u001b[0m     \u001b[39m\"\u001b[39m\u001b[39mtrain\u001b[39m\u001b[39m\"\u001b[39m,\n\u001b[0;32m   1679\u001b[0m     epoch_num\u001b[39m=\u001b[39mepoch,\n\u001b[1;32m   (...)\u001b[0m\n\u001b[0;32m   1682\u001b[0m     _r\u001b[39m=\u001b[39m\u001b[39m1\u001b[39m,\n\u001b[0;32m   1683\u001b[0m ):\n\u001b[0;32m   1684\u001b[0m     callbacks\u001b[39m.\u001b[39mon_train_batch_begin(step)\n\u001b[1;32m-> 1685\u001b[0m     tmp_logs \u001b[39m=\u001b[39m \u001b[39mself\u001b[39;49m\u001b[39m.\u001b[39;49mtrain_function(iterator)\n\u001b[0;32m   1686\u001b[0m     \u001b[39mif\u001b[39;00m data_handler\u001b[39m.\u001b[39mshould_sync:\n\u001b[0;32m   1687\u001b[0m         context\u001b[39m.\u001b[39masync_wait()\n",
      "File \u001b[1;32mc:\\Users\\lveig\\AppData\\Local\\Programs\\Python\\Python311\\Lib\\site-packages\\tensorflow\\python\\util\\traceback_utils.py:150\u001b[0m, in \u001b[0;36mfilter_traceback.<locals>.error_handler\u001b[1;34m(*args, **kwargs)\u001b[0m\n\u001b[0;32m    148\u001b[0m filtered_tb \u001b[39m=\u001b[39m \u001b[39mNone\u001b[39;00m\n\u001b[0;32m    149\u001b[0m \u001b[39mtry\u001b[39;00m:\n\u001b[1;32m--> 150\u001b[0m   \u001b[39mreturn\u001b[39;00m fn(\u001b[39m*\u001b[39;49margs, \u001b[39m*\u001b[39;49m\u001b[39m*\u001b[39;49mkwargs)\n\u001b[0;32m    151\u001b[0m \u001b[39mexcept\u001b[39;00m \u001b[39mException\u001b[39;00m \u001b[39mas\u001b[39;00m e:\n\u001b[0;32m    152\u001b[0m   filtered_tb \u001b[39m=\u001b[39m _process_traceback_frames(e\u001b[39m.\u001b[39m__traceback__)\n",
      "File \u001b[1;32mc:\\Users\\lveig\\AppData\\Local\\Programs\\Python\\Python311\\Lib\\site-packages\\tensorflow\\python\\eager\\polymorphic_function\\polymorphic_function.py:894\u001b[0m, in \u001b[0;36mFunction.__call__\u001b[1;34m(self, *args, **kwds)\u001b[0m\n\u001b[0;32m    891\u001b[0m compiler \u001b[39m=\u001b[39m \u001b[39m\"\u001b[39m\u001b[39mxla\u001b[39m\u001b[39m\"\u001b[39m \u001b[39mif\u001b[39;00m \u001b[39mself\u001b[39m\u001b[39m.\u001b[39m_jit_compile \u001b[39melse\u001b[39;00m \u001b[39m\"\u001b[39m\u001b[39mnonXla\u001b[39m\u001b[39m\"\u001b[39m\n\u001b[0;32m    893\u001b[0m \u001b[39mwith\u001b[39;00m OptionalXlaContext(\u001b[39mself\u001b[39m\u001b[39m.\u001b[39m_jit_compile):\n\u001b[1;32m--> 894\u001b[0m   result \u001b[39m=\u001b[39m \u001b[39mself\u001b[39;49m\u001b[39m.\u001b[39;49m_call(\u001b[39m*\u001b[39;49margs, \u001b[39m*\u001b[39;49m\u001b[39m*\u001b[39;49mkwds)\n\u001b[0;32m    896\u001b[0m new_tracing_count \u001b[39m=\u001b[39m \u001b[39mself\u001b[39m\u001b[39m.\u001b[39mexperimental_get_tracing_count()\n\u001b[0;32m    897\u001b[0m without_tracing \u001b[39m=\u001b[39m (tracing_count \u001b[39m==\u001b[39m new_tracing_count)\n",
      "File \u001b[1;32mc:\\Users\\lveig\\AppData\\Local\\Programs\\Python\\Python311\\Lib\\site-packages\\tensorflow\\python\\eager\\polymorphic_function\\polymorphic_function.py:926\u001b[0m, in \u001b[0;36mFunction._call\u001b[1;34m(self, *args, **kwds)\u001b[0m\n\u001b[0;32m    923\u001b[0m   \u001b[39mself\u001b[39m\u001b[39m.\u001b[39m_lock\u001b[39m.\u001b[39mrelease()\n\u001b[0;32m    924\u001b[0m   \u001b[39m# In this case we have created variables on the first call, so we run the\u001b[39;00m\n\u001b[0;32m    925\u001b[0m   \u001b[39m# defunned version which is guaranteed to never create variables.\u001b[39;00m\n\u001b[1;32m--> 926\u001b[0m   \u001b[39mreturn\u001b[39;00m \u001b[39mself\u001b[39;49m\u001b[39m.\u001b[39;49m_no_variable_creation_fn(\u001b[39m*\u001b[39;49margs, \u001b[39m*\u001b[39;49m\u001b[39m*\u001b[39;49mkwds)  \u001b[39m# pylint: disable=not-callable\u001b[39;00m\n\u001b[0;32m    927\u001b[0m \u001b[39melif\u001b[39;00m \u001b[39mself\u001b[39m\u001b[39m.\u001b[39m_variable_creation_fn \u001b[39mis\u001b[39;00m \u001b[39mnot\u001b[39;00m \u001b[39mNone\u001b[39;00m:\n\u001b[0;32m    928\u001b[0m   \u001b[39m# Release the lock early so that multiple threads can perform the call\u001b[39;00m\n\u001b[0;32m    929\u001b[0m   \u001b[39m# in parallel.\u001b[39;00m\n\u001b[0;32m    930\u001b[0m   \u001b[39mself\u001b[39m\u001b[39m.\u001b[39m_lock\u001b[39m.\u001b[39mrelease()\n",
      "File \u001b[1;32mc:\\Users\\lveig\\AppData\\Local\\Programs\\Python\\Python311\\Lib\\site-packages\\tensorflow\\python\\eager\\polymorphic_function\\tracing_compiler.py:143\u001b[0m, in \u001b[0;36mTracingCompiler.__call__\u001b[1;34m(self, *args, **kwargs)\u001b[0m\n\u001b[0;32m    140\u001b[0m \u001b[39mwith\u001b[39;00m \u001b[39mself\u001b[39m\u001b[39m.\u001b[39m_lock:\n\u001b[0;32m    141\u001b[0m   (concrete_function,\n\u001b[0;32m    142\u001b[0m    filtered_flat_args) \u001b[39m=\u001b[39m \u001b[39mself\u001b[39m\u001b[39m.\u001b[39m_maybe_define_function(args, kwargs)\n\u001b[1;32m--> 143\u001b[0m \u001b[39mreturn\u001b[39;00m concrete_function\u001b[39m.\u001b[39;49m_call_flat(\n\u001b[0;32m    144\u001b[0m     filtered_flat_args, captured_inputs\u001b[39m=\u001b[39;49mconcrete_function\u001b[39m.\u001b[39;49mcaptured_inputs)\n",
      "File \u001b[1;32mc:\\Users\\lveig\\AppData\\Local\\Programs\\Python\\Python311\\Lib\\site-packages\\tensorflow\\python\\eager\\polymorphic_function\\monomorphic_function.py:1757\u001b[0m, in \u001b[0;36mConcreteFunction._call_flat\u001b[1;34m(self, args, captured_inputs, cancellation_manager)\u001b[0m\n\u001b[0;32m   1753\u001b[0m possible_gradient_type \u001b[39m=\u001b[39m gradients_util\u001b[39m.\u001b[39mPossibleTapeGradientTypes(args)\n\u001b[0;32m   1754\u001b[0m \u001b[39mif\u001b[39;00m (possible_gradient_type \u001b[39m==\u001b[39m gradients_util\u001b[39m.\u001b[39mPOSSIBLE_GRADIENT_TYPES_NONE\n\u001b[0;32m   1755\u001b[0m     \u001b[39mand\u001b[39;00m executing_eagerly):\n\u001b[0;32m   1756\u001b[0m   \u001b[39m# No tape is watching; skip to running the function.\u001b[39;00m\n\u001b[1;32m-> 1757\u001b[0m   \u001b[39mreturn\u001b[39;00m \u001b[39mself\u001b[39m\u001b[39m.\u001b[39m_build_call_outputs(\u001b[39mself\u001b[39;49m\u001b[39m.\u001b[39;49m_inference_function\u001b[39m.\u001b[39;49mcall(\n\u001b[0;32m   1758\u001b[0m       ctx, args, cancellation_manager\u001b[39m=\u001b[39;49mcancellation_manager))\n\u001b[0;32m   1759\u001b[0m forward_backward \u001b[39m=\u001b[39m \u001b[39mself\u001b[39m\u001b[39m.\u001b[39m_select_forward_and_backward_functions(\n\u001b[0;32m   1760\u001b[0m     args,\n\u001b[0;32m   1761\u001b[0m     possible_gradient_type,\n\u001b[0;32m   1762\u001b[0m     executing_eagerly)\n\u001b[0;32m   1763\u001b[0m forward_function, args_with_tangents \u001b[39m=\u001b[39m forward_backward\u001b[39m.\u001b[39mforward()\n",
      "File \u001b[1;32mc:\\Users\\lveig\\AppData\\Local\\Programs\\Python\\Python311\\Lib\\site-packages\\tensorflow\\python\\eager\\polymorphic_function\\monomorphic_function.py:381\u001b[0m, in \u001b[0;36m_EagerDefinedFunction.call\u001b[1;34m(self, ctx, args, cancellation_manager)\u001b[0m\n\u001b[0;32m    379\u001b[0m \u001b[39mwith\u001b[39;00m _InterpolateFunctionError(\u001b[39mself\u001b[39m):\n\u001b[0;32m    380\u001b[0m   \u001b[39mif\u001b[39;00m cancellation_manager \u001b[39mis\u001b[39;00m \u001b[39mNone\u001b[39;00m:\n\u001b[1;32m--> 381\u001b[0m     outputs \u001b[39m=\u001b[39m execute\u001b[39m.\u001b[39;49mexecute(\n\u001b[0;32m    382\u001b[0m         \u001b[39mstr\u001b[39;49m(\u001b[39mself\u001b[39;49m\u001b[39m.\u001b[39;49msignature\u001b[39m.\u001b[39;49mname),\n\u001b[0;32m    383\u001b[0m         num_outputs\u001b[39m=\u001b[39;49m\u001b[39mself\u001b[39;49m\u001b[39m.\u001b[39;49m_num_outputs,\n\u001b[0;32m    384\u001b[0m         inputs\u001b[39m=\u001b[39;49margs,\n\u001b[0;32m    385\u001b[0m         attrs\u001b[39m=\u001b[39;49mattrs,\n\u001b[0;32m    386\u001b[0m         ctx\u001b[39m=\u001b[39;49mctx)\n\u001b[0;32m    387\u001b[0m   \u001b[39melse\u001b[39;00m:\n\u001b[0;32m    388\u001b[0m     outputs \u001b[39m=\u001b[39m execute\u001b[39m.\u001b[39mexecute_with_cancellation(\n\u001b[0;32m    389\u001b[0m         \u001b[39mstr\u001b[39m(\u001b[39mself\u001b[39m\u001b[39m.\u001b[39msignature\u001b[39m.\u001b[39mname),\n\u001b[0;32m    390\u001b[0m         num_outputs\u001b[39m=\u001b[39m\u001b[39mself\u001b[39m\u001b[39m.\u001b[39m_num_outputs,\n\u001b[1;32m   (...)\u001b[0m\n\u001b[0;32m    393\u001b[0m         ctx\u001b[39m=\u001b[39mctx,\n\u001b[0;32m    394\u001b[0m         cancellation_manager\u001b[39m=\u001b[39mcancellation_manager)\n",
      "File \u001b[1;32mc:\\Users\\lveig\\AppData\\Local\\Programs\\Python\\Python311\\Lib\\site-packages\\tensorflow\\python\\eager\\execute.py:52\u001b[0m, in \u001b[0;36mquick_execute\u001b[1;34m(op_name, num_outputs, inputs, attrs, ctx, name)\u001b[0m\n\u001b[0;32m     50\u001b[0m \u001b[39mtry\u001b[39;00m:\n\u001b[0;32m     51\u001b[0m   ctx\u001b[39m.\u001b[39mensure_initialized()\n\u001b[1;32m---> 52\u001b[0m   tensors \u001b[39m=\u001b[39m pywrap_tfe\u001b[39m.\u001b[39;49mTFE_Py_Execute(ctx\u001b[39m.\u001b[39;49m_handle, device_name, op_name,\n\u001b[0;32m     53\u001b[0m                                       inputs, attrs, num_outputs)\n\u001b[0;32m     54\u001b[0m \u001b[39mexcept\u001b[39;00m core\u001b[39m.\u001b[39m_NotOkStatusException \u001b[39mas\u001b[39;00m e:\n\u001b[0;32m     55\u001b[0m   \u001b[39mif\u001b[39;00m name \u001b[39mis\u001b[39;00m \u001b[39mnot\u001b[39;00m \u001b[39mNone\u001b[39;00m:\n",
      "\u001b[1;31mKeyboardInterrupt\u001b[0m: "
     ]
    }
   ],
   "source": [
    "history = model.fit_generator(generator=train_generator,\n",
    "          steps_per_epoch=train_step_size,\n",
    "          validation_data=valid_generator,\n",
    "          validation_steps=validation_step_size,\n",
    "          epochs=30)"
   ]
  },
  {
   "cell_type": "code",
   "execution_count": null,
   "metadata": {},
   "outputs": [],
   "source": [
    "plot_loss(history)"
   ]
  },
  {
   "cell_type": "code",
   "execution_count": null,
   "metadata": {},
   "outputs": [],
   "source": [
    "loss, accuracy = model.evaluate_generator(test_generator)\n",
    "print(\"Test: accuracy = %f  ;  loss = %f \" % (accuracy, loss))"
   ]
  },
  {
   "cell_type": "code",
   "execution_count": null,
   "metadata": {},
   "outputs": [],
   "source": [
    " # Modelo 3\n",
    "\n",
    "model = models.Sequential()\n",
    "\n",
    "model.add(layers.Conv2D(32, (3, 3), input_shape=(32,32,3), activation='relu'))\n",
    "\n",
    "model.add(layers.Conv2D(64, (3, 3), activation='relu'))\n",
    "model.add(layers.BatchNormalization())\n",
    "model.add(layers.MaxPooling2D(pool_size=(2, 2)))\n",
    "model.add(layers.Dropout(0.25))\n",
    "\n",
    "model.add(layers.Conv2D(64, (3, 3), activation='relu'))\n",
    "model.add(layers.BatchNormalization())\n",
    "model.add(layers.MaxPooling2D(pool_size=(2, 2)))\n",
    "model.add(layers.Dropout(0.25))\n",
    "\n",
    "model.add(layers.Conv2D(128, (3, 3), activation='relu'))\n",
    "model.add(layers.BatchNormalization())\n",
    "model.add(layers.MaxPooling2D(pool_size=(2, 2)))\n",
    "model.add(layers.Dropout(0.25))\n",
    "\n",
    "model.add(layers.Flatten())\n",
    "model.add(layers.Dense(512, activation='relu'))\n",
    "model.add(layers.BatchNormalization())\n",
    "model.add(layers.Dropout(0.25))\n",
    "model.add(layers.Dense(10, activation='softmax'))\n",
    "\n",
    "model.compile(optimizer='adam', loss='categorical_crossentropy', metrics=['accuracy'])"
   ]
  },
  {
   "cell_type": "code",
   "execution_count": null,
   "metadata": {},
   "outputs": [],
   "source": [
    "history = model.fit_generator(generator=train_generator,\n",
    "          steps_per_epoch=train_step_size,\n",
    "          validation_data=valid_generator,\n",
    "          validation_steps=validation_step_size,\n",
    "          epochs=30)"
   ]
  },
  {
   "cell_type": "code",
   "execution_count": null,
   "metadata": {},
   "outputs": [],
   "source": [
    "plot_loss(history)"
   ]
  },
  {
   "cell_type": "code",
   "execution_count": null,
   "metadata": {},
   "outputs": [],
   "source": [
    "loss, accuracy = model.evaluate_generator(test_generator)\n",
    "print(\"Test: accuracy = %f  ;  loss = %f \" % (accuracy, loss))"
   ]
  },
  {
   "cell_type": "code",
   "execution_count": null,
   "metadata": {},
   "outputs": [],
   "source": [
    "test_generator.reset()\n",
    "\n",
    "count = 0\n",
    "y_pred = list()\n",
    "y_true = list()\n",
    "class_names = cifar10_classes\n",
    "\n",
    "for batch in test_generator:\n",
    "    count+=1\n",
    "\n",
    "    if count == len(test_generator)+1:\n",
    "        break\n",
    "    else:\n",
    "        images = batch[0]\n",
    "        labels = batch[1]\n",
    "        predictions = model.predict(images)\n",
    "\n",
    "        for i in range(len(images)):\n",
    "            image = images[i]\n",
    "            label = labels[i]\n",
    "            prediction = predictions[i]\n",
    "\n",
    "            predicted_class = np.argmax(prediction)\n",
    "            probability = prediction[predicted_class]\n",
    "            class_name = class_names[int(predicted_class)]\n",
    "            y_pred.append(class_name)\n",
    "\n",
    "            labeled_class = np.argmax(label)\n",
    "            label = class_names[int(labeled_class)]\n",
    "            y_true.append(label)"
   ]
  },
  {
   "cell_type": "code",
   "execution_count": null,
   "metadata": {},
   "outputs": [],
   "source": [
    "filenames=test_generator.filenames\n",
    "results=pd.DataFrame({\"Filename\":filenames,\n",
    "                      \"Predictions\":y_pred})\n",
    "results.to_csv(\"results_deep_learning.csv\",index=False)"
   ]
  },
  {
   "cell_type": "code",
   "execution_count": null,
   "metadata": {},
   "outputs": [],
   "source": [
    "loss, accuracy = model.evaluate_generator(test_generator)\n",
    "print(\"Test: accuracy = %f  ;  loss = %f \" % (accuracy, loss))"
   ]
  },
  {
   "cell_type": "code",
   "execution_count": null,
   "metadata": {},
   "outputs": [],
   "source": [
    "accuracy = skm.accuracy_score(y_true, y_pred)\n",
    "precision = skm.precision_score(y_true, y_pred, average='weighted')\n",
    "recall = skm.recall_score(y_true, y_pred, average='weighted')\n",
    "f1score = skm.f1_score(y_true, y_pred, average='weighted')\n",
    "\n",
    "print(\"Accuracy: \", accuracy)\n",
    "print(\"Precision: \", precision)\n",
    "print(\"Recall: \", recall)\n",
    "print(\"F1 Score: \", f1score)"
   ]
  },
  {
   "cell_type": "code",
   "execution_count": null,
   "metadata": {},
   "outputs": [],
   "source": [
    "cnf_matrix = confusion_matrix(y_true, y_pred, labels=class_names)\n",
    "np.set_printoptions(precision=2)\n",
    "\n",
    "fig, ax = plt.subplots(figsize=(5, 5))\n",
    "cax = ax.matshow(cnf_matrix, cmap=plt.cm.Blues, alpha=0.3, interpolation = 'nearest')\n",
    "plt.gca().xaxis.tick_bottom()\n",
    "\n",
    "tick_marks = np.arange(len(cifar10_classes))\n",
    "plt.xticks(tick_marks, cifar10_classes, rotation=45)\n",
    "plt.yticks(tick_marks, cifar10_classes)\n",
    "\n",
    "for i in range(cnf_matrix.shape[0]):\n",
    "    for j in range(cnf_matrix.shape[1]):\n",
    "        ax.text(x=j, y=i,s=cnf_matrix[i, j], va='center', ha='center')\n",
    "\n",
    "fig.colorbar(cax)\n",
    "\n",
    "plt.xlabel('Predição', fontsize=13)\n",
    "plt.ylabel('Real', fontsize=13)\n",
    "plt.title('Matriz de Confusão', fontsize=18)\n",
    "plt.show()"
   ]
  },
  {
   "cell_type": "code",
   "execution_count": null,
   "metadata": {},
   "outputs": [],
   "source": [
    "'''\n",
    "\n",
    "model_dir = \"./trained_models/\"\n",
    "create_directory(model_dir)\n",
    "\n",
    "# obtendo a data e hora atual\n",
    "now = datetime.now()\n",
    "\n",
    "# Definição do formato\n",
    "format = '%Y-%m-%dT%H%M'\n",
    "\n",
    "# Converter a data e hora em uma string com o formato especificado\n",
    "formatted_datetime = now.strftime(format)\n",
    "\n",
    "model_name = 'trained_model_deep_learning' + formatted_datetime + '.h5'\n",
    "\n",
    "# salvando o modelo\n",
    "model.save(\"%s/%s\" % (model_dir, model_name))\n",
    "print(\"Modelo salvo com o nome: \", model_name)\n",
    "\n",
    "'''"
   ]
  },
  {
   "cell_type": "code",
   "execution_count": null,
   "metadata": {},
   "outputs": [],
   "source": [
    "'''\n",
    "\n",
    "model_loaded = keras.models.load_model(\"%s/%s\" % (model_dir, model_name))\n",
    "print(\"Modelo %s carregado com sucesso\" % (model_name))\n",
    "\n",
    "'''"
   ]
  },
  {
   "cell_type": "code",
   "execution_count": null,
   "metadata": {},
   "outputs": [],
   "source": [
    "'''\n",
    "\n",
    "test_generator.reset()\n",
    "\n",
    "count = 0\n",
    "y_pred = list()\n",
    "y_true = list()\n",
    "class_names = cifar10_classes\n",
    "\n",
    "# Loop do data generator de teste que contem as imagens\n",
    "for batch in test_generator:\n",
    "\n",
    "    count+=1\n",
    "\n",
    "    # Condição de saída do loop. Só executaremos o modelo em algumas imagens\n",
    "    if count == len(test_generator)+1:\n",
    "        break\n",
    "\n",
    "    else:\n",
    "        # Pegando a imagem e o label\n",
    "        images = batch[0]\n",
    "        labels = batch[1]\n",
    "\n",
    "        # Previsão\n",
    "        predictions = model_loaded.predict(images)\n",
    "\n",
    "        # Visualização da imagem\n",
    "        for i in range(len(images)):\n",
    "\n",
    "            image = images[i]\n",
    "            label = labels[i]\n",
    "\n",
    "            prediction = predictions[i]\n",
    "\n",
    "            # Converte o array de previsão para visualizar a classe e a probabilidade\n",
    "            predicted_class = np.argmax(prediction)\n",
    "            probability = prediction[predicted_class]\n",
    "\n",
    "            labeled_class = np.argmax(label)\n",
    "            label = class_names[int(labeled_class)]\n",
    "\n",
    "            y_true.append(label)\n",
    "\n",
    "            # Faz o DE-PARA da probabilidade com o tipo de classe da previsão\n",
    "            # class_name = 'dog' if prediction >= 0.5 else 'cat'\n",
    "\n",
    "            class_name = class_names[int(predicted_class)]\n",
    "\n",
    "            y_pred.append(class_name)\n",
    "\n",
    "'''"
   ]
  },
  {
   "cell_type": "code",
   "execution_count": null,
   "metadata": {},
   "outputs": [],
   "source": [
    "'''\n",
    "\n",
    "filenames=test_generator.filenames\n",
    "results=pd.DataFrame({\"Filename\":filenames,\n",
    "                      \"Predictions\":y_pred})\n",
    "results.to_csv(\"results_deep_learning_trained.csv\",index=False)\n",
    "\n",
    "'''"
   ]
  }
 ],
 "metadata": {
  "kernelspec": {
   "display_name": "Python 3",
   "language": "python",
   "name": "python3"
  },
  "language_info": {
   "codemirror_mode": {
    "name": "ipython",
    "version": 3
   },
   "file_extension": ".py",
   "mimetype": "text/x-python",
   "name": "python",
   "nbconvert_exporter": "python",
   "pygments_lexer": "ipython3",
   "version": "3.11.4"
  },
  "orig_nbformat": 4
 },
 "nbformat": 4,
 "nbformat_minor": 2
}
