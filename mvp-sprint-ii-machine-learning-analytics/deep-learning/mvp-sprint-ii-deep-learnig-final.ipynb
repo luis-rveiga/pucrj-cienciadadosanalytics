{
 "cells": [
  {
   "cell_type": "code",
   "execution_count": 1,
   "metadata": {},
   "outputs": [],
   "source": [
    "# Configuração para não exibir os warnings\n",
    "import warnings\n",
    "warnings.filterwarnings(\"ignore\")\n",
    "\n",
    "# Imports necessários\n",
    "from keras.preprocessing.image import ImageDataGenerator\n",
    "from keras import layers\n",
    "from keras import models\n",
    "from keras import optimizers\n",
    "#from tensorflow.keras.preprocessing import image\n",
    "import os\n",
    "from sklearn.model_selection import train_test_split\n",
    "import shutil\n",
    "import random\n",
    "import math\n",
    "import numpy as np\n",
    "import zipfile\n",
    "import pandas as pd\n",
    "import matplotlib.image as mpimg\n",
    "import matplotlib.pyplot as plt\n",
    "import matplotlib.image as mpimg\n",
    "from datetime import datetime\n",
    "from tensorflow import keras\n",
    "from sklearn.metrics import confusion_matrix, classification_report\n",
    "import sklearn.metrics as skm\n",
    "import itertools\n",
    "import numpy as np\n",
    "import matplotlib.pyplot as plt"
   ]
  },
  {
   "cell_type": "code",
   "execution_count": 2,
   "metadata": {},
   "outputs": [],
   "source": [
    "def prepare_dataset(X_dataset, y_dataset, classes, n_samples):\n",
    "    if n_samples is None:\n",
    "        img_samples = X_dataset.shape[0]\n",
    "    else:\n",
    "        img_samples = n_samples\n",
    "\n",
    "    df_aux = pd.DataFrame(columns=['id', 'label'])\n",
    "\n",
    "    list_aux = []\n",
    "\n",
    "    for i in range(img_samples):\n",
    "        nm_file = str(i)+'-'+str([classes[x] for x in y_dataset[i]]).strip('[]').strip('\\'')+'.'+'png'\n",
    "        sample = {'id':nm_file, 'label':str([classes[x] for x in y_dataset[i]]).strip('[]').strip('\\'')}\n",
    "        list_aux.append(sample)\n",
    "\n",
    "    return pd.concat([df_aux, pd.DataFrame(list_aux)], ignore_index=True)\n",
    "\n",
    "\n",
    "def create_files(X_dataset, y_dataset, classes, dir, n_samples):\n",
    "    if n_samples is None:\n",
    "        img_samples = X_dataset.shape[0]\n",
    "    else:\n",
    "        img_samples = n_samples\n",
    "\n",
    "    for i in range(img_samples):\n",
    "        nm_file = str(i)+'-'+str([classes[x] for x in y_dataset[i]]).strip('[]').strip('\\'')+'.'+'png'\n",
    "        img = X_dataset[i]\n",
    "        plt.imsave(dir + nm_file, img)\n",
    "\n",
    "\n",
    "def create_directory(dir):\n",
    "    if os.path.exists(dir):\n",
    "        for file in os.listdir(dir):\n",
    "            os.remove(dir+file)\n",
    "    else:\n",
    "        os.makedirs(dir)\n",
    "\n",
    "\n",
    "def plot_confusion_matrix(cm, classes,\n",
    "                          normalize=False,\n",
    "                          title='Confusion matrix',\n",
    "                          cmap=plt.cm.Blues):\n",
    "    \"\"\"\n",
    "    Esta função imprime e plota a matriz de confusão.\n",
    "    A normalização pode ser aplicada definindo `normalize=True`.\n",
    "    \"\"\"\n",
    "    if normalize:\n",
    "        cm = cm.astype('float') / cm.sum(axis=1)[:, np.newaxis]\n",
    "        print(\"Matriz de confusão normalizada\")\n",
    "    else:\n",
    "        print('Matriz de confusão sem normalização')\n",
    "\n",
    "    plt.imshow(cm, interpolation='nearest', cmap=cmap)\n",
    "    plt.title(title)\n",
    "    plt.colorbar()\n",
    "    tick_marks = np.arange(len(classes))\n",
    "    plt.xticks(tick_marks, classes, rotation=45)\n",
    "    plt.yticks(tick_marks, classes)\n",
    "\n",
    "    fmt = '.2f' if normalize else 'd'\n",
    "    thresh = cm.max() / 2.\n",
    "    for i, j in itertools.product(range(cm.shape[0]), range(cm.shape[1])):\n",
    "        plt.text(j, i, format(cm[i, j], fmt),\n",
    "                 horizontalalignment=\"center\",\n",
    "                 color=\"white\" if cm[i, j] > thresh else \"black\")\n",
    "\n",
    "    plt.tight_layout()\n",
    "    plt.ylabel('Label real')\n",
    "    plt.xlabel('Label predito')        "
   ]
  },
  {
   "cell_type": "code",
   "execution_count": 3,
   "metadata": {},
   "outputs": [
    {
     "name": "stdout",
     "output_type": "stream",
     "text": [
      "Downloading data from https://www.cs.toronto.edu/~kriz/cifar-10-python.tar.gz\n",
      "170498071/170498071 [==============================] - 9s 0us/step\n"
     ]
    }
   ],
   "source": [
    "from keras.datasets import cifar10\n",
    "\n",
    "(X_train, y_train), (X_test, y_test) = cifar10.load_data()\n",
    "\n",
    "cifar10_classes = ['airplane', 'automobile', 'bird', 'cat', 'deer', 'dog', 'frog', 'horse', 'ship', 'truck']"
   ]
  },
  {
   "cell_type": "code",
   "execution_count": 4,
   "metadata": {},
   "outputs": [],
   "source": [
    "train_dir = \"./train/\"\n",
    "test_dir = \"./test/\" \n",
    "\n",
    "create_directory(train_dir)\n",
    "create_directory(test_dir)"
   ]
  },
  {
   "cell_type": "code",
   "execution_count": 64,
   "metadata": {},
   "outputs": [
    {
     "data": {
      "text/html": [
       "<div>\n",
       "<style scoped>\n",
       "    .dataframe tbody tr th:only-of-type {\n",
       "        vertical-align: middle;\n",
       "    }\n",
       "\n",
       "    .dataframe tbody tr th {\n",
       "        vertical-align: top;\n",
       "    }\n",
       "\n",
       "    .dataframe thead th {\n",
       "        text-align: right;\n",
       "    }\n",
       "</style>\n",
       "<table border=\"1\" class=\"dataframe\">\n",
       "  <thead>\n",
       "    <tr style=\"text-align: right;\">\n",
       "      <th></th>\n",
       "      <th>id</th>\n",
       "      <th>label</th>\n",
       "    </tr>\n",
       "  </thead>\n",
       "  <tbody>\n",
       "    <tr>\n",
       "      <th>0</th>\n",
       "      <td>0-frog.png</td>\n",
       "      <td>frog</td>\n",
       "    </tr>\n",
       "    <tr>\n",
       "      <th>1</th>\n",
       "      <td>1-truck.png</td>\n",
       "      <td>truck</td>\n",
       "    </tr>\n",
       "    <tr>\n",
       "      <th>2</th>\n",
       "      <td>2-truck.png</td>\n",
       "      <td>truck</td>\n",
       "    </tr>\n",
       "    <tr>\n",
       "      <th>3</th>\n",
       "      <td>3-deer.png</td>\n",
       "      <td>deer</td>\n",
       "    </tr>\n",
       "    <tr>\n",
       "      <th>4</th>\n",
       "      <td>4-automobile.png</td>\n",
       "      <td>automobile</td>\n",
       "    </tr>\n",
       "  </tbody>\n",
       "</table>\n",
       "</div>"
      ],
      "text/plain": [
       "                 id       label\n",
       "0        0-frog.png        frog\n",
       "1       1-truck.png       truck\n",
       "2       2-truck.png       truck\n",
       "3        3-deer.png        deer\n",
       "4  4-automobile.png  automobile"
      ]
     },
     "execution_count": 64,
     "metadata": {},
     "output_type": "execute_result"
    }
   ],
   "source": [
    "train_samples = 250 #X_train.shape[0]\n",
    "\n",
    "create_files(X_train, y_train, cifar10_classes, train_dir, train_samples)\n",
    "\n",
    "train_df = prepare_dataset(X_train, y_train, cifar10_classes, train_samples)\n",
    "\n",
    "train_df.head()"
   ]
  },
  {
   "cell_type": "code",
   "execution_count": 65,
   "metadata": {},
   "outputs": [
    {
     "data": {
      "text/html": [
       "<div>\n",
       "<style scoped>\n",
       "    .dataframe tbody tr th:only-of-type {\n",
       "        vertical-align: middle;\n",
       "    }\n",
       "\n",
       "    .dataframe tbody tr th {\n",
       "        vertical-align: top;\n",
       "    }\n",
       "\n",
       "    .dataframe thead th {\n",
       "        text-align: right;\n",
       "    }\n",
       "</style>\n",
       "<table border=\"1\" class=\"dataframe\">\n",
       "  <thead>\n",
       "    <tr style=\"text-align: right;\">\n",
       "      <th></th>\n",
       "      <th>id</th>\n",
       "      <th>label</th>\n",
       "    </tr>\n",
       "  </thead>\n",
       "  <tbody>\n",
       "    <tr>\n",
       "      <th>0</th>\n",
       "      <td>0-cat.png</td>\n",
       "      <td>cat</td>\n",
       "    </tr>\n",
       "    <tr>\n",
       "      <th>1</th>\n",
       "      <td>1-ship.png</td>\n",
       "      <td>ship</td>\n",
       "    </tr>\n",
       "    <tr>\n",
       "      <th>2</th>\n",
       "      <td>2-ship.png</td>\n",
       "      <td>ship</td>\n",
       "    </tr>\n",
       "    <tr>\n",
       "      <th>3</th>\n",
       "      <td>3-airplane.png</td>\n",
       "      <td>airplane</td>\n",
       "    </tr>\n",
       "    <tr>\n",
       "      <th>4</th>\n",
       "      <td>4-frog.png</td>\n",
       "      <td>frog</td>\n",
       "    </tr>\n",
       "  </tbody>\n",
       "</table>\n",
       "</div>"
      ],
      "text/plain": [
       "               id     label\n",
       "0       0-cat.png       cat\n",
       "1      1-ship.png      ship\n",
       "2      2-ship.png      ship\n",
       "3  3-airplane.png  airplane\n",
       "4      4-frog.png      frog"
      ]
     },
     "execution_count": 65,
     "metadata": {},
     "output_type": "execute_result"
    }
   ],
   "source": [
    "test_samples = 100 #X_test.shape[0]\n",
    "\n",
    "create_files(X_test, y_test, cifar10_classes, test_dir, test_samples)\n",
    "\n",
    "test_df = prepare_dataset(X_test, y_test, cifar10_classes, test_samples)\n",
    "\n",
    "test_df.head()"
   ]
  },
  {
   "cell_type": "code",
   "execution_count": 66,
   "metadata": {},
   "outputs": [
    {
     "name": "stdout",
     "output_type": "stream",
     "text": [
      "Total de imagens para treinamento: 250\n",
      "Total de imagens para teste      : 100\n"
     ]
    }
   ],
   "source": [
    "print('Total de imagens para treinamento: %s' % len(os.listdir(train_dir)))\n",
    "print('Total de imagens para teste      : %s' % len(os.listdir(test_dir)))"
   ]
  },
  {
   "cell_type": "code",
   "execution_count": 67,
   "metadata": {},
   "outputs": [
    {
     "name": "stdout",
     "output_type": "stream",
     "text": [
      "Found 188 validated image filenames belonging to 10 classes.\n",
      "Found 62 validated image filenames belonging to 10 classes.\n"
     ]
    }
   ],
   "source": [
    "train_datagen=ImageDataGenerator(rescale=1.0/255.0,\n",
    "                                validation_split=0.25)\n",
    "\n",
    "train_generator=train_datagen.flow_from_dataframe(\n",
    "dataframe=train_df,\n",
    "directory=train_dir,\n",
    "x_col=\"id\",\n",
    "y_col=\"label\",\n",
    "subset=\"training\",\n",
    "batch_size=32,\n",
    "seed=42,\n",
    "shuffle=True,\n",
    "class_mode=\"categorical\",\n",
    "target_size=(32,32))\n",
    "\n",
    "valid_generator=train_datagen.flow_from_dataframe(\n",
    "dataframe=train_df,\n",
    "directory=train_dir,\n",
    "x_col=\"id\",\n",
    "y_col=\"label\",\n",
    "subset=\"validation\",\n",
    "batch_size=32,\n",
    "seed=42,\n",
    "shuffle=True,\n",
    "class_mode=\"categorical\",\n",
    "target_size=(32,32))"
   ]
  },
  {
   "cell_type": "code",
   "execution_count": 68,
   "metadata": {},
   "outputs": [
    {
     "name": "stdout",
     "output_type": "stream",
     "text": [
      "Found 100 validated image filenames belonging to 10 classes.\n"
     ]
    }
   ],
   "source": [
    "test_datagen=ImageDataGenerator(rescale=1.0/255.0)\n",
    "\n",
    "test_generator=test_datagen.flow_from_dataframe(\n",
    "dataframe=test_df,\n",
    "directory=test_dir,\n",
    "x_col=\"id\",\n",
    "y_col=\"label\",\n",
    "batch_size=32,\n",
    "seed=42,\n",
    "shuffle=False,\n",
    "class_mode=\"categorical\",\n",
    "target_size=(32,32))"
   ]
  },
  {
   "cell_type": "code",
   "execution_count": 69,
   "metadata": {},
   "outputs": [
    {
     "name": "stdout",
     "output_type": "stream",
     "text": [
      "Model: \"sequential_3\"\n",
      "_________________________________________________________________\n",
      " Layer (type)                Output Shape              Param #   \n",
      "=================================================================\n",
      " conv2d_9 (Conv2D)           (None, 32, 32, 32)        896       \n",
      "                                                                 \n",
      " max_pooling2d_9 (MaxPooling  (None, 16, 16, 32)       0         \n",
      " 2D)                                                             \n",
      "                                                                 \n",
      " conv2d_10 (Conv2D)          (None, 16, 16, 64)        18496     \n",
      "                                                                 \n",
      " max_pooling2d_10 (MaxPoolin  (None, 8, 8, 64)         0         \n",
      " g2D)                                                            \n",
      "                                                                 \n",
      " conv2d_11 (Conv2D)          (None, 8, 8, 128)         73856     \n",
      "                                                                 \n",
      " max_pooling2d_11 (MaxPoolin  (None, 4, 4, 128)        0         \n",
      " g2D)                                                            \n",
      "                                                                 \n",
      " conv2d_12 (Conv2D)          (None, 4, 4, 128)         147584    \n",
      "                                                                 \n",
      " max_pooling2d_12 (MaxPoolin  (None, 2, 2, 128)        0         \n",
      " g2D)                                                            \n",
      "                                                                 \n",
      " flatten_3 (Flatten)         (None, 512)               0         \n",
      "                                                                 \n",
      " dropout_6 (Dropout)         (None, 512)               0         \n",
      "                                                                 \n",
      " dense_6 (Dense)             (None, 512)               262656    \n",
      "                                                                 \n",
      " dropout_7 (Dropout)         (None, 512)               0         \n",
      "                                                                 \n",
      " dense_7 (Dense)             (None, 10)                5130      \n",
      "                                                                 \n",
      "=================================================================\n",
      "Total params: 508,618\n",
      "Trainable params: 508,618\n",
      "Non-trainable params: 0\n",
      "_________________________________________________________________\n"
     ]
    }
   ],
   "source": [
    "model = models.Sequential()\n",
    "model.add(layers.Conv2D(32, (3, 3), padding='same', input_shape=(32,32,3), activation=('relu')))\n",
    "model.add(layers.MaxPooling2D(pool_size=(2, 2)))\n",
    "\n",
    "model.add(layers.Conv2D(64, (3, 3), padding='same', activation=('relu')))\n",
    "model.add(layers.MaxPooling2D(pool_size=(2, 2)))\n",
    "\n",
    "model.add(layers.Conv2D(128, (3, 3), padding='same', activation=('relu')))\n",
    "model.add(layers.MaxPooling2D(pool_size=(2, 2)))\n",
    "\n",
    "model.add(layers.Conv2D(128, (3, 3), padding='same', activation=('relu')))\n",
    "model.add(layers.MaxPooling2D(pool_size=(2, 2)))\n",
    "\n",
    "model.add(layers.Flatten())\n",
    "model.add(layers.Dropout(0.25))\n",
    "model.add(layers.Dense(512, activation='relu'))\n",
    "model.add(layers.Dropout(0.25))\n",
    "model.add(layers.Dense(10, activation='softmax'))\n",
    "\n",
    "model.summary()"
   ]
  },
  {
   "cell_type": "code",
   "execution_count": 70,
   "metadata": {},
   "outputs": [],
   "source": [
    "model.compile(optimizer='adam', loss='categorical_crossentropy', metrics=['accuracy'])"
   ]
  },
  {
   "cell_type": "code",
   "execution_count": 71,
   "metadata": {},
   "outputs": [
    {
     "name": "stdout",
     "output_type": "stream",
     "text": [
      "Epoch 1/5\n",
      "5/5 [==============================] - 6s 527ms/step - loss: 2.3105 - accuracy: 0.1125 - val_loss: 2.3208 - val_accuracy: 0.1250\n",
      "Epoch 2/5\n",
      "5/5 [==============================] - 1s 162ms/step - loss: 2.2604 - accuracy: 0.1731 - val_loss: 2.4781 - val_accuracy: 0.1250\n",
      "Epoch 3/5\n",
      "5/5 [==============================] - 1s 164ms/step - loss: 2.2737 - accuracy: 0.1923 - val_loss: 2.3319 - val_accuracy: 0.0312\n",
      "Epoch 4/5\n",
      "5/5 [==============================] - 1s 168ms/step - loss: 2.2108 - accuracy: 0.2051 - val_loss: 2.4590 - val_accuracy: 0.1562\n",
      "Epoch 5/5\n",
      "5/5 [==============================] - 1s 167ms/step - loss: 2.1747 - accuracy: 0.2308 - val_loss: 2.4217 - val_accuracy: 0.1250\n"
     ]
    },
    {
     "data": {
      "text/plain": [
       "<keras.callbacks.History at 0x2e32ebbbed0>"
      ]
     },
     "execution_count": 71,
     "metadata": {},
     "output_type": "execute_result"
    }
   ],
   "source": [
    "train_step_size = train_generator.n//train_generator.batch_size\n",
    "validation_step_size = valid_generator.n//valid_generator.batch_size\n",
    "\n",
    "model.fit_generator(generator=train_generator,\n",
    "          steps_per_epoch=train_step_size,\n",
    "          validation_data=valid_generator,\n",
    "          validation_steps=validation_step_size,\n",
    "          epochs=5\n",
    ")"
   ]
  },
  {
   "cell_type": "code",
   "execution_count": 72,
   "metadata": {},
   "outputs": [
    {
     "name": "stdout",
     "output_type": "stream",
     "text": [
      "1/1 [==============================] - 0s 274ms/step\n",
      "cat : frog : 0.208641\n",
      "ship : automobile : 0.199992\n",
      "ship : ship : 0.200689\n",
      "airplane : automobile : 0.186959\n",
      "frog : frog : 0.199381\n",
      "frog : frog : 0.253702\n",
      "automobile : frog : 0.249842\n",
      "frog : frog : 0.196946\n",
      "cat : frog : 0.191317\n",
      "automobile : automobile : 0.203220\n",
      "airplane : ship : 0.177940\n",
      "truck : frog : 0.181748\n",
      "dog : frog : 0.214389\n",
      "horse : frog : 0.213583\n",
      "truck : automobile : 0.178203\n",
      "ship : frog : 0.166916\n",
      "dog : frog : 0.209163\n",
      "horse : frog : 0.207430\n",
      "ship : automobile : 0.194262\n",
      "frog : frog : 0.265892\n",
      "horse : frog : 0.191977\n",
      "airplane : automobile : 0.191758\n",
      "deer : ship : 0.205138\n",
      "truck : frog : 0.295394\n",
      "dog : frog : 0.224426\n",
      "bird : frog : 0.184453\n",
      "deer : frog : 0.226010\n",
      "airplane : truck : 0.166828\n",
      "truck : frog : 0.174166\n",
      "frog : frog : 0.263725\n",
      "frog : frog : 0.213801\n",
      "dog : frog : 0.214523\n",
      "1/1 [==============================] - 0s 81ms/step\n",
      "deer : frog : 0.179649\n",
      "dog : frog : 0.206507\n",
      "truck : automobile : 0.183190\n",
      "bird : frog : 0.188133\n",
      "deer : frog : 0.239125\n",
      "automobile : automobile : 0.187766\n",
      "truck : frog : 0.219094\n",
      "dog : frog : 0.175639\n",
      "deer : automobile : 0.187802\n",
      "frog : frog : 0.239023\n",
      "dog : frog : 0.185209\n",
      "frog : frog : 0.218836\n",
      "airplane : automobile : 0.246500\n",
      "truck : automobile : 0.198640\n",
      "cat : frog : 0.225062\n",
      "truck : automobile : 0.173817\n",
      "horse : frog : 0.224583\n",
      "frog : frog : 0.211728\n",
      "truck : ship : 0.211381\n",
      "ship : automobile : 0.162980\n",
      "airplane : frog : 0.223228\n",
      "cat : frog : 0.224216\n",
      "ship : ship : 0.220909\n",
      "ship : automobile : 0.153202\n",
      "horse : frog : 0.229767\n",
      "horse : frog : 0.206497\n",
      "deer : frog : 0.176725\n",
      "frog : frog : 0.176105\n",
      "horse : frog : 0.254765\n",
      "cat : frog : 0.265098\n",
      "frog : frog : 0.213158\n",
      "cat : frog : 0.203487\n",
      "1/1 [==============================] - 0s 90ms/step\n",
      "frog : frog : 0.215948\n",
      "bird : frog : 0.210110\n",
      "automobile : frog : 0.167048\n",
      "bird : ship : 0.239540\n",
      "cat : frog : 0.233263\n",
      "horse : truck : 0.164625\n",
      "bird : frog : 0.184599\n",
      "frog : frog : 0.235701\n",
      "ship : frog : 0.163101\n",
      "ship : automobile : 0.176905\n",
      "airplane : truck : 0.184682\n",
      "bird : frog : 0.198556\n",
      "truck : frog : 0.172940\n",
      "cat : frog : 0.166721\n",
      "cat : frog : 0.225151\n",
      "ship : automobile : 0.191852\n",
      "ship : ship : 0.176937\n",
      "automobile : frog : 0.273290\n",
      "automobile : frog : 0.186436\n",
      "horse : automobile : 0.173518\n",
      "bird : automobile : 0.172712\n",
      "dog : automobile : 0.183548\n",
      "bird : automobile : 0.186444\n",
      "horse : automobile : 0.185080\n",
      "ship : frog : 0.183011\n",
      "truck : automobile : 0.179024\n",
      "airplane : automobile : 0.200610\n",
      "cat : frog : 0.224662\n",
      "ship : automobile : 0.224294\n",
      "frog : frog : 0.169507\n",
      "deer : frog : 0.143239\n",
      "frog : frog : 0.249201\n",
      "1/1 [==============================] - 0s 271ms/step\n",
      "frog : frog : 0.258755\n",
      "airplane : ship : 0.179644\n",
      "airplane : frog : 0.210514\n",
      "horse : frog : 0.211723\n"
     ]
    }
   ],
   "source": [
    "test_generator.reset()\n",
    "\n",
    "count = 0\n",
    "y_pred = list()\n",
    "y_true = list()\n",
    "class_names = cifar10_classes\n",
    "\n",
    "# Loop do data generator de teste que contem as imagens\n",
    "for batch in test_generator:\n",
    "\n",
    "    count+=1\n",
    "    \n",
    "    # Condição de saída do loop. Só executaremos o modelo em algumas imagens\n",
    "    if count == len(test_generator)+1:\n",
    "        break\n",
    "        \n",
    "    else:\n",
    "        # Pegando a imagem e o label\n",
    "        images = batch[0]\n",
    "        labels = batch[1]\n",
    "\n",
    "        # Previsão\n",
    "        predictions = model.predict(images)\n",
    "\n",
    "        # Visualização da imagem\n",
    "        for i in range(len(images)):\n",
    "            \n",
    "            image = images[i]\n",
    "            label = labels[i]\n",
    "\n",
    "            prediction = predictions[i]\n",
    "        \n",
    "            # Converte o array de previsão para visualizar a classe e a probabilidade\n",
    "            predicted_class = np.argmax(prediction)\n",
    "            probability = prediction[predicted_class]\n",
    "\n",
    "            labeled_class = np.argmax(label)    \n",
    "            label = class_names[int(labeled_class)]\n",
    "\n",
    "            y_true.append(label)\n",
    "\n",
    "            # Faz o DE-PARA da probabilidade com o tipo de classe da previsão\n",
    "            # class_name = 'dog' if prediction >= 0.5 else 'cat'\n",
    "\n",
    "            class_name = class_names[int(predicted_class)]\n",
    "\n",
    "            y_pred.append(class_name)\n",
    "        \n",
    "            # # Configura a saída das imagens que serão visualizadas\n",
    "            # plt.figure(figsize=(.5, .5))\n",
    "            # plt.imshow(image)\n",
    "            # plt.axis('Off')\n",
    "            # plt.show()\n",
    "\n",
    "            print('%s : %s : %f' % (label, class_name, probability))"
   ]
  },
  {
   "cell_type": "code",
   "execution_count": 73,
   "metadata": {},
   "outputs": [
    {
     "name": "stdout",
     "output_type": "stream",
     "text": [
      "Test: accuracy = 0.210000  ;  loss = 2.225336 \n"
     ]
    }
   ],
   "source": [
    "loss, accuracy = model.evaluate_generator(test_generator)\n",
    "print(\"Test: accuracy = %f  ;  loss = %f \" % (accuracy, loss))"
   ]
  },
  {
   "cell_type": "code",
   "execution_count": 74,
   "metadata": {},
   "outputs": [
    {
     "name": "stdout",
     "output_type": "stream",
     "text": [
      "Accuracy:  0.21\n",
      "Precision:  0.09313461538461539\n",
      "Recall:  0.21\n",
      "F1 Score:  0.10835273368606702\n"
     ]
    }
   ],
   "source": [
    "accuracy = skm.accuracy_score(y_true, y_pred)\n",
    "precision = skm.precision_score(y_true, y_pred, average='weighted')\n",
    "recall = skm.recall_score(y_true, y_pred, average='weighted')\n",
    "f1score = skm.f1_score(y_true, y_pred, average='weighted')\n",
    "\n",
    "print(\"Accuracy: \", accuracy)\n",
    "print(\"Precision: \", precision)\n",
    "print(\"Recall: \", recall)\n",
    "print(\"F1 Score: \", f1score)"
   ]
  },
  {
   "cell_type": "code",
   "execution_count": 75,
   "metadata": {},
   "outputs": [
    {
     "name": "stdout",
     "output_type": "stream",
     "text": [
      "Matriz de confusão sem normalização\n"
     ]
    },
    {
     "data": {
      "image/png": "[encoded data removed]",
      "text/plain": [
       "<Figure size 640x480 with 2 Axes>"
      ]
     },
     "metadata": {},
     "output_type": "display_data"
    }
   ],
   "source": [
    "cnf_matrix = confusion_matrix(y_true, y_pred, labels=class_names)\n",
    "np.set_printoptions(precision=2)\n",
    "\n",
    "plt.figure()\n",
    "plot_confusion_matrix(cnf_matrix, \n",
    "                      classes=cifar10_classes,\n",
    "                      normalize= False, \n",
    "                      title='Matriz real x predição')"
   ]
  },
  {
   "cell_type": "code",
   "execution_count": null,
   "metadata": {},
   "outputs": [],
   "source": []
  },
  {
   "cell_type": "code",
   "execution_count": null,
   "metadata": {},
   "outputs": [],
   "source": []
  },
  {
   "cell_type": "code",
   "execution_count": 76,
   "metadata": {},
   "outputs": [
    {
     "name": "stdout",
     "output_type": "stream",
     "text": [
      "Test: accuracy = 0.161290  ;  loss = 2.383851 \n"
     ]
    }
   ],
   "source": [
    "loss, accuracy = model.evaluate_generator(generator=valid_generator)\n",
    "print(\"Test: accuracy = %f  ;  loss = %f \" % (accuracy, loss))"
   ]
  },
  {
   "cell_type": "code",
   "execution_count": 77,
   "metadata": {},
   "outputs": [],
   "source": [
    "test_generator.reset()\n",
    "pred=model.predict_generator(test_generator)\n",
    "\n",
    "predicted_class_indices=np.argmax(pred,axis=1)"
   ]
  },
  {
   "cell_type": "code",
   "execution_count": 78,
   "metadata": {},
   "outputs": [],
   "source": [
    "labels = (train_generator.class_indices)\n",
    "labels = dict((v,k) for k,v in labels.items())\n",
    "predictions = [labels[k] for k in predicted_class_indices]"
   ]
  },
  {
   "cell_type": "code",
   "execution_count": 79,
   "metadata": {},
   "outputs": [],
   "source": [
    "filenames=test_generator.filenames\n",
    "results=pd.DataFrame({\"Filename\":filenames,\n",
    "                      \"Predictions\":predictions})\n",
    "results.to_csv(\"results.csv\",index=False)"
   ]
  }
 ],
 "metadata": {
  "kernelspec": {
   "display_name": "Python 3",
   "language": "python",
   "name": "python3"
  },
  "language_info": {
   "codemirror_mode": {
    "name": "ipython",
    "version": 3
   },
   "file_extension": ".py",
   "mimetype": "text/x-python",
   "name": "python",
   "nbconvert_exporter": "python",
   "pygments_lexer": "ipython3",
   "version": "3.11.4"
  },
  "orig_nbformat": 4
 },
 "nbformat": 4,
 "nbformat_minor": 2
}
