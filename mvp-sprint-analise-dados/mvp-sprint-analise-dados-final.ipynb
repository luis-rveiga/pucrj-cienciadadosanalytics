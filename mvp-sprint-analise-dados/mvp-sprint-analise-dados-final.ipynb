{
 "cells": [
  {
   "cell_type": "markdown",
   "metadata": {},
   "source": [
    "# Trabalho da disciplina Projeto/MVP em Análise de Dados e Boas Práticas"
   ]
  },
  {
   "cell_type": "markdown",
   "metadata": {},
   "source": [
    "## Aluno: Luis Eduardo Ribeiro Veiga - RA: 40520223000855"
   ]
  },
  {
   "cell_type": "markdown",
   "metadata": {},
   "source": [
    "## Notebook apresentando as fases: Definição do problema; Coleta e análise de dados; e Pré-processamento de um projeto de ciência de dados."
   ]
  },
  {
   "cell_type": "markdown",
   "metadata": {},
   "source": [
    "**Descrição do Problema** - Criar um notebook apresentando as fases de definição do problema, coleta e análise de dados, e pré-processamento do dataset 'California_Housing_Dataset'.\n",
    "\n",
    "**Dataset** - O dataset inclui características de casas e estatísticas do censo do estado da Califórnia (EUA) de 1990.\n",
    "\n",
    "O dataset é composto de 20640 instâncias e 8 atributos.\n",
    "\n",
    "Link para acessar o dataset - https://www.kaggle.com/code/olanrewajurasheed/california-housing-dataset\n",
    "\n",
    "O dataset também está disponível na biblioteca scikit-learn."
   ]
  },
  {
   "cell_type": "markdown",
   "metadata": {},
   "source": [
    "### Importação de bibliotecas"
   ]
  },
  {
   "cell_type": "code",
   "execution_count": 1,
   "metadata": {},
   "outputs": [],
   "source": [
    "# Configuração para não exibir os warnings\n",
    "import warnings\n",
    "warnings.filterwarnings(\"ignore\")\n",
    "\n",
    "from sklearn.datasets import fetch_california_housing"
   ]
  },
  {
   "cell_type": "markdown",
   "metadata": {},
   "source": [
    "### Funções utilitárias"
   ]
  },
  {
   "cell_type": "code",
   "execution_count": 2,
   "metadata": {},
   "outputs": [],
   "source": []
  },
  {
   "cell_type": "markdown",
   "metadata": {},
   "source": [
    "### Carga e preparação dos dados"
   ]
  },
  {
   "cell_type": "markdown",
   "metadata": {},
   "source": [
    "Carrega o arquivo zip a partir da url, descompacta o arquivo e cria o dataset."
   ]
  },
  {
   "cell_type": "code",
   "execution_count": 2,
   "metadata": {},
   "outputs": [],
   "source": [
    "# Carga do dataset\n",
    "california_housing = fetch_california_housing(as_frame=True)"
   ]
  },
  {
   "cell_type": "markdown",
   "metadata": {},
   "source": [
    "Apresenta informações sobre o dataset."
   ]
  },
  {
   "cell_type": "code",
   "execution_count": 3,
   "metadata": {},
   "outputs": [
    {
     "name": "stdout",
     "output_type": "stream",
     "text": [
      ".. _california_housing_dataset:\n",
      "\n",
      "California Housing dataset\n",
      "--------------------------\n",
      "\n",
      "**Data Set Characteristics:**\n",
      "\n",
      "    :Number of Instances: 20640\n",
      "\n",
      "    :Number of Attributes: 8 numeric, predictive attributes and the target\n",
      "\n",
      "    :Attribute Information:\n",
      "        - MedInc        median income in block group\n",
      "        - HouseAge      median house age in block group\n",
      "        - AveRooms      average number of rooms per household\n",
      "        - AveBedrms     average number of bedrooms per household\n",
      "        - Population    block group population\n",
      "        - AveOccup      average number of household members\n",
      "        - Latitude      block group latitude\n",
      "        - Longitude     block group longitude\n",
      "\n",
      "    :Missing Attribute Values: None\n",
      "\n",
      "This dataset was obtained from the StatLib repository.\n",
      "https://www.dcc.fc.up.pt/~ltorgo/Regression/cal_housing.html\n",
      "\n",
      "The target variable is the median house value for California districts,\n",
      "expressed in hundreds of thousands of dollars ($100,000).\n",
      "\n",
      "This dataset was derived from the 1990 U.S. census, using one row per census\n",
      "block group. A block group is the smallest geographical unit for which the U.S.\n",
      "Census Bureau publishes sample data (a block group typically has a population\n",
      "of 600 to 3,000 people).\n",
      "\n",
      "A household is a group of people residing within a home. Since the average\n",
      "number of rooms and bedrooms in this dataset are provided per household, these\n",
      "columns may take surprisingly large values for block groups with few households\n",
      "and many empty houses, such as vacation resorts.\n",
      "\n",
      "It can be downloaded/loaded using the\n",
      ":func:`sklearn.datasets.fetch_california_housing` function.\n",
      "\n",
      ".. topic:: References\n",
      "\n",
      "    - Pace, R. Kelley and Ronald Barry, Sparse Spatial Autoregressions,\n",
      "      Statistics and Probability Letters, 33 (1997) 291-297\n",
      "\n"
     ]
    }
   ],
   "source": [
    "print(california_housing.DESCR)"
   ]
  },
  {
   "cell_type": "markdown",
   "metadata": {},
   "source": [
    "Separa os dados do dataset em treino e teste."
   ]
  },
  {
   "cell_type": "code",
   "execution_count": 5,
   "metadata": {},
   "outputs": [],
   "source": [
    "# Preparação dos dados\n",
    "\n",
    "# Separação em bases de treino e teste (holdout)\n",
    "array = dataset.values\n",
    "X = array[:,0:36]\n",
    "y = array[:,36]"
   ]
  },
  {
   "cell_type": "markdown",
   "metadata": {},
   "source": [
    "**Seleção de atributos**\n",
    "\n",
    "É utilizada a técnica de 'Seleção Univariada' para selecionar as variáveis que tenham maior relação com a variável de saída (target).\n",
    "\n",
    "A rotina seleciona o melhor K e daí seleciona os atributos que correspondam a esse número."
   ]
  },
  {
   "cell_type": "code",
   "execution_count": 6,
   "metadata": {},
   "outputs": [
    {
     "name": "stdout",
     "output_type": "stream",
     "text": [
      "\n",
      "Número original de atributos: 36\n",
      "\n",
      "Número reduzido de atributos: 13\n",
      "\n",
      "Atributos Originais: Index(['Marital status', 'Application mode', 'Application order', 'Course',\n",
      "       'Daytime/evening attendance\\t', 'Previous qualification',\n",
      "       'Previous qualification (grade)', 'Nacionality',\n",
      "       'Mother's qualification', 'Father's qualification',\n",
      "       'Mother's occupation', 'Father's occupation', 'Admission grade',\n",
      "       'Displaced', 'Educational special needs', 'Debtor',\n",
      "       'Tuition fees up to date', 'Gender', 'Scholarship holder',\n",
      "       'Age at enrollment', 'International',\n",
      "       'Curricular units 1st sem (credited)',\n",
      "       'Curricular units 1st sem (enrolled)',\n",
      "       'Curricular units 1st sem (evaluations)',\n",
      "       'Curricular units 1st sem (approved)',\n",
      "       'Curricular units 1st sem (grade)',\n",
      "       'Curricular units 1st sem (without evaluations)',\n",
      "       'Curricular units 2nd sem (credited)',\n",
      "       'Curricular units 2nd sem (enrolled)',\n",
      "       'Curricular units 2nd sem (evaluations)',\n",
      "       'Curricular units 2nd sem (approved)',\n",
      "       'Curricular units 2nd sem (grade)',\n",
      "       'Curricular units 2nd sem (without evaluations)', 'Unemployment rate',\n",
      "       'Inflation rate', 'GDP'],\n",
      "      dtype='object')\n",
      "\n",
      "Scores dos Atributos Originais: [1.983e+01 1.145e+02 1.973e+01 2.671e+00 1.445e+01 7.005e+00 2.773e+01\n",
      " 8.362e-01 1.282e+01 3.838e+00 9.838e+00 8.968e+00 3.565e+01 2.924e+01\n",
      " 3.209e-01 1.376e+02 5.056e+02 1.230e+02 2.258e+02 1.547e+02 6.397e-01\n",
      " 7.979e+00 5.947e+01 3.753e+01 8.599e+02 7.135e+02 1.144e+01 9.975e+00\n",
      " 7.559e+01 8.780e+01 1.411e+03 1.134e+03 2.019e+01 5.923e+00 1.742e+00\n",
      " 4.799e+00]\n",
      "\n",
      "Atributos Selecionados: ['Application mode' 'Debtor' 'Tuition fees up to date' 'Gender'\n",
      " 'Scholarship holder' 'Age at enrollment'\n",
      " 'Curricular units 1st sem (enrolled)'\n",
      " 'Curricular units 1st sem (approved)' 'Curricular units 1st sem (grade)'\n",
      " 'Curricular units 2nd sem (enrolled)'\n",
      " 'Curricular units 2nd sem (evaluations)'\n",
      " 'Curricular units 2nd sem (approved)' 'Curricular units 2nd sem (grade)']\n"
     ]
    }
   ],
   "source": [
    "# Seleção de atributos usando Seleção Univariada\n",
    "\n",
    "# Calculando o melhor k\n",
    "f1_score_list = []\n",
    "\n",
    "model_LR = LogisticRegression(max_iter=200)\n",
    "\n",
    "for k in range(1, 37):\n",
    "    # Seleção de atributos com SelectKBest\n",
    "    kbest_var = SelectKBest(score_func=f_classif, k=k)\n",
    "\n",
    "    # Executa a função de pontuação e obtém os atributos selecionados\n",
    "    kbest_var.fit(X, y)\n",
    "\n",
    "    # Reduz X para os atributos selecionados\n",
    "    features = kbest_var.transform(X)\n",
    "\n",
    "    X_train, X_test, y_train, y_test = train_test_split(features, y, test_size=0.3, shuffle=True, random_state=42, stratify=y)\n",
    "\n",
    "    model_LR.fit(X_train, y_train)\n",
    "    kbest_pred = model_LR.predict(X_test)    \n",
    "\n",
    "    f1_score_kbest = round(f1_score(y_test, kbest_pred, average='weighted'), 3)\n",
    "    f1_score_list.append(f1_score_kbest)\n",
    "\n",
    "# O melhor k selecionado\n",
    "kbest = f1_score_list.index(max(f1_score_list)) + 1\n",
    "\n",
    "# Seleção de atributos com o melhor k\n",
    "kbest_var = SelectKBest(score_func=f_classif, k=kbest)\n",
    "\n",
    "# Executa a função de pontuação em (X, y) e obtém os atributos selecionados\n",
    "fit = kbest_var.fit(X, y)\n",
    "\n",
    "# Reduz X para os atributos selecionados\n",
    "features = fit.transform(X)\n",
    "\n",
    "# resultados\n",
    "print('\\nNúmero original de atributos:', X.shape[1])\n",
    "print('\\nNúmero reduzido de atributos:', features.shape[1])\n",
    "\n",
    "# Exibe os atributos originais\n",
    "print(\"\\nAtributos Originais:\", dataset.columns[0:36])\n",
    "\n",
    "# Exibe as pontuações de cada atributo e os escolhidos (com as pontuações mais altas)\n",
    "np.set_printoptions(precision=3) \n",
    "print(\"\\nScores dos Atributos Originais:\", fit.scores_)\n",
    "print(\"\\nAtributos Selecionados:\", kbest_var.get_feature_names_out(input_features=dataset.columns[0:36]))\n",
    "\n",
    "X = features"
   ]
  },
  {
   "cell_type": "markdown",
   "metadata": {},
   "source": [
    "### Criação de Pipelines"
   ]
  },
  {
   "cell_type": "markdown",
   "metadata": {},
   "source": [
    "Define os folds para a validação cruzada. Serão utilizadas 10 partições em sua configuração."
   ]
  },
  {
   "cell_type": "code",
   "execution_count": 7,
   "metadata": {},
   "outputs": [],
   "source": [
    "# Criando os folds para a validação cruzada\n",
    "num_splits = 10\n",
    "kfold = KFold(n_splits=num_splits, shuffle=True, random_state=42)"
   ]
  },
  {
   "cell_type": "markdown",
   "metadata": {},
   "source": [
    "Configuração e avaliação dos modelos."
   ]
  },
  {
   "cell_type": "code",
   "execution_count": 8,
   "metadata": {},
   "outputs": [
    {
     "name": "stdout",
     "output_type": "stream",
     "text": [
      "KNN: 0.704117 (0.028161)\n",
      "CART: 0.677641 (0.015503)\n",
      "NB: 0.717349 (0.033303)\n",
      "SVM: 0.726404 (0.024232)\n",
      "LR: 0.760966 (0.031134)\n",
      "Bagging: 0.751280 (0.021899)\n",
      "RF: 0.757410 (0.024318)\n",
      "ET: 0.745458 (0.022584)\n",
      "Ada: 0.748685 (0.027233)\n",
      "GB: 0.765153 (0.026484)\n",
      "Voting: 0.751599 (0.026791)\n"
     ]
    },
    {
     "data": {
      "image/png": "[encoded data removed]",
      "text/plain": [
       "<Figure size 1500x1000 with 1 Axes>"
      ]
     },
     "metadata": {},
     "output_type": "display_data"
    }
   ],
   "source": [
    "# Modelagem\n",
    "\n",
    "# Definindo uma seed global para esta célula de código\n",
    "np.random.seed(42)\n",
    "\n",
    "# Divindindo o dataset em subconjuntos de treino e teste\n",
    "X_train, X_test, y_train, y_test = train_test_split(X, y, test_size=0.3, shuffle=True, random_state=42, stratify=y)\n",
    "\n",
    "# Listas para aramazenar os modelos, os resultados e os nomes dos modelos\n",
    "models = []\n",
    "results = []\n",
    "names = []\n",
    "\n",
    "# Preparando os modelos e adicionando-os em uma lista\n",
    "models.append(('KNN', KNeighborsClassifier()))\n",
    "models.append(('CART', DecisionTreeClassifier()))\n",
    "models.append(('NB', GaussianNB()))\n",
    "models.append(('SVM', SVC()))\n",
    "models.append(('LR', LogisticRegression(max_iter=200)))\n",
    "\n",
    "# Definindo os parâmetros do classificador base para o BaggingClassifier\n",
    "base = DecisionTreeClassifier()\n",
    "num_trees = 100\n",
    "max_features = 3\n",
    "\n",
    "# Criando os modelos para o VotingClassifier\n",
    "bases = []\n",
    "model1 = LogisticRegression(max_iter=200)\n",
    "bases.append(('Logistic', model1))\n",
    "model2 = DecisionTreeClassifier()\n",
    "bases.append(('cart', model2))\n",
    "model3 = SVC()\n",
    "bases.append(('svm', model3))\n",
    "\n",
    "# Criando os ensembles e adicionando na lista de modelos\n",
    "models.append(('Bagging', BaggingClassifier(base_estimator=base, n_estimators=num_trees)))\n",
    "models.append(('RF', RandomForestClassifier(n_estimators=num_trees, max_features=max_features)))\n",
    "models.append(('ET', ExtraTreesClassifier(n_estimators=num_trees, max_features=max_features)))\n",
    "models.append(('Ada', AdaBoostClassifier(n_estimators=num_trees)))\n",
    "models.append(('GB', GradientBoostingClassifier(n_estimators=num_trees)))\n",
    "models.append(('Voting', VotingClassifier(bases)))\n",
    "\n",
    "# Avaliando um modelo por vez\n",
    "for name, model in models:\n",
    "    cv_results = cross_val_score(model, X_train, y_train, cv=kfold, scoring='accuracy')\n",
    "    results.append(cv_results)\n",
    "    names.append(name)\n",
    "    msg = \"%s: %f (%f)\" % (name, cv_results.mean(), cv_results.std())\n",
    "    print(msg)\n",
    "\n",
    "# Boxplot de comparação de modelos\n",
    "fig = plt.figure(figsize=(15,10))\n",
    "fig.suptitle('Comparação da Acurácia dos Modelos')\n",
    "ax = fig.add_subplot(111)\n",
    "plt.boxplot(results)\n",
    "ax.set_xticklabels(names)\n",
    "plt.show()"
   ]
  },
  {
   "cell_type": "markdown",
   "metadata": {},
   "source": [
    "Criando os elementos do Pipeline. Definição de algoritmos e transformações que serão utilizadas."
   ]
  },
  {
   "cell_type": "code",
   "execution_count": 9,
   "metadata": {},
   "outputs": [],
   "source": [
    "# Criando os elementos do pipeline\n",
    "\n",
    "# Algoritmos que serão utilizados\n",
    "reg_log = ('LR', LogisticRegression(max_iter=200))\n",
    "random_forest = ('RF', RandomForestClassifier(n_estimators=num_trees, max_features=max_features))\n",
    "gradient_boosting = ('GB', GradientBoostingClassifier(n_estimators=num_trees))\n",
    "\n",
    "# Transformações que serão utilizadas\n",
    "standard_scaler = ('StandardScaler', StandardScaler())\n",
    "min_max_scaler = ('MinMaxScaler', MinMaxScaler())"
   ]
  },
  {
   "cell_type": "markdown",
   "metadata": {},
   "source": [
    "Configuração e avaliação dos Pipelines."
   ]
  },
  {
   "cell_type": "code",
   "execution_count": 10,
   "metadata": {},
   "outputs": [
    {
     "name": "stdout",
     "output_type": "stream",
     "text": [
      "LR-orig: 0.760966 (0.031134)\n",
      "RF-orig: 0.761289 (0.026021)\n",
      "GB-orig: 0.764830 (0.026588)\n",
      "LR-padr: 0.760643 (0.028780)\n",
      "RF-padr: 0.755805 (0.018721)\n",
      "GB-padr: 0.765476 (0.026218)\n",
      "LR-norm: 0.749655 (0.028323)\n",
      "RF-norm: 0.757408 (0.025316)\n",
      "GB-norm: 0.764830 (0.026588)\n"
     ]
    },
    {
     "data": {
      "image/png": "[encoded data removed]",
      "text/plain": [
       "<Figure size 1000x600 with 1 Axes>"
      ]
     },
     "metadata": {},
     "output_type": "display_data"
    }
   ],
   "source": [
    "# Montando os pipelines\n",
    "\n",
    "# Lista para armazenar os pipelines\n",
    "pipelines = []\n",
    "\n",
    "# Listas para aramazenar os resultados e os nomes dos modelos\n",
    "results = []\n",
    "names = []\n",
    "\n",
    "# Dataset original\n",
    "pipelines.append(('LR-orig', Pipeline([reg_log])))\n",
    "pipelines.append(('RF-orig', Pipeline([random_forest])))\n",
    "pipelines.append(('GB-orig', Pipeline([gradient_boosting])))\n",
    "\n",
    "# Dataset padronizado\n",
    "pipelines.append(('LR-padr', Pipeline([standard_scaler, reg_log])))\n",
    "pipelines.append(('RF-padr', Pipeline([standard_scaler, random_forest])))\n",
    "pipelines.append(('GB-padr', Pipeline([standard_scaler, gradient_boosting])))\n",
    "\n",
    "# Dataset normalizado\n",
    "pipelines.append(('LR-norm', Pipeline([min_max_scaler, reg_log])))\n",
    "pipelines.append(('RF-norm', Pipeline([min_max_scaler, random_forest])))\n",
    "pipelines.append(('GB-norm', Pipeline([min_max_scaler, gradient_boosting])))\n",
    "\n",
    "# Executando os pipelines\n",
    "for name, model in pipelines:\n",
    "    cv_results = cross_val_score(model, X_train, y_train, cv=kfold, scoring='accuracy')\n",
    "    results.append(cv_results)\n",
    "    names.append(name)\n",
    "    msg = \"%s: %f (%f)\" % (name, cv_results.mean(), cv_results.std())\n",
    "    print(msg)\n",
    "\n",
    "# Boxplot de comparação de modelos selecionados\n",
    "fig = plt.figure(figsize=(10, 6))\n",
    "fig.suptitle('Comparação dos Modelos - Dataset original, padronizado e normalizado')\n",
    "ax = fig.add_subplot(111)\n",
    "plt.boxplot(results)\n",
    "ax.set_xticklabels(names, rotation=90)\n",
    "plt.show()"
   ]
  },
  {
   "cell_type": "markdown",
   "metadata": {},
   "source": [
    "### Otimização de Hiperparâmetros"
   ]
  },
  {
   "cell_type": "markdown",
   "metadata": {},
   "source": [
    "Baseado no resultado da acurácia da execução dos Pipelines, foram selecionados os algoritmos de Regressão Logistica, Random Forest e Gradient Boosting, para a aplicação de hiperparâmetros a fim de encontrar o melhor modelo."
   ]
  },
  {
   "cell_type": "code",
   "execution_count": 11,
   "metadata": {},
   "outputs": [
    {
     "name": "stdout",
     "output_type": "stream",
     "text": [
      "Sem tratamento de missings: LR-orig - Melhor: 0.766139 usando {'LR__C': 4.281332398719396, 'LR__max_iter': 100, 'LR__penalty': 'l2', 'LR__solver': 'lbfgs'}\n",
      "Sem tratamento de missings: LR-padr - Melhor: 0.763232 usando {'LR__C': 0.615848211066026, 'LR__max_iter': 100, 'LR__penalty': 'l1', 'LR__solver': 'saga'}\n",
      "Sem tratamento de missings: LR-norm - Melhor: 0.762906 usando {'LR__C': 0.0001, 'LR__max_iter': 100, 'LR__penalty': 'none', 'LR__solver': 'lbfgs'}\n"
     ]
    }
   ],
   "source": [
    "# tuning da Regressão Logistica\n",
    "\n",
    "pipelines_reg_log = []\n",
    "\n",
    "# definindo os componentes do pipeline\n",
    "pipelines_reg_log.append(('LR-orig', Pipeline(steps=[reg_log])))\n",
    "pipelines_reg_log.append(('LR-padr', Pipeline(steps=[standard_scaler, reg_log])))\n",
    "pipelines_reg_log.append(('LR-norm', Pipeline(steps=[min_max_scaler, reg_log])))\n",
    "\n",
    "param_grid= {\n",
    "    'LR__penalty' : ['l1', 'l2', 'elasticnet', 'none'],\n",
    "    'LR__C' : np.logspace(-4, 4, 20),\n",
    "    'LR__solver' : ['lbfgs','newton-cg','liblinear','sag','saga'],\n",
    "    'LR__max_iter' : [100, 1000,2500, 5000]\n",
    "}\n",
    "\n",
    "# prepara e executa o GridSearchCV\n",
    "for name, model in pipelines_reg_log:\n",
    "    grid = GridSearchCV(estimator=model, param_grid=param_grid, cv=kfold, scoring='accuracy')\n",
    "    grid.fit(X_train, y_train)\n",
    "    # imprime a melhor configuração\n",
    "    msg = \"Sem tratamento de missings: %s - Melhor: %f usando %s\" % (name, grid.best_score_, grid.best_params_)\n",
    "    print(msg)"
   ]
  },
  {
   "cell_type": "code",
   "execution_count": 12,
   "metadata": {},
   "outputs": [
    {
     "name": "stdout",
     "output_type": "stream",
     "text": [
      "Sem tratamento de missings: RF-orig - Melhor: 0.760644 usando {'RF__max_features': 3, 'RF__n_estimators': 200}\n",
      "Sem tratamento de missings: RF-padr - Melhor: 0.760318 usando {'RF__max_features': 3, 'RF__n_estimators': 200}\n",
      "Sem tratamento de missings: RF-norm - Melhor: 0.759999 usando {'RF__max_features': 1, 'RF__n_estimators': 200}\n"
     ]
    }
   ],
   "source": [
    "# Tuning do Random Forest\n",
    "\n",
    "pipelines_random_forest = []\n",
    "\n",
    "# Definindo os componentes do pipeline\n",
    "pipelines_random_forest.append(('RF-orig', Pipeline(steps=[random_forest])))\n",
    "pipelines_random_forest.append(('RF-padr', Pipeline(steps=[standard_scaler, random_forest])))\n",
    "pipelines_random_forest.append(('RF-norm', Pipeline(steps=[min_max_scaler, random_forest])))\n",
    "\n",
    "param_grid = [{\n",
    "    'RF__n_estimators':[10,100,200],\n",
    "    'RF__max_features':[1,3],\n",
    "}]\n",
    "\n",
    "# prepara e executa o GridSearchCV\n",
    "for name, model in pipelines_random_forest:\n",
    "    grid = GridSearchCV(estimator=model, param_grid=param_grid, cv=kfold, scoring='accuracy')\n",
    "    grid.fit(X_train, y_train)\n",
    "    # imprime a melhor configuração\n",
    "    msg = \"Sem tratamento de missings: %s - Melhor: %f usando %s\" % (name, grid.best_score_, grid.best_params_)\n",
    "    print(msg)"
   ]
  },
  {
   "cell_type": "code",
   "execution_count": 13,
   "metadata": {},
   "outputs": [
    {
     "name": "stdout",
     "output_type": "stream",
     "text": [
      "Sem tratamento de missings: GB-orig - Melhor: 0.763865 usando {'GB__max_features': 3, 'GB__n_estimators': 100}\n",
      "Sem tratamento de missings: GB-padr - Melhor: 0.762258 usando {'GB__max_features': 1, 'GB__n_estimators': 200}\n",
      "Sem tratamento de missings: GB-norm - Melhor: 0.765804 usando {'GB__max_features': 1, 'GB__n_estimators': 200}\n"
     ]
    }
   ],
   "source": [
    "# Tuning do Gradient Boosting\n",
    "\n",
    "pipelines_gradient_boosting = []\n",
    "\n",
    "# Definindo os componentes do pipeline\n",
    "pipelines_gradient_boosting.append(('GB-orig', Pipeline(steps=[gradient_boosting])))\n",
    "pipelines_gradient_boosting.append(('GB-padr', Pipeline(steps=[standard_scaler, gradient_boosting])))\n",
    "pipelines_gradient_boosting.append(('GB-norm', Pipeline(steps=[min_max_scaler, gradient_boosting])))\n",
    "\n",
    "param_grid = [{\n",
    "    'GB__n_estimators':[10,100,200],\n",
    "    'GB__max_features':[1,3],\n",
    "}]\n",
    "\n",
    "# prepara e executa o GridSearchCV\n",
    "for name, model in pipelines_gradient_boosting:\n",
    "    grid = GridSearchCV(estimator=model, param_grid=param_grid, cv=kfold, scoring='accuracy')\n",
    "    grid.fit(X_train, y_train)\n",
    "    # imprime a melhor configuração\n",
    "    msg = \"Sem tratamento de missings: %s - Melhor: %f usando %s\" % (name, grid.best_score_, grid.best_params_)\n",
    "    print(msg)"
   ]
  },
  {
   "cell_type": "markdown",
   "metadata": {},
   "source": [
    "Execução do modelo com a melhor configuração de hiperparâmetros e dados de teste."
   ]
  },
  {
   "cell_type": "code",
   "execution_count": 23,
   "metadata": {},
   "outputs": [
    {
     "name": "stdout",
     "output_type": "stream",
     "text": [
      "0.7703313253012049\n"
     ]
    }
   ],
   "source": [
    "# avaliação do modelo com o conjunto de testes\n",
    "\n",
    "# preparação do modelo\n",
    "scaler = StandardScaler().fit(X_train)\n",
    "rescaledX = scaler.transform(X_train)\n",
    "\n",
    "reg_log = ('LR', LogisticRegression(max_iter=100, C=4.281332398719396, penalty='l2', solver='lbfgs'))\n",
    "model = Pipeline([reg_log])\n",
    "\n",
    "model.fit(rescaledX, y_train)\n",
    "\n",
    "# estimativa da acurácia no conjunto de teste\n",
    "rescaledTextX = scaler.transform(X_test)\n",
    "predictions = model.predict(rescaledTextX)\n",
    "print(accuracy_score(y_test, predictions))"
   ]
  },
  {
   "cell_type": "markdown",
   "metadata": {},
   "source": [
    "### Teste do modelo com todo o dataset"
   ]
  },
  {
   "cell_type": "markdown",
   "metadata": {},
   "source": [
    "Preparação do modelo."
   ]
  },
  {
   "cell_type": "code",
   "execution_count": 24,
   "metadata": {},
   "outputs": [
    {
     "data": {
      "text/html": [
       "<style>#sk-container-id-2 {color: black;}#sk-container-id-2 pre{padding: 0;}#sk-container-id-2 div.sk-toggleable {background-color: white;}#sk-container-id-2 label.sk-toggleable__label {cursor: pointer;display: block;width: 100%;margin-bottom: 0;padding: 0.3em;box-sizing: border-box;text-align: center;}#sk-container-id-2 label.sk-toggleable__label-arrow:before {content: \"▸\";float: left;margin-right: 0.25em;color: #696969;}#sk-container-id-2 label.sk-toggleable__label-arrow:hover:before {color: black;}#sk-container-id-2 div.sk-estimator:hover label.sk-toggleable__label-arrow:before {color: black;}#sk-container-id-2 div.sk-toggleable__content {max-height: 0;max-width: 0;overflow: hidden;text-align: left;background-color: #f0f8ff;}#sk-container-id-2 div.sk-toggleable__content pre {margin: 0.2em;color: black;border-radius: 0.25em;background-color: #f0f8ff;}#sk-container-id-2 input.sk-toggleable__control:checked~div.sk-toggleable__content {max-height: 200px;max-width: 100%;overflow: auto;}#sk-container-id-2 input.sk-toggleable__control:checked~label.sk-toggleable__label-arrow:before {content: \"▾\";}#sk-container-id-2 div.sk-estimator input.sk-toggleable__control:checked~label.sk-toggleable__label {background-color: #d4ebff;}#sk-container-id-2 div.sk-label input.sk-toggleable__control:checked~label.sk-toggleable__label {background-color: #d4ebff;}#sk-container-id-2 input.sk-hidden--visually {border: 0;clip: rect(1px 1px 1px 1px);clip: rect(1px, 1px, 1px, 1px);height: 1px;margin: -1px;overflow: hidden;padding: 0;position: absolute;width: 1px;}#sk-container-id-2 div.sk-estimator {font-family: monospace;background-color: #f0f8ff;border: 1px dotted black;border-radius: 0.25em;box-sizing: border-box;margin-bottom: 0.5em;}#sk-container-id-2 div.sk-estimator:hover {background-color: #d4ebff;}#sk-container-id-2 div.sk-parallel-item::after {content: \"\";width: 100%;border-bottom: 1px solid gray;flex-grow: 1;}#sk-container-id-2 div.sk-label:hover label.sk-toggleable__label {background-color: #d4ebff;}#sk-container-id-2 div.sk-serial::before {content: \"\";position: absolute;border-left: 1px solid gray;box-sizing: border-box;top: 0;bottom: 0;left: 50%;z-index: 0;}#sk-container-id-2 div.sk-serial {display: flex;flex-direction: column;align-items: center;background-color: white;padding-right: 0.2em;padding-left: 0.2em;position: relative;}#sk-container-id-2 div.sk-item {position: relative;z-index: 1;}#sk-container-id-2 div.sk-parallel {display: flex;align-items: stretch;justify-content: center;background-color: white;position: relative;}#sk-container-id-2 div.sk-item::before, #sk-container-id-2 div.sk-parallel-item::before {content: \"\";position: absolute;border-left: 1px solid gray;box-sizing: border-box;top: 0;bottom: 0;left: 50%;z-index: -1;}#sk-container-id-2 div.sk-parallel-item {display: flex;flex-direction: column;z-index: 1;position: relative;background-color: white;}#sk-container-id-2 div.sk-parallel-item:first-child::after {align-self: flex-end;width: 50%;}#sk-container-id-2 div.sk-parallel-item:last-child::after {align-self: flex-start;width: 50%;}#sk-container-id-2 div.sk-parallel-item:only-child::after {width: 0;}#sk-container-id-2 div.sk-dashed-wrapped {border: 1px dashed gray;margin: 0 0.4em 0.5em 0.4em;box-sizing: border-box;padding-bottom: 0.4em;background-color: white;}#sk-container-id-2 div.sk-label label {font-family: monospace;font-weight: bold;display: inline-block;line-height: 1.2em;}#sk-container-id-2 div.sk-label-container {text-align: center;}#sk-container-id-2 div.sk-container {/* jupyter's `normalize.less` sets `[hidden] { display: none; }` but bootstrap.min.css set `[hidden] { display: none !important; }` so we also need the `!important` here to be able to override the default hidden behavior on the sphinx rendered scikit-learn.org. See: https://github.com/scikit-learn/scikit-learn/issues/21755 */display: inline-block !important;position: relative;}#sk-container-id-2 div.sk-text-repr-fallback {display: none;}</style><div id=\"sk-container-id-2\" class=\"sk-top-container\"><div class=\"sk-text-repr-fallback\"><pre>Pipeline(steps=[(&#x27;LR&#x27;, LogisticRegression(C=4.281332398719396))])</pre><b>In a Jupyter environment, please rerun this cell to show the HTML representation or trust the notebook. <br />On GitHub, the HTML representation is unable to render, please try loading this page with nbviewer.org.</b></div><div class=\"sk-container\" hidden><div class=\"sk-item sk-dashed-wrapped\"><div class=\"sk-label-container\"><div class=\"sk-label sk-toggleable\"><input class=\"sk-toggleable__control sk-hidden--visually\" id=\"sk-estimator-id-4\" type=\"checkbox\" ><label for=\"sk-estimator-id-4\" class=\"sk-toggleable__label sk-toggleable__label-arrow\">Pipeline</label><div class=\"sk-toggleable__content\"><pre>Pipeline(steps=[(&#x27;LR&#x27;, LogisticRegression(C=4.281332398719396))])</pre></div></div></div><div class=\"sk-serial\"><div class=\"sk-item\"><div class=\"sk-estimator sk-toggleable\"><input class=\"sk-toggleable__control sk-hidden--visually\" id=\"sk-estimator-id-5\" type=\"checkbox\" ><label for=\"sk-estimator-id-5\" class=\"sk-toggleable__label sk-toggleable__label-arrow\">LogisticRegression</label><div class=\"sk-toggleable__content\"><pre>LogisticRegression(C=4.281332398719396)</pre></div></div></div></div></div></div></div>"
      ],
      "text/plain": [
       "Pipeline(steps=[('LR', LogisticRegression(C=4.281332398719396))])"
      ]
     },
     "execution_count": 24,
     "metadata": {},
     "output_type": "execute_result"
    }
   ],
   "source": [
    "# preparação do modelo com TODO o dataset\n",
    "scaler = StandardScaler().fit(X)\n",
    "rescaledX = scaler.transform(X)\n",
    "model.fit(rescaledX, y)"
   ]
  },
  {
   "cell_type": "markdown",
   "metadata": {},
   "source": [
    "Teste do modelo com classe de saída não informada."
   ]
  },
  {
   "cell_type": "code",
   "execution_count": 25,
   "metadata": {},
   "outputs": [
    {
     "name": "stdout",
     "output_type": "stream",
     "text": [
      "[[-0.095 -0.358  0.368  1.358 -0.575 -0.43  -2.529 -1.521 -2.197 -2.838\n",
      "  -2.043 -1.472 -1.963]]\n"
     ]
    }
   ],
   "source": [
    "# novos dados - não sabemos a classe\n",
    "data = {\n",
    "\"Application mode\": [17],\n",
    "\"Debtor\": [0],\n",
    "\"Tuition fees up to date\": [1],\n",
    "\"Gender\": [1],\n",
    "\"Scholarship holder\": [0],\n",
    "\"Age at enrollment\": [20],\n",
    "\"Curricular units 1st sem (enrolled)\": [0],\n",
    "\"Curricular units 1st sem (evaluations)\": [0],\n",
    "\"Curricular units 1st sem (approved)\": [0],\n",
    "\"Curricular units 1st sem (grade)\": [0.0],\n",
    "\"Curricular units 2nd sem (enrolled)\": [0],\n",
    "\"Curricular units 2nd sem (evaluations)\": [0],\n",
    "\"Curricular units 2nd sem (approved)\": [0],\n",
    "\"Curricular units 2nd sem (grade)\": [0.0],\n",
    "}\n",
    "\n",
    "atributos = [\"Application mode\",\"Debtor\",\"Tuition fees up to date\",\"Gender\",\"Scholarship holder\",\"Age at enrollment\",\"Curricular units 1st sem (enrolled)\",\"Curricular units 1st sem (approved)\",\"Curricular units 1st sem (grade)\",\"Curricular units 2nd sem (enrolled)\",\"Curricular units 2nd sem (evaluations)\",\"Curricular units 2nd sem (approved)\",\"Curricular units 2nd sem (grade)\"]\n",
    "entrada = pd.DataFrame(data, columns=atributos)\n",
    "\n",
    "array_entrada = entrada.values\n",
    "X_entrada = array_entrada[:,0:13].astype(float)\n",
    "\n",
    "# padronização nos dados de entrada usando o scaler utilizado em X\n",
    "rescaledEntradaX = scaler.transform(X_entrada)\n",
    "print(rescaledEntradaX)"
   ]
  },
  {
   "cell_type": "markdown",
   "metadata": {},
   "source": [
    "Predição com os dados informados."
   ]
  },
  {
   "cell_type": "code",
   "execution_count": 26,
   "metadata": {},
   "outputs": [
    {
     "name": "stdout",
     "output_type": "stream",
     "text": [
      "['Dropout']\n"
     ]
    }
   ],
   "source": [
    "# predição de classes dos dados de entrada\n",
    "saidas = model.predict(rescaledEntradaX)\n",
    "print(saidas)"
   ]
  },
  {
   "cell_type": "markdown",
   "metadata": {},
   "source": [
    "### Sumário\n",
    "\n",
    "Na preparação do modelo para uso na classificação do dataset, foi feita uma operação de seleção de atributos. Do dataset inicial de 36 atributos, a operação de seleção reduziu esse conjunto para 13 atributos, essa redução permitiu um desempenho melhor na execução do algoritmo de classificação. Na busca do melhor modelo, foi utilizada cross-validation e a criação de pipelines de modelos. A otimização de hiperparâmetros implementada evidenciou que o algoritmo de Regressão Logistica apresentou o melhor resultado considerando a acurácia. Os hiperparâmetros levantados foram ('LR__C': 4.281332398719396, 'LR__max_iter': 100, 'LR__penalty': 'l2', 'LR__solver': 'lbfgs'). Com eles a acurácia obtida foi de 0.7703313253012049. "
   ]
  }
 ],
 "metadata": {
  "kernelspec": {
   "display_name": ".venv",
   "language": "python",
   "name": "python3"
  },
  "language_info": {
   "codemirror_mode": {
    "name": "ipython",
    "version": 3
   },
   "file_extension": ".py",
   "mimetype": "text/x-python",
   "name": "python",
   "nbconvert_exporter": "python",
   "pygments_lexer": "ipython3",
   "version": "3.11.5"
  },
  "orig_nbformat": 4
 },
 "nbformat": 4,
 "nbformat_minor": 2
}
