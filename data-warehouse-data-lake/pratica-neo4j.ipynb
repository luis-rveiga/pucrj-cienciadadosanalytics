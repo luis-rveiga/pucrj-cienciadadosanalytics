{
 "cells": [
  {
   "cell_type": "code",
   "execution_count": 9,
   "metadata": {},
   "outputs": [],
   "source": [
    "from neo4j import GraphDatabase\n",
    "from neo4j.debug import watch"
   ]
  },
  {
   "cell_type": "code",
   "execution_count": 10,
   "metadata": {},
   "outputs": [],
   "source": [
    "uri = 'neo4j://localhost:7687'\n",
    "driver = GraphDatabase.driver(uri, auth=(\"neo4j\", \"neo4jadmin\"))"
   ]
  },
  {
   "cell_type": "code",
   "execution_count": 11,
   "metadata": {},
   "outputs": [
    {
     "name": "stdout",
     "output_type": "stream",
     "text": [
      "<Record n=<Node id=0 labels=frozenset() properties={}>>\n",
      "<Record n=<Node id=1 labels=frozenset() properties={}>>\n",
      "<Record n=<Node id=2 labels=frozenset() properties={}>>\n",
      "<Record n=<Node id=3 labels=frozenset({'player'}) properties={}>>\n"
     ]
    }
   ],
   "source": [
    "cqlNodeQuery = \"MATCH (n) RETURN n LIMIT 25\"\n",
    "\n",
    "with driver.session() as graphDB_Session:\n",
    "    nodes = graphDB_Session.run(cqlNodeQuery)\n",
    "\n",
    "    for node in nodes:\n",
    "        print(node)\n"
   ]
  }
 ],
 "metadata": {
  "kernelspec": {
   "display_name": "neo4j",
   "language": "python",
   "name": "python3"
  },
  "language_info": {
   "codemirror_mode": {
    "name": "ipython",
    "version": 3
   },
   "file_extension": ".py",
   "mimetype": "text/x-python",
   "name": "python",
   "nbconvert_exporter": "python",
   "pygments_lexer": "ipython3",
   "version": "3.11.4"
  },
  "orig_nbformat": 4
 },
 "nbformat": 4,
 "nbformat_minor": 2
}
