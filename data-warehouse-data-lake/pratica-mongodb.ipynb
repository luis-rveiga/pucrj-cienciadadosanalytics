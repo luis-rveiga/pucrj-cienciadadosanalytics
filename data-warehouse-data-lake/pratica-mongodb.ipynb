{
 "cells": [
  {
   "cell_type": "code",
   "execution_count": 1,
   "metadata": {},
   "outputs": [],
   "source": [
    "import pymongo\n",
    "from pymongo import MongoClient"
   ]
  },
  {
   "cell_type": "code",
   "execution_count": 2,
   "metadata": {},
   "outputs": [],
   "source": [
    "client = MongoClient('localhost', 27017)"
   ]
  },
  {
   "cell_type": "code",
   "execution_count": 3,
   "metadata": {},
   "outputs": [],
   "source": [
    "db = client['twitter']\n",
    "collection = db['tweets']"
   ]
  },
  {
   "cell_type": "code",
   "execution_count": 4,
   "metadata": {},
   "outputs": [
    {
     "name": "stdout",
     "output_type": "stream",
     "text": [
      "{'_id': ObjectId('64d956f8491e86bfce243128'), 'id': 1, 'username': 'user1', 'tweet': 'Primeiro tweet!', 'likes': 10}\n",
      "{'_id': ObjectId('64d956f8491e86bfce243129'), 'id': 2, 'username': 'user2', 'tweet': 'Segundo tweet!', 'likes': 15}\n",
      "{'_id': ObjectId('64d956f8491e86bfce24312a'), 'id': 3, 'username': 'user3', 'tweet': 'Mais um tweet!', 'likes': 5}\n"
     ]
    }
   ],
   "source": [
    "docs = collection.find()\n",
    "\n",
    "for item in docs:\n",
    "    print(item)"
   ]
  },
  {
   "cell_type": "markdown",
   "metadata": {},
   "source": [
    "Pesquisa pelos tweets com número de likes maior ou igual a 10."
   ]
  },
  {
   "cell_type": "code",
   "execution_count": 5,
   "metadata": {},
   "outputs": [
    {
     "name": "stdout",
     "output_type": "stream",
     "text": [
      "{'_id': ObjectId('64d956f8491e86bfce243129'), 'id': 2, 'username': 'user2', 'tweet': 'Segundo tweet!', 'likes': 15}\n"
     ]
    }
   ],
   "source": [
    "docs = collection.find({'likes':{'$gt':10}})\n",
    "\n",
    "for item in docs:\n",
    "    print(item)"
   ]
  },
  {
   "cell_type": "markdown",
   "metadata": {},
   "source": [
    "Inserção de 50 tweets, usando somente os usuários user1, user2 e user3, mas variando o texto e o número de likes, que pode ser um número qualquer entre 1 e 100."
   ]
  },
  {
   "cell_type": "code",
   "execution_count": 6,
   "metadata": {},
   "outputs": [
    {
     "data": {
      "text/plain": [
       "<pymongo.results.InsertManyResult at 0x22a87a65cc0>"
      ]
     },
     "execution_count": 6,
     "metadata": {},
     "output_type": "execute_result"
    }
   ],
   "source": [
    "list_tweets = [\n",
    "    {\"id\":51,\"username\":\"user1\",\"tweet\":\"Just posted a new blog!\",\"likes\":28},\n",
    "\t{\"id\":52,\"username\":\"user1\",\"tweet\":\"Exclusive scoop!\",\"likes\":92},\n",
    "\t{\"id\":33,\"username\":\"user2\",\"tweet\":\"Attention:\",\"likes\":21},\n",
    "\t{\"id\":4,\"username\":\"user2\",\"tweet\":\"This is huge!\",\"likes\":57},\n",
    "\t{\"id\":5,\"username\":\"user1\",\"tweet\":\"Important update:\",\"likes\":89},\n",
    "\t{\"id\":6,\"username\":\"user2\",\"tweet\":\"This is a must-read!\",\"likes\":75},\n",
    "\t{\"id\":7,\"username\":\"user2\",\"tweet\":\"Insider information:\",\"likes\":54},\n",
    "\t{\"id\":8,\"username\":\"user1\",\"tweet\":\"Trending now:\",\"likes\":61},\n",
    "\t{\"id\":9,\"username\":\"user1\",\"tweet\":\"Exclusive scoop!\",\"likes\":25},\n",
    "\t{\"id\":10,\"username\":\"user1\",\"tweet\":\"this is mind-blowing!\",\"likes\":5},\n",
    "\t{\"id\":11,\"username\":\"user2\",\"tweet\":\"Important update:\",\"likes\":69},\n",
    "\t{\"id\":12,\"username\":\"user3\",\"tweet\":\"You won't believe your eyes!\",\"likes\":28},\n",
    "\t{\"id\":13,\"username\":\"user2\",\"tweet\":\"Just posted a new blog!\",\"likes\":36},\n",
    "\t{\"id\":14,\"username\":\"user3\",\"tweet\":\"this is mind-blowing!\",\"likes\":68},\n",
    "\t{\"id\":15,\"username\":\"user2\",\"tweet\":\"this is mind-blowing!\",\"likes\":61},\n",
    "\t{\"id\":16,\"username\":\"user1\",\"tweet\":\"Insider information:\",\"likes\":22},\n",
    "\t{\"id\":17,\"username\":\"user3\",\"tweet\":\"This is huge!\",\"likes\":59},\n",
    "\t{\"id\":18,\"username\":\"user1\",\"tweet\":\"Incredible news!\",\"likes\":96},\n",
    "\t{\"id\":19,\"username\":\"user1\",\"tweet\":\"I can't believe what I just saw!\",\"likes\":67},\n",
    "\t{\"id\":20,\"username\":\"user1\",\"tweet\":\"Don't miss this!\",\"likes\":98},\n",
    "\t{\"id\":21,\"username\":\"user2\",\"tweet\":\"Wow\",\"likes\":67},\n",
    "\t{\"id\":22,\"username\":\"user2\",\"tweet\":\"Trending now:\",\"likes\":22},\n",
    "\t{\"id\":23,\"username\":\"user2\",\"tweet\":\"Don't miss this!\",\"likes\":46},\n",
    "\t{\"id\":24,\"username\":\"user3\",\"tweet\":\"Important update:\",\"likes\":55},\n",
    "\t{\"id\":25,\"username\":\"user1\",\"tweet\":\"this is mind-blowing!\",\"likes\":97},\n",
    "\t{\"id\":26,\"username\":\"user2\",\"tweet\":\"Exciting announcement!\",\"likes\":85},\n",
    "\t{\"id\":27,\"username\":\"user1\",\"tweet\":\"You won't believe your eyes!\",\"likes\":29},\n",
    "\t{\"id\":28,\"username\":\"user2\",\"tweet\":\"You won't believe your eyes!\",\"likes\":35},\n",
    "\t{\"id\":29,\"username\":\"user2\",\"tweet\":\"Breaking:\",\"likes\":30},\n",
    "\t{\"id\":30,\"username\":\"user2\",\"tweet\":\"Don't miss this!\",\"likes\":13},\n",
    "\t{\"id\":31,\"username\":\"user2\",\"tweet\":\"Big news!\",\"likes\":87},\n",
    "\t{\"id\":32,\"username\":\"user3\",\"tweet\":\"I can't believe what I just saw!\",\"likes\":69},\n",
    "\t{\"id\":33,\"username\":\"user1\",\"tweet\":\"Big news!\",\"likes\":68},\n",
    "\t{\"id\":34,\"username\":\"user2\",\"tweet\":\"Exciting announcement!\",\"likes\":91},\n",
    "\t{\"id\":35,\"username\":\"user3\",\"tweet\":\"This is a must-read!\",\"likes\":51},\n",
    "\t{\"id\":36,\"username\":\"user2\",\"tweet\":\"Insider information:\",\"likes\":96},\n",
    "\t{\"id\":37,\"username\":\"user3\",\"tweet\":\"Check out this amazing article!\",\"likes\":51},\n",
    "\t{\"id\":38,\"username\":\"user1\",\"tweet\":\"Insider information:\",\"likes\":46},\n",
    "\t{\"id\":39,\"username\":\"user3\",\"tweet\":\"Important update:\",\"likes\":70},\n",
    "\t{\"id\":40,\"username\":\"user3\",\"tweet\":\"Just posted a new blog!\",\"likes\":24},\n",
    "\t{\"id\":41,\"username\":\"user3\",\"tweet\":\"You won't believe your eyes!\",\"likes\":33},\n",
    "\t{\"id\":42,\"username\":\"user2\",\"tweet\":\"Insider information:\",\"likes\":68},\n",
    "\t{\"id\":43,\"username\":\"user3\",\"tweet\":\"Incredible news!\",\"likes\":50},\n",
    "\t{\"id\":44,\"username\":\"user3\",\"tweet\":\"This is game-changing!\",\"likes\":62},\n",
    "\t{\"id\":45,\"username\":\"user1\",\"tweet\":\"Just posted a new blog!\",\"likes\":94},\n",
    "\t{\"id\":46,\"username\":\"user3\",\"tweet\":\"Wow\",\"likes\":59},\n",
    "\t{\"id\":47,\"username\":\"user3\",\"tweet\":\"Breaking:\",\"likes\":37},\n",
    "\t{\"id\":48,\"username\":\"user2\",\"tweet\":\"This is a must-read!\",\"likes\":88},\n",
    "\t{\"id\":49,\"username\":\"user3\",\"tweet\":\"Breaking:\",\"likes\":55},\n",
    "\t{\"id\":50,\"username\":\"user3\",\"tweet\":\"Important update:\",\"likes\":89}\n",
    "]\n",
    "\n",
    "collection.insert_many(list_tweets)"
   ]
  },
  {
   "cell_type": "code",
   "execution_count": 7,
   "metadata": {},
   "outputs": [
    {
     "name": "stdout",
     "output_type": "stream",
     "text": [
      "{'_id': ObjectId('64d956f8491e86bfce243128'), 'id': 1, 'username': 'user1', 'tweet': 'Primeiro tweet!', 'likes': 10}\n",
      "{'_id': ObjectId('64d956f8491e86bfce243129'), 'id': 2, 'username': 'user2', 'tweet': 'Segundo tweet!', 'likes': 15}\n",
      "{'_id': ObjectId('64d956f8491e86bfce24312a'), 'id': 3, 'username': 'user3', 'tweet': 'Mais um tweet!', 'likes': 5}\n",
      "{'_id': ObjectId('64d9aa852ed2f25dab54bc50'), 'id': 51, 'username': 'user1', 'tweet': 'Just posted a new blog!', 'likes': 28}\n",
      "{'_id': ObjectId('64d9aa852ed2f25dab54bc51'), 'id': 52, 'username': 'user1', 'tweet': 'Exclusive scoop!', 'likes': 92}\n",
      "{'_id': ObjectId('64d9aa852ed2f25dab54bc52'), 'id': 33, 'username': 'user2', 'tweet': 'Attention:', 'likes': 21}\n",
      "{'_id': ObjectId('64d9aa852ed2f25dab54bc53'), 'id': 4, 'username': 'user2', 'tweet': 'This is huge!', 'likes': 57}\n",
      "{'_id': ObjectId('64d9aa852ed2f25dab54bc54'), 'id': 5, 'username': 'user1', 'tweet': 'Important update:', 'likes': 89}\n",
      "{'_id': ObjectId('64d9aa852ed2f25dab54bc55'), 'id': 6, 'username': 'user2', 'tweet': 'This is a must-read!', 'likes': 75}\n",
      "{'_id': ObjectId('64d9aa852ed2f25dab54bc56'), 'id': 7, 'username': 'user2', 'tweet': 'Insider information:', 'likes': 54}\n",
      "{'_id': ObjectId('64d9aa852ed2f25dab54bc57'), 'id': 8, 'username': 'user1', 'tweet': 'Trending now:', 'likes': 61}\n",
      "{'_id': ObjectId('64d9aa852ed2f25dab54bc58'), 'id': 9, 'username': 'user1', 'tweet': 'Exclusive scoop!', 'likes': 25}\n",
      "{'_id': ObjectId('64d9aa852ed2f25dab54bc59'), 'id': 10, 'username': 'user1', 'tweet': 'this is mind-blowing!', 'likes': 5}\n",
      "{'_id': ObjectId('64d9aa852ed2f25dab54bc5a'), 'id': 11, 'username': 'user2', 'tweet': 'Important update:', 'likes': 69}\n",
      "{'_id': ObjectId('64d9aa852ed2f25dab54bc5b'), 'id': 12, 'username': 'user3', 'tweet': \"You won't believe your eyes!\", 'likes': 28}\n",
      "{'_id': ObjectId('64d9aa852ed2f25dab54bc5c'), 'id': 13, 'username': 'user2', 'tweet': 'Just posted a new blog!', 'likes': 36}\n",
      "{'_id': ObjectId('64d9aa852ed2f25dab54bc5d'), 'id': 14, 'username': 'user3', 'tweet': 'this is mind-blowing!', 'likes': 68}\n",
      "{'_id': ObjectId('64d9aa852ed2f25dab54bc5e'), 'id': 15, 'username': 'user2', 'tweet': 'this is mind-blowing!', 'likes': 61}\n",
      "{'_id': ObjectId('64d9aa852ed2f25dab54bc5f'), 'id': 16, 'username': 'user1', 'tweet': 'Insider information:', 'likes': 22}\n",
      "{'_id': ObjectId('64d9aa852ed2f25dab54bc60'), 'id': 17, 'username': 'user3', 'tweet': 'This is huge!', 'likes': 59}\n",
      "{'_id': ObjectId('64d9aa852ed2f25dab54bc61'), 'id': 18, 'username': 'user1', 'tweet': 'Incredible news!', 'likes': 96}\n",
      "{'_id': ObjectId('64d9aa852ed2f25dab54bc62'), 'id': 19, 'username': 'user1', 'tweet': \"I can't believe what I just saw!\", 'likes': 67}\n",
      "{'_id': ObjectId('64d9aa852ed2f25dab54bc63'), 'id': 20, 'username': 'user1', 'tweet': \"Don't miss this!\", 'likes': 98}\n",
      "{'_id': ObjectId('64d9aa852ed2f25dab54bc64'), 'id': 21, 'username': 'user2', 'tweet': 'Wow', 'likes': 67}\n",
      "{'_id': ObjectId('64d9aa852ed2f25dab54bc65'), 'id': 22, 'username': 'user2', 'tweet': 'Trending now:', 'likes': 22}\n",
      "{'_id': ObjectId('64d9aa852ed2f25dab54bc66'), 'id': 23, 'username': 'user2', 'tweet': \"Don't miss this!\", 'likes': 46}\n",
      "{'_id': ObjectId('64d9aa852ed2f25dab54bc67'), 'id': 24, 'username': 'user3', 'tweet': 'Important update:', 'likes': 55}\n",
      "{'_id': ObjectId('64d9aa852ed2f25dab54bc68'), 'id': 25, 'username': 'user1', 'tweet': 'this is mind-blowing!', 'likes': 97}\n",
      "{'_id': ObjectId('64d9aa852ed2f25dab54bc69'), 'id': 26, 'username': 'user2', 'tweet': 'Exciting announcement!', 'likes': 85}\n",
      "{'_id': ObjectId('64d9aa852ed2f25dab54bc6a'), 'id': 27, 'username': 'user1', 'tweet': \"You won't believe your eyes!\", 'likes': 29}\n",
      "{'_id': ObjectId('64d9aa852ed2f25dab54bc6b'), 'id': 28, 'username': 'user2', 'tweet': \"You won't believe your eyes!\", 'likes': 35}\n",
      "{'_id': ObjectId('64d9aa852ed2f25dab54bc6c'), 'id': 29, 'username': 'user2', 'tweet': 'Breaking:', 'likes': 30}\n",
      "{'_id': ObjectId('64d9aa852ed2f25dab54bc6d'), 'id': 30, 'username': 'user2', 'tweet': \"Don't miss this!\", 'likes': 13}\n",
      "{'_id': ObjectId('64d9aa852ed2f25dab54bc6e'), 'id': 31, 'username': 'user2', 'tweet': 'Big news!', 'likes': 87}\n",
      "{'_id': ObjectId('64d9aa852ed2f25dab54bc6f'), 'id': 32, 'username': 'user3', 'tweet': \"I can't believe what I just saw!\", 'likes': 69}\n",
      "{'_id': ObjectId('64d9aa852ed2f25dab54bc70'), 'id': 33, 'username': 'user1', 'tweet': 'Big news!', 'likes': 68}\n",
      "{'_id': ObjectId('64d9aa852ed2f25dab54bc71'), 'id': 34, 'username': 'user2', 'tweet': 'Exciting announcement!', 'likes': 91}\n",
      "{'_id': ObjectId('64d9aa852ed2f25dab54bc72'), 'id': 35, 'username': 'user3', 'tweet': 'This is a must-read!', 'likes': 51}\n",
      "{'_id': ObjectId('64d9aa852ed2f25dab54bc73'), 'id': 36, 'username': 'user2', 'tweet': 'Insider information:', 'likes': 96}\n",
      "{'_id': ObjectId('64d9aa852ed2f25dab54bc74'), 'id': 37, 'username': 'user3', 'tweet': 'Check out this amazing article!', 'likes': 51}\n",
      "{'_id': ObjectId('64d9aa852ed2f25dab54bc75'), 'id': 38, 'username': 'user1', 'tweet': 'Insider information:', 'likes': 46}\n",
      "{'_id': ObjectId('64d9aa852ed2f25dab54bc76'), 'id': 39, 'username': 'user3', 'tweet': 'Important update:', 'likes': 70}\n",
      "{'_id': ObjectId('64d9aa852ed2f25dab54bc77'), 'id': 40, 'username': 'user3', 'tweet': 'Just posted a new blog!', 'likes': 24}\n",
      "{'_id': ObjectId('64d9aa852ed2f25dab54bc78'), 'id': 41, 'username': 'user3', 'tweet': \"You won't believe your eyes!\", 'likes': 33}\n",
      "{'_id': ObjectId('64d9aa852ed2f25dab54bc79'), 'id': 42, 'username': 'user2', 'tweet': 'Insider information:', 'likes': 68}\n",
      "{'_id': ObjectId('64d9aa852ed2f25dab54bc7a'), 'id': 43, 'username': 'user3', 'tweet': 'Incredible news!', 'likes': 50}\n",
      "{'_id': ObjectId('64d9aa852ed2f25dab54bc7b'), 'id': 44, 'username': 'user3', 'tweet': 'This is game-changing!', 'likes': 62}\n",
      "{'_id': ObjectId('64d9aa852ed2f25dab54bc7c'), 'id': 45, 'username': 'user1', 'tweet': 'Just posted a new blog!', 'likes': 94}\n",
      "{'_id': ObjectId('64d9aa852ed2f25dab54bc7d'), 'id': 46, 'username': 'user3', 'tweet': 'Wow', 'likes': 59}\n",
      "{'_id': ObjectId('64d9aa852ed2f25dab54bc7e'), 'id': 47, 'username': 'user3', 'tweet': 'Breaking:', 'likes': 37}\n",
      "{'_id': ObjectId('64d9aa852ed2f25dab54bc7f'), 'id': 48, 'username': 'user2', 'tweet': 'This is a must-read!', 'likes': 88}\n",
      "{'_id': ObjectId('64d9aa852ed2f25dab54bc80'), 'id': 49, 'username': 'user3', 'tweet': 'Breaking:', 'likes': 55}\n",
      "{'_id': ObjectId('64d9aa852ed2f25dab54bc81'), 'id': 50, 'username': 'user3', 'tweet': 'Important update:', 'likes': 89}\n"
     ]
    }
   ],
   "source": [
    "docs = collection.find()\n",
    "\n",
    "for item in docs:\n",
    "    print(item)"
   ]
  },
  {
   "cell_type": "markdown",
   "metadata": {},
   "source": [
    "Atualização de todos os tweets do user1, somando-se 5 ao número de likes correspondente."
   ]
  },
  {
   "cell_type": "code",
   "execution_count": null,
   "metadata": {},
   "outputs": [],
   "source": [
    "# Antes da atualização\n",
    "\n",
    "docs = collection.find({'username':'user1'})\n",
    "\n",
    "for item in docs:\n",
    "    print(item)"
   ]
  },
  {
   "cell_type": "code",
   "execution_count": 10,
   "metadata": {},
   "outputs": [
    {
     "data": {
      "text/plain": [
       "<pymongo.results.UpdateResult at 0x22a881e7400>"
      ]
     },
     "execution_count": 10,
     "metadata": {},
     "output_type": "execute_result"
    }
   ],
   "source": [
    "pre_value= {'username': 'user1'}\n",
    "new_value = {'$inc': {'likes': 5}}\n",
    "collection.update_many(pre_value, new_value)"
   ]
  },
  {
   "cell_type": "code",
   "execution_count": 11,
   "metadata": {},
   "outputs": [
    {
     "name": "stdout",
     "output_type": "stream",
     "text": [
      "{'_id': ObjectId('64d956f8491e86bfce243128'), 'id': 1, 'username': 'user1', 'tweet': 'Primeiro tweet!', 'likes': 15}\n",
      "{'_id': ObjectId('64d9aa852ed2f25dab54bc50'), 'id': 51, 'username': 'user1', 'tweet': 'Just posted a new blog!', 'likes': 33}\n",
      "{'_id': ObjectId('64d9aa852ed2f25dab54bc51'), 'id': 52, 'username': 'user1', 'tweet': 'Exclusive scoop!', 'likes': 97}\n",
      "{'_id': ObjectId('64d9aa852ed2f25dab54bc54'), 'id': 5, 'username': 'user1', 'tweet': 'Important update:', 'likes': 94}\n",
      "{'_id': ObjectId('64d9aa852ed2f25dab54bc57'), 'id': 8, 'username': 'user1', 'tweet': 'Trending now:', 'likes': 66}\n",
      "{'_id': ObjectId('64d9aa852ed2f25dab54bc58'), 'id': 9, 'username': 'user1', 'tweet': 'Exclusive scoop!', 'likes': 30}\n",
      "{'_id': ObjectId('64d9aa852ed2f25dab54bc59'), 'id': 10, 'username': 'user1', 'tweet': 'this is mind-blowing!', 'likes': 10}\n",
      "{'_id': ObjectId('64d9aa852ed2f25dab54bc5f'), 'id': 16, 'username': 'user1', 'tweet': 'Insider information:', 'likes': 27}\n",
      "{'_id': ObjectId('64d9aa852ed2f25dab54bc61'), 'id': 18, 'username': 'user1', 'tweet': 'Incredible news!', 'likes': 101}\n",
      "{'_id': ObjectId('64d9aa852ed2f25dab54bc62'), 'id': 19, 'username': 'user1', 'tweet': \"I can't believe what I just saw!\", 'likes': 72}\n",
      "{'_id': ObjectId('64d9aa852ed2f25dab54bc63'), 'id': 20, 'username': 'user1', 'tweet': \"Don't miss this!\", 'likes': 103}\n",
      "{'_id': ObjectId('64d9aa852ed2f25dab54bc68'), 'id': 25, 'username': 'user1', 'tweet': 'this is mind-blowing!', 'likes': 102}\n",
      "{'_id': ObjectId('64d9aa852ed2f25dab54bc6a'), 'id': 27, 'username': 'user1', 'tweet': \"You won't believe your eyes!\", 'likes': 34}\n",
      "{'_id': ObjectId('64d9aa852ed2f25dab54bc70'), 'id': 33, 'username': 'user1', 'tweet': 'Big news!', 'likes': 73}\n",
      "{'_id': ObjectId('64d9aa852ed2f25dab54bc75'), 'id': 38, 'username': 'user1', 'tweet': 'Insider information:', 'likes': 51}\n",
      "{'_id': ObjectId('64d9aa852ed2f25dab54bc7c'), 'id': 45, 'username': 'user1', 'tweet': 'Just posted a new blog!', 'likes': 99}\n"
     ]
    }
   ],
   "source": [
    "# Após a atualização\n",
    "\n",
    "docs = collection.find({'username':'user1'})\n",
    "\n",
    "for item in docs:\n",
    "    print(item)"
   ]
  },
  {
   "cell_type": "markdown",
   "metadata": {},
   "source": [
    "Remoção de todos os tweets de user3 com número de likes menor que 10."
   ]
  },
  {
   "cell_type": "code",
   "execution_count": 16,
   "metadata": {},
   "outputs": [
    {
     "name": "stdout",
     "output_type": "stream",
     "text": [
      "{'_id': ObjectId('64d956f8491e86bfce24312a'), 'id': 3, 'username': 'user3', 'tweet': 'Mais um tweet!', 'likes': 5}\n"
     ]
    }
   ],
   "source": [
    "# Antes da atualização\n",
    "\n",
    "docs = collection.find({'$and':[{'username': 'user3'},{'likes':{'$lt':10}}]})\n",
    "\n",
    "for item in docs:\n",
    "    print(item)"
   ]
  },
  {
   "cell_type": "code",
   "execution_count": 17,
   "metadata": {},
   "outputs": [
    {
     "data": {
      "text/plain": [
       "<pymongo.results.DeleteResult at 0x22a881cda80>"
      ]
     },
     "execution_count": 17,
     "metadata": {},
     "output_type": "execute_result"
    }
   ],
   "source": [
    "del_value = {'$and':[{'username': 'user3'},{'likes':{'$lt':10}}]}\n",
    "collection.delete_many(del_value)"
   ]
  },
  {
   "cell_type": "code",
   "execution_count": 18,
   "metadata": {},
   "outputs": [],
   "source": [
    "# Após a atualização\n",
    "\n",
    "docs = collection.find({'$and':[{'username': 'user3'},{'likes':{'$lt':10}}]})\n",
    "\n",
    "for item in docs:\n",
    "    print(item)"
   ]
  }
 ],
 "metadata": {
  "kernelspec": {
   "display_name": "mongodb",
   "language": "python",
   "name": "python3"
  },
  "language_info": {
   "codemirror_mode": {
    "name": "ipython",
    "version": 3
   },
   "file_extension": ".py",
   "mimetype": "text/x-python",
   "name": "python",
   "nbconvert_exporter": "python",
   "pygments_lexer": "ipython3",
   "version": "3.11.4"
  },
  "orig_nbformat": 4
 },
 "nbformat": 4,
 "nbformat_minor": 2
}
