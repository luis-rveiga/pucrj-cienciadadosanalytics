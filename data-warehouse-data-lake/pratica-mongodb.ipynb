{
 "cells": [
  {
   "cell_type": "code",
   "execution_count": 1,
   "metadata": {},
   "outputs": [],
   "source": [
    "import pymongo\n",
    "from pymongo import MongoClient"
   ]
  },
  {
   "cell_type": "code",
   "execution_count": 2,
   "metadata": {},
   "outputs": [],
   "source": [
    "client = MongoClient('localhost', 27017)"
   ]
  },
  {
   "cell_type": "code",
   "execution_count": 6,
   "metadata": {},
   "outputs": [],
   "source": [
    "db = client['twitter']\n",
    "collection = db['tweets']"
   ]
  },
  {
   "cell_type": "code",
   "execution_count": 38,
   "metadata": {},
   "outputs": [
    {
     "name": "stdout",
     "output_type": "stream",
     "text": [
      "{'_id': ObjectId('64d956f8491e86bfce243128'), 'id': 1, 'username': 'user1', 'tweet': 'Primeiro tweet!', 'likes': 10}\n",
      "{'_id': ObjectId('64d956f8491e86bfce243129'), 'id': 2, 'username': 'user2', 'tweet': 'Segundo tweet!', 'likes': 15}\n",
      "{'_id': ObjectId('64d956f8491e86bfce24312a'), 'id': 3, 'username': 'user3', 'tweet': 'Mais um tweet!', 'likes': 5}\n"
     ]
    }
   ],
   "source": [
    "docs = collection.find()\n",
    "\n",
    "for item in docs:\n",
    "    print(item)"
   ]
  },
  {
   "cell_type": "code",
   "execution_count": 39,
   "metadata": {},
   "outputs": [
    {
     "name": "stdout",
     "output_type": "stream",
     "text": [
      "{'_id': ObjectId('64d956f8491e86bfce243129'), 'id': 2, 'username': 'user2', 'tweet': 'Segundo tweet!', 'likes': 15}\n"
     ]
    }
   ],
   "source": [
    "docs = collection.find({'likes':{'$gt':10}})\n",
    "\n",
    "for item in docs:\n",
    "    print(item)"
   ]
  }
 ],
 "metadata": {
  "kernelspec": {
   "display_name": "mongodb",
   "language": "python",
   "name": "python3"
  },
  "language_info": {
   "codemirror_mode": {
    "name": "ipython",
    "version": 3
   },
   "file_extension": ".py",
   "mimetype": "text/x-python",
   "name": "python",
   "nbconvert_exporter": "python",
   "pygments_lexer": "ipython3",
   "version": "3.11.4"
  },
  "orig_nbformat": 4
 },
 "nbformat": 4,
 "nbformat_minor": 2
}
