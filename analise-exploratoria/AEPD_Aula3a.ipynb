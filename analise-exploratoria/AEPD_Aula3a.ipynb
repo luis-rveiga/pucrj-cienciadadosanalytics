{
  "cells": [
    {
      "cell_type": "markdown",
      "metadata": {
        "id": "aUwCbt07o7UC"
      },
      "source": [
        "## Aula 03: Pré-Processamento de Dados - Prof. Tatiana Escovedo\n"
      ]
    },
    {
      "cell_type": "markdown",
      "metadata": {
        "id": "2-d_toBSBjPX"
      },
      "source": [
        "**Pacotes de pré-processamento do Scikit-learn:** https://scikit-learn.org/stable/modules/classes.html#module-sklearn.preprocessing"
      ]
    },
    {
      "cell_type": "code",
      "execution_count": 1,
      "metadata": {
        "id": "T1gTKd1qgRQg"
      },
      "outputs": [],
      "source": [
        "# Importação de pacotes\n",
        "import pandas as pd\n",
        "import numpy as np\n",
        "from sklearn.preprocessing import MinMaxScaler # normalização\n",
        "from sklearn.preprocessing import StandardScaler # padronização\n",
        "from sklearn.preprocessing import OrdinalEncoder # ordinal encoding\n",
        "from sklearn.preprocessing import OneHotEncoder # one-hot encoding e dummy encoding"
      ]
    },
    {
      "cell_type": "markdown",
      "metadata": {
        "id": "4Rn4AoRDKkk3"
      },
      "source": [
        "## Limpeza - Tratamento de Missings"
      ]
    },
    {
      "cell_type": "code",
      "execution_count": 2,
      "metadata": {
        "colab": {
          "base_uri": "https://localhost:8080/",
          "height": 206
        },
        "id": "Q2tm1irsKmsj",
        "outputId": "041c5c4f-3bae-425d-8dc6-1bef7bb071b6"
      },
      "outputs": [
        {
          "data": {
            "text/html": [
              "<div>\n",
              "<style scoped>\n",
              "    .dataframe tbody tr th:only-of-type {\n",
              "        vertical-align: middle;\n",
              "    }\n",
              "\n",
              "    .dataframe tbody tr th {\n",
              "        vertical-align: top;\n",
              "    }\n",
              "\n",
              "    .dataframe thead th {\n",
              "        text-align: right;\n",
              "    }\n",
              "</style>\n",
              "<table border=\"1\" class=\"dataframe\">\n",
              "  <thead>\n",
              "    <tr style=\"text-align: right;\">\n",
              "      <th></th>\n",
              "      <th>comprimento_sepala</th>\n",
              "      <th>largura_sepala</th>\n",
              "      <th>comprimento_petala</th>\n",
              "      <th>largura_petala</th>\n",
              "      <th>especie</th>\n",
              "    </tr>\n",
              "  </thead>\n",
              "  <tbody>\n",
              "    <tr>\n",
              "      <th>145</th>\n",
              "      <td>6.7</td>\n",
              "      <td>3.0</td>\n",
              "      <td>5.2</td>\n",
              "      <td>2.3</td>\n",
              "      <td>Iris-virginica</td>\n",
              "    </tr>\n",
              "    <tr>\n",
              "      <th>146</th>\n",
              "      <td>6.3</td>\n",
              "      <td>2.5</td>\n",
              "      <td>5.0</td>\n",
              "      <td>1.9</td>\n",
              "      <td>Iris-virginica</td>\n",
              "    </tr>\n",
              "    <tr>\n",
              "      <th>147</th>\n",
              "      <td>6.5</td>\n",
              "      <td>3.0</td>\n",
              "      <td>5.2</td>\n",
              "      <td>2.0</td>\n",
              "      <td>Iris-virginica</td>\n",
              "    </tr>\n",
              "    <tr>\n",
              "      <th>148</th>\n",
              "      <td>6.2</td>\n",
              "      <td>3.4</td>\n",
              "      <td>5.4</td>\n",
              "      <td>2.3</td>\n",
              "      <td>Iris-virginica</td>\n",
              "    </tr>\n",
              "    <tr>\n",
              "      <th>149</th>\n",
              "      <td>5.9</td>\n",
              "      <td>3.0</td>\n",
              "      <td>5.1</td>\n",
              "      <td>1.8</td>\n",
              "      <td>Iris-virginica</td>\n",
              "    </tr>\n",
              "  </tbody>\n",
              "</table>\n",
              "</div>"
            ],
            "text/plain": [
              "     comprimento_sepala  largura_sepala  comprimento_petala  largura_petala  \\\n",
              "145                 6.7             3.0                 5.2             2.3   \n",
              "146                 6.3             2.5                 5.0             1.9   \n",
              "147                 6.5             3.0                 5.2             2.0   \n",
              "148                 6.2             3.4                 5.4             2.3   \n",
              "149                 5.9             3.0                 5.1             1.8   \n",
              "\n",
              "            especie  \n",
              "145  Iris-virginica  \n",
              "146  Iris-virginica  \n",
              "147  Iris-virginica  \n",
              "148  Iris-virginica  \n",
              "149  Iris-virginica  "
            ]
          },
          "execution_count": 2,
          "metadata": {},
          "output_type": "execute_result"
        }
      ],
      "source": [
        "# importando dados uma url para um dataframe\n",
        "\n",
        "# url a importar\n",
        "url_dados = 'https://archive.ics.uci.edu/ml/machine-learning-databases/iris/iris.data'\n",
        "\n",
        "# labels dos atributos do dataset\n",
        "labels_atributos = ['comprimento_sepala', 'largura_sepala', 'comprimento_petala', 'largura_petala', 'especie']\n",
        "\n",
        "# carga do dataset através da url\n",
        "iris = pd.read_csv(url_dados, names=labels_atributos)\n",
        "\n",
        "# exibindo as últimas linhas\n",
        "iris.tail()"
      ]
    },
    {
      "cell_type": "code",
      "execution_count": 3,
      "metadata": {
        "colab": {
          "base_uri": "https://localhost:8080/",
          "height": 206
        },
        "id": "PRL44Z89KyoY",
        "outputId": "4342ffc3-9b43-45f0-d76a-4e4d630bc929"
      },
      "outputs": [
        {
          "name": "stderr",
          "output_type": "stream",
          "text": [
            "C:\\Users\\lveig\\AppData\\Local\\Temp\\ipykernel_11048\\252452979.py:2: FutureWarning: The frame.append method is deprecated and will be removed from pandas in a future version. Use pandas.concat instead.\n",
            "  df = iris.append({'largura_sepala': 4.0,\n"
          ]
        },
        {
          "data": {
            "text/html": [
              "<div>\n",
              "<style scoped>\n",
              "    .dataframe tbody tr th:only-of-type {\n",
              "        vertical-align: middle;\n",
              "    }\n",
              "\n",
              "    .dataframe tbody tr th {\n",
              "        vertical-align: top;\n",
              "    }\n",
              "\n",
              "    .dataframe thead th {\n",
              "        text-align: right;\n",
              "    }\n",
              "</style>\n",
              "<table border=\"1\" class=\"dataframe\">\n",
              "  <thead>\n",
              "    <tr style=\"text-align: right;\">\n",
              "      <th></th>\n",
              "      <th>comprimento_sepala</th>\n",
              "      <th>largura_sepala</th>\n",
              "      <th>comprimento_petala</th>\n",
              "      <th>largura_petala</th>\n",
              "      <th>especie</th>\n",
              "    </tr>\n",
              "  </thead>\n",
              "  <tbody>\n",
              "    <tr>\n",
              "      <th>146</th>\n",
              "      <td>6.3</td>\n",
              "      <td>2.5</td>\n",
              "      <td>5.0</td>\n",
              "      <td>1.9</td>\n",
              "      <td>Iris-virginica</td>\n",
              "    </tr>\n",
              "    <tr>\n",
              "      <th>147</th>\n",
              "      <td>6.5</td>\n",
              "      <td>3.0</td>\n",
              "      <td>5.2</td>\n",
              "      <td>2.0</td>\n",
              "      <td>Iris-virginica</td>\n",
              "    </tr>\n",
              "    <tr>\n",
              "      <th>148</th>\n",
              "      <td>6.2</td>\n",
              "      <td>3.4</td>\n",
              "      <td>5.4</td>\n",
              "      <td>2.3</td>\n",
              "      <td>Iris-virginica</td>\n",
              "    </tr>\n",
              "    <tr>\n",
              "      <th>149</th>\n",
              "      <td>5.9</td>\n",
              "      <td>3.0</td>\n",
              "      <td>5.1</td>\n",
              "      <td>1.8</td>\n",
              "      <td>Iris-virginica</td>\n",
              "    </tr>\n",
              "    <tr>\n",
              "      <th>150</th>\n",
              "      <td>NaN</td>\n",
              "      <td>4.0</td>\n",
              "      <td>5.0</td>\n",
              "      <td>0.4</td>\n",
              "      <td>Iris-setosa</td>\n",
              "    </tr>\n",
              "  </tbody>\n",
              "</table>\n",
              "</div>"
            ],
            "text/plain": [
              "     comprimento_sepala  largura_sepala  comprimento_petala  largura_petala  \\\n",
              "146                 6.3             2.5                 5.0             1.9   \n",
              "147                 6.5             3.0                 5.2             2.0   \n",
              "148                 6.2             3.4                 5.4             2.3   \n",
              "149                 5.9             3.0                 5.1             1.8   \n",
              "150                 NaN             4.0                 5.0             0.4   \n",
              "\n",
              "            especie  \n",
              "146  Iris-virginica  \n",
              "147  Iris-virginica  \n",
              "148  Iris-virginica  \n",
              "149  Iris-virginica  \n",
              "150     Iris-setosa  "
            ]
          },
          "execution_count": 3,
          "metadata": {},
          "output_type": "execute_result"
        }
      ],
      "source": [
        "# criando um novo dataframe com iris + uma nova linha com um valor missing para o próximo exemplo\n",
        "df = iris.append({'largura_sepala': 4.0,\n",
        "                  'comprimento_petala': 5.0,\n",
        "                  'largura_petala': 0.4,\n",
        "                  'especie': 'Iris-setosa'},\n",
        "                  ignore_index=True)\n",
        "df.tail()"
      ]
    },
    {
      "cell_type": "code",
      "execution_count": 4,
      "metadata": {
        "colab": {
          "base_uri": "https://localhost:8080/",
          "height": 206
        },
        "id": "uazM9TAgK1hs",
        "outputId": "bd7dff2a-7ca0-41a7-efba-32f8e37e3b1b"
      },
      "outputs": [
        {
          "data": {
            "text/html": [
              "<div>\n",
              "<style scoped>\n",
              "    .dataframe tbody tr th:only-of-type {\n",
              "        vertical-align: middle;\n",
              "    }\n",
              "\n",
              "    .dataframe tbody tr th {\n",
              "        vertical-align: top;\n",
              "    }\n",
              "\n",
              "    .dataframe thead th {\n",
              "        text-align: right;\n",
              "    }\n",
              "</style>\n",
              "<table border=\"1\" class=\"dataframe\">\n",
              "  <thead>\n",
              "    <tr style=\"text-align: right;\">\n",
              "      <th></th>\n",
              "      <th>comprimento_sepala</th>\n",
              "      <th>largura_sepala</th>\n",
              "      <th>comprimento_petala</th>\n",
              "      <th>largura_petala</th>\n",
              "      <th>especie</th>\n",
              "    </tr>\n",
              "  </thead>\n",
              "  <tbody>\n",
              "    <tr>\n",
              "      <th>145</th>\n",
              "      <td>6.7</td>\n",
              "      <td>3.0</td>\n",
              "      <td>5.2</td>\n",
              "      <td>2.3</td>\n",
              "      <td>Iris-virginica</td>\n",
              "    </tr>\n",
              "    <tr>\n",
              "      <th>146</th>\n",
              "      <td>6.3</td>\n",
              "      <td>2.5</td>\n",
              "      <td>5.0</td>\n",
              "      <td>1.9</td>\n",
              "      <td>Iris-virginica</td>\n",
              "    </tr>\n",
              "    <tr>\n",
              "      <th>147</th>\n",
              "      <td>6.5</td>\n",
              "      <td>3.0</td>\n",
              "      <td>5.2</td>\n",
              "      <td>2.0</td>\n",
              "      <td>Iris-virginica</td>\n",
              "    </tr>\n",
              "    <tr>\n",
              "      <th>148</th>\n",
              "      <td>6.2</td>\n",
              "      <td>3.4</td>\n",
              "      <td>5.4</td>\n",
              "      <td>2.3</td>\n",
              "      <td>Iris-virginica</td>\n",
              "    </tr>\n",
              "    <tr>\n",
              "      <th>149</th>\n",
              "      <td>5.9</td>\n",
              "      <td>3.0</td>\n",
              "      <td>5.1</td>\n",
              "      <td>1.8</td>\n",
              "      <td>Iris-virginica</td>\n",
              "    </tr>\n",
              "  </tbody>\n",
              "</table>\n",
              "</div>"
            ],
            "text/plain": [
              "     comprimento_sepala  largura_sepala  comprimento_petala  largura_petala  \\\n",
              "145                 6.7             3.0                 5.2             2.3   \n",
              "146                 6.3             2.5                 5.0             1.9   \n",
              "147                 6.5             3.0                 5.2             2.0   \n",
              "148                 6.2             3.4                 5.4             2.3   \n",
              "149                 5.9             3.0                 5.1             1.8   \n",
              "\n",
              "            especie  \n",
              "145  Iris-virginica  \n",
              "146  Iris-virginica  \n",
              "147  Iris-virginica  \n",
              "148  Iris-virginica  \n",
              "149  Iris-virginica  "
            ]
          },
          "execution_count": 4,
          "metadata": {},
          "output_type": "execute_result"
        }
      ],
      "source": [
        "# eliminando linhas que tenham ALGUM valor missing\n",
        "\n",
        "df = df.dropna(how='any')\n",
        "df.tail()"
      ]
    },
    {
      "cell_type": "code",
      "execution_count": 5,
      "metadata": {
        "colab": {
          "base_uri": "https://localhost:8080/",
          "height": 206
        },
        "id": "9SSJz8t2K3Vh",
        "outputId": "812c5f17-8ebe-4ffe-b0a3-65f2e7ca6afd"
      },
      "outputs": [
        {
          "name": "stderr",
          "output_type": "stream",
          "text": [
            "C:\\Users\\lveig\\AppData\\Local\\Temp\\ipykernel_11048\\3131134969.py:2: FutureWarning: The frame.append method is deprecated and will be removed from pandas in a future version. Use pandas.concat instead.\n",
            "  df = iris.append({'largura_sepala': 4.0,\n",
            "C:\\Users\\lveig\\AppData\\Local\\Temp\\ipykernel_11048\\3131134969.py:9: FutureWarning: The frame.append method is deprecated and will be removed from pandas in a future version. Use pandas.concat instead.\n",
            "  df = df.append({}, ignore_index=True)\n",
            "C:\\Users\\lveig\\AppData\\Local\\Temp\\ipykernel_11048\\3131134969.py:9: FutureWarning: The default dtype for empty Series will be 'object' instead of 'float64' in a future version. Specify a dtype explicitly to silence this warning.\n",
            "  df = df.append({}, ignore_index=True)\n"
          ]
        },
        {
          "data": {
            "text/html": [
              "<div>\n",
              "<style scoped>\n",
              "    .dataframe tbody tr th:only-of-type {\n",
              "        vertical-align: middle;\n",
              "    }\n",
              "\n",
              "    .dataframe tbody tr th {\n",
              "        vertical-align: top;\n",
              "    }\n",
              "\n",
              "    .dataframe thead th {\n",
              "        text-align: right;\n",
              "    }\n",
              "</style>\n",
              "<table border=\"1\" class=\"dataframe\">\n",
              "  <thead>\n",
              "    <tr style=\"text-align: right;\">\n",
              "      <th></th>\n",
              "      <th>comprimento_sepala</th>\n",
              "      <th>largura_sepala</th>\n",
              "      <th>comprimento_petala</th>\n",
              "      <th>largura_petala</th>\n",
              "      <th>especie</th>\n",
              "    </tr>\n",
              "  </thead>\n",
              "  <tbody>\n",
              "    <tr>\n",
              "      <th>147</th>\n",
              "      <td>6.5</td>\n",
              "      <td>3.0</td>\n",
              "      <td>5.2</td>\n",
              "      <td>2.0</td>\n",
              "      <td>Iris-virginica</td>\n",
              "    </tr>\n",
              "    <tr>\n",
              "      <th>148</th>\n",
              "      <td>6.2</td>\n",
              "      <td>3.4</td>\n",
              "      <td>5.4</td>\n",
              "      <td>2.3</td>\n",
              "      <td>Iris-virginica</td>\n",
              "    </tr>\n",
              "    <tr>\n",
              "      <th>149</th>\n",
              "      <td>5.9</td>\n",
              "      <td>3.0</td>\n",
              "      <td>5.1</td>\n",
              "      <td>1.8</td>\n",
              "      <td>Iris-virginica</td>\n",
              "    </tr>\n",
              "    <tr>\n",
              "      <th>150</th>\n",
              "      <td>NaN</td>\n",
              "      <td>4.0</td>\n",
              "      <td>5.0</td>\n",
              "      <td>0.4</td>\n",
              "      <td>Iris-setosa</td>\n",
              "    </tr>\n",
              "    <tr>\n",
              "      <th>151</th>\n",
              "      <td>NaN</td>\n",
              "      <td>NaN</td>\n",
              "      <td>NaN</td>\n",
              "      <td>NaN</td>\n",
              "      <td>NaN</td>\n",
              "    </tr>\n",
              "  </tbody>\n",
              "</table>\n",
              "</div>"
            ],
            "text/plain": [
              "     comprimento_sepala  largura_sepala  comprimento_petala  largura_petala  \\\n",
              "147                 6.5             3.0                 5.2             2.0   \n",
              "148                 6.2             3.4                 5.4             2.3   \n",
              "149                 5.9             3.0                 5.1             1.8   \n",
              "150                 NaN             4.0                 5.0             0.4   \n",
              "151                 NaN             NaN                 NaN             NaN   \n",
              "\n",
              "            especie  \n",
              "147  Iris-virginica  \n",
              "148  Iris-virginica  \n",
              "149  Iris-virginica  \n",
              "150     Iris-setosa  \n",
              "151             NaN  "
            ]
          },
          "execution_count": 5,
          "metadata": {},
          "output_type": "execute_result"
        }
      ],
      "source": [
        "# criando (novamente) um novo dataframe com iris + uma nova linha com um valor missing para o próximo exemplo\n",
        "df = iris.append({'largura_sepala': 4.0,\n",
        "                  'comprimento_petala': 5.0,\n",
        "                  'largura_petala': 0.4,\n",
        "                  'especie': 'Iris-setosa'},\n",
        "                  ignore_index=True)\n",
        "\n",
        "# adicionando uma nova linha com todos os valores missing para o próximo exemplo\n",
        "df = df.append({}, ignore_index=True)\n",
        "df.tail()"
      ]
    },
    {
      "cell_type": "code",
      "execution_count": 6,
      "metadata": {
        "colab": {
          "base_uri": "https://localhost:8080/",
          "height": 206
        },
        "id": "6F8ZcH3cK5JP",
        "outputId": "ff953c1d-c6ca-47af-fa3f-ac3b5871d444"
      },
      "outputs": [
        {
          "data": {
            "text/html": [
              "<div>\n",
              "<style scoped>\n",
              "    .dataframe tbody tr th:only-of-type {\n",
              "        vertical-align: middle;\n",
              "    }\n",
              "\n",
              "    .dataframe tbody tr th {\n",
              "        vertical-align: top;\n",
              "    }\n",
              "\n",
              "    .dataframe thead th {\n",
              "        text-align: right;\n",
              "    }\n",
              "</style>\n",
              "<table border=\"1\" class=\"dataframe\">\n",
              "  <thead>\n",
              "    <tr style=\"text-align: right;\">\n",
              "      <th></th>\n",
              "      <th>comprimento_sepala</th>\n",
              "      <th>largura_sepala</th>\n",
              "      <th>comprimento_petala</th>\n",
              "      <th>largura_petala</th>\n",
              "      <th>especie</th>\n",
              "    </tr>\n",
              "  </thead>\n",
              "  <tbody>\n",
              "    <tr>\n",
              "      <th>146</th>\n",
              "      <td>6.3</td>\n",
              "      <td>2.5</td>\n",
              "      <td>5.0</td>\n",
              "      <td>1.9</td>\n",
              "      <td>Iris-virginica</td>\n",
              "    </tr>\n",
              "    <tr>\n",
              "      <th>147</th>\n",
              "      <td>6.5</td>\n",
              "      <td>3.0</td>\n",
              "      <td>5.2</td>\n",
              "      <td>2.0</td>\n",
              "      <td>Iris-virginica</td>\n",
              "    </tr>\n",
              "    <tr>\n",
              "      <th>148</th>\n",
              "      <td>6.2</td>\n",
              "      <td>3.4</td>\n",
              "      <td>5.4</td>\n",
              "      <td>2.3</td>\n",
              "      <td>Iris-virginica</td>\n",
              "    </tr>\n",
              "    <tr>\n",
              "      <th>149</th>\n",
              "      <td>5.9</td>\n",
              "      <td>3.0</td>\n",
              "      <td>5.1</td>\n",
              "      <td>1.8</td>\n",
              "      <td>Iris-virginica</td>\n",
              "    </tr>\n",
              "    <tr>\n",
              "      <th>150</th>\n",
              "      <td>NaN</td>\n",
              "      <td>4.0</td>\n",
              "      <td>5.0</td>\n",
              "      <td>0.4</td>\n",
              "      <td>Iris-setosa</td>\n",
              "    </tr>\n",
              "  </tbody>\n",
              "</table>\n",
              "</div>"
            ],
            "text/plain": [
              "     comprimento_sepala  largura_sepala  comprimento_petala  largura_petala  \\\n",
              "146                 6.3             2.5                 5.0             1.9   \n",
              "147                 6.5             3.0                 5.2             2.0   \n",
              "148                 6.2             3.4                 5.4             2.3   \n",
              "149                 5.9             3.0                 5.1             1.8   \n",
              "150                 NaN             4.0                 5.0             0.4   \n",
              "\n",
              "            especie  \n",
              "146  Iris-virginica  \n",
              "147  Iris-virginica  \n",
              "148  Iris-virginica  \n",
              "149  Iris-virginica  \n",
              "150     Iris-setosa  "
            ]
          },
          "execution_count": 6,
          "metadata": {},
          "output_type": "execute_result"
        }
      ],
      "source": [
        "# eliminando linhas que tenham TODOS os valores missing\n",
        "df = df.dropna(how='all')\n",
        "df.tail()"
      ]
    },
    {
      "cell_type": "code",
      "execution_count": 7,
      "metadata": {
        "colab": {
          "base_uri": "https://localhost:8080/",
          "height": 206
        },
        "id": "eBQQlyasK-fP",
        "outputId": "d580da27-fff1-411a-b319-5052a4020326"
      },
      "outputs": [
        {
          "data": {
            "text/html": [
              "<div>\n",
              "<style scoped>\n",
              "    .dataframe tbody tr th:only-of-type {\n",
              "        vertical-align: middle;\n",
              "    }\n",
              "\n",
              "    .dataframe tbody tr th {\n",
              "        vertical-align: top;\n",
              "    }\n",
              "\n",
              "    .dataframe thead th {\n",
              "        text-align: right;\n",
              "    }\n",
              "</style>\n",
              "<table border=\"1\" class=\"dataframe\">\n",
              "  <thead>\n",
              "    <tr style=\"text-align: right;\">\n",
              "      <th></th>\n",
              "      <th>comprimento_sepala</th>\n",
              "      <th>largura_sepala</th>\n",
              "      <th>comprimento_petala</th>\n",
              "      <th>largura_petala</th>\n",
              "      <th>especie</th>\n",
              "    </tr>\n",
              "  </thead>\n",
              "  <tbody>\n",
              "    <tr>\n",
              "      <th>146</th>\n",
              "      <td>6.3</td>\n",
              "      <td>2.5</td>\n",
              "      <td>5.0</td>\n",
              "      <td>1.9</td>\n",
              "      <td>Iris-virginica</td>\n",
              "    </tr>\n",
              "    <tr>\n",
              "      <th>147</th>\n",
              "      <td>6.5</td>\n",
              "      <td>3.0</td>\n",
              "      <td>5.2</td>\n",
              "      <td>2.0</td>\n",
              "      <td>Iris-virginica</td>\n",
              "    </tr>\n",
              "    <tr>\n",
              "      <th>148</th>\n",
              "      <td>6.2</td>\n",
              "      <td>3.4</td>\n",
              "      <td>5.4</td>\n",
              "      <td>2.3</td>\n",
              "      <td>Iris-virginica</td>\n",
              "    </tr>\n",
              "    <tr>\n",
              "      <th>149</th>\n",
              "      <td>5.9</td>\n",
              "      <td>3.0</td>\n",
              "      <td>5.1</td>\n",
              "      <td>1.8</td>\n",
              "      <td>Iris-virginica</td>\n",
              "    </tr>\n",
              "    <tr>\n",
              "      <th>150</th>\n",
              "      <td>5.8</td>\n",
              "      <td>4.0</td>\n",
              "      <td>5.0</td>\n",
              "      <td>0.4</td>\n",
              "      <td>Iris-setosa</td>\n",
              "    </tr>\n",
              "  </tbody>\n",
              "</table>\n",
              "</div>"
            ],
            "text/plain": [
              "     comprimento_sepala  largura_sepala  comprimento_petala  largura_petala  \\\n",
              "146                 6.3             2.5                 5.0             1.9   \n",
              "147                 6.5             3.0                 5.2             2.0   \n",
              "148                 6.2             3.4                 5.4             2.3   \n",
              "149                 5.9             3.0                 5.1             1.8   \n",
              "150                 5.8             4.0                 5.0             0.4   \n",
              "\n",
              "            especie  \n",
              "146  Iris-virginica  \n",
              "147  Iris-virginica  \n",
              "148  Iris-virginica  \n",
              "149  Iris-virginica  \n",
              "150     Iris-setosa  "
            ]
          },
          "execution_count": 7,
          "metadata": {},
          "output_type": "execute_result"
        }
      ],
      "source": [
        "# definindo valores para o preenchimento de missings\n",
        "values = {'comprimento_sepala': iris['comprimento_sepala'].median(),\n",
        "          'largura_sepala': 5.0,\n",
        "          'comprimento_petala': 4.0,\n",
        "          'largura_petala': 0.1,\n",
        "          'especie': 'Iris-setosa'}\n",
        "\n",
        "# fazendo o preenchimento\n",
        "df = df.fillna(value=values)\n",
        "df.tail()"
      ]
    },
    {
      "cell_type": "markdown",
      "metadata": {
        "id": "BTVLPtqFqPfr"
      },
      "source": [
        "## Transformações Numéricas\n",
        "\n",
        "Podemos utilizar as operações de normalização e padronização usando a biblioteca **Scikit-learn**:\n",
        "* Para normalizar os dados, usamos o *MinMaxScaler* (https://scikit-learn.org/stable/modules/generated/sklearn.preprocessing.MinMaxScaler.html).\n",
        "* Para padronizar os dados, usamos o *StandardScaler* (https://scikit-learn.org/stable/modules/generated/sklearn.preprocessing.StandardScaler.html).\n"
      ]
    },
    {
      "cell_type": "code",
      "execution_count": 8,
      "metadata": {
        "colab": {
          "base_uri": "https://localhost:8080/"
        },
        "id": "lHhKXN6dpKdW",
        "outputId": "50941567-3219-4611-c754-75d8b19ef274"
      },
      "outputs": [
        {
          "name": "stdout",
          "output_type": "stream",
          "text": [
            "[[1.0e+02 1.0e-03]\n",
            " [8.0e+00 5.0e-02]\n",
            " [5.0e+01 5.0e-03]\n",
            " [8.8e+01 7.0e-02]\n",
            " [4.0e+00 1.0e-01]]\n"
          ]
        }
      ],
      "source": [
        "# dados que iremos usar nos exemplos\n",
        "data = np.asarray([[100, 0.001],\n",
        "\t\t\t\t   [8,   0.05],\n",
        "\t\t\t\t   [50,  0.005],\n",
        "\t\t\t\t   [88,  0.07],\n",
        "\t\t\t\t   [4,   0.1]])\n",
        "print(data)"
      ]
    },
    {
      "cell_type": "markdown",
      "metadata": {
        "id": "sZbuLX5Sp1pX"
      },
      "source": [
        "### Normalização\n",
        "\n",
        "y = (x – min) / (max – min)"
      ]
    },
    {
      "cell_type": "code",
      "execution_count": 9,
      "metadata": {
        "colab": {
          "base_uri": "https://localhost:8080/"
        },
        "id": "i7hGUQHIpWce",
        "outputId": "7c0b4163-d7e8-45a9-fb32-ea5f1fe259ef"
      },
      "outputs": [
        {
          "name": "stdout",
          "output_type": "stream",
          "text": [
            "[[1.         0.        ]\n",
            " [0.04166667 0.49494949]\n",
            " [0.47916667 0.04040404]\n",
            " [0.875      0.6969697 ]\n",
            " [0.         1.        ]]\n"
          ]
        }
      ],
      "source": [
        "# Normalização\n",
        "\n",
        "# definindo o transformador como min max scaler\n",
        "scaler = MinMaxScaler()\n",
        "\n",
        "# transformando os dados\n",
        "scaled = scaler.fit_transform(data)\n",
        "print(scaled)"
      ]
    },
    {
      "cell_type": "markdown",
      "metadata": {
        "id": "meF1JOIaqRmO"
      },
      "source": [
        "### Padronização\n",
        "\n",
        "média = soma (x) / contagem (x)\n",
        "\n",
        "desvio_ padrão = sqrt (soma ((x - média) ^ 2) / contagem (x))\n",
        "\n",
        "y = (x - média) / desvio padrão\n"
      ]
    },
    {
      "cell_type": "code",
      "execution_count": 10,
      "metadata": {
        "colab": {
          "base_uri": "https://localhost:8080/"
        },
        "id": "7CelMP4Npy4r",
        "outputId": "00fbadb4-2f4c-4023-d89d-0aebb65dfc10"
      },
      "outputs": [
        {
          "name": "stdout",
          "output_type": "stream",
          "text": [
            "[[ 1.26398112 -1.16389967]\n",
            " [-1.06174414  0.12639634]\n",
            " [ 0.         -1.05856939]\n",
            " [ 0.96062565  0.65304778]\n",
            " [-1.16286263  1.44302493]]\n"
          ]
        }
      ],
      "source": [
        "# Padronização\n",
        "\n",
        "# definindo o transformador como standard scaler\n",
        "scaler = StandardScaler()\n",
        "\n",
        "# transformando os dados\n",
        "scaled = scaler.fit_transform(data)\n",
        "print(scaled)"
      ]
    },
    {
      "cell_type": "markdown",
      "metadata": {
        "id": "iuj3mHe4qUPO"
      },
      "source": [
        "## Transformações Categóricas\n",
        "\n",
        "Podemos utilizar as operação de *one hot encoding* e *dummy encoding* usando a biblioteca **Scikit-learn**:\n",
        "* Para o *one hot encoding*, usamos o *OneHotEncoder* (http://scikit-learn.org/stable/modules/generated/sklearn.preprocessing.OneHotEncoder.html)\n",
        "* Para o *dummy encoding*, também usamos o *OneHotEncoder*, mas usando o parâmetro *drop* para indicar qual categoria receberá todos os valores zero."
      ]
    },
    {
      "cell_type": "code",
      "execution_count": 11,
      "metadata": {
        "colab": {
          "base_uri": "https://localhost:8080/"
        },
        "id": "RKvm7cg6qa9g",
        "outputId": "00bfbd59-f3c9-425f-82b7-2810fe59b26f"
      },
      "outputs": [
        {
          "name": "stdout",
          "output_type": "stream",
          "text": [
            "[['castanhos']\n",
            " ['verdes']\n",
            " ['azuis']\n",
            " ['azuis']\n",
            " ['castanhos']\n",
            " ['azuis']]\n"
          ]
        }
      ],
      "source": [
        "# dados que iremos usar nos exemplos\n",
        "data = np.asarray([['castanhos'], ['verdes'], ['azuis'], ['azuis'], ['castanhos'], ['azuis']])\n",
        "print(data)"
      ]
    },
    {
      "cell_type": "markdown",
      "metadata": {
        "id": "TDfZ7IbPrOYN"
      },
      "source": [
        "### One Hot Encoding"
      ]
    },
    {
      "cell_type": "code",
      "execution_count": 12,
      "metadata": {
        "colab": {
          "base_uri": "https://localhost:8080/"
        },
        "id": "GRRAHCcxqzEN",
        "outputId": "4975796d-3689-48eb-a879-5382e8c551b0"
      },
      "outputs": [
        {
          "name": "stdout",
          "output_type": "stream",
          "text": [
            "[[0. 1. 0.]\n",
            " [0. 0. 1.]\n",
            " [1. 0. 0.]\n",
            " [1. 0. 0.]\n",
            " [0. 1. 0.]\n",
            " [1. 0. 0.]]\n"
          ]
        },
        {
          "name": "stderr",
          "output_type": "stream",
          "text": [
            "c:\\Users\\lveig\\anaconda3\\Lib\\site-packages\\sklearn\\preprocessing\\_encoders.py:868: FutureWarning: `sparse` was renamed to `sparse_output` in version 1.2 and will be removed in 1.4. `sparse_output` is ignored unless you leave `sparse` to its default value.\n",
            "  warnings.warn(\n"
          ]
        }
      ],
      "source": [
        "# definindo o transformador como one hot encoding\n",
        "encoder = OneHotEncoder(sparse=False)\n",
        "\n",
        "# transformando os dados\n",
        "onehot = encoder.fit_transform(data)\n",
        "print(onehot)"
      ]
    },
    {
      "cell_type": "markdown",
      "metadata": {
        "id": "-eDpdjYWrR0x"
      },
      "source": [
        "### Dummy Variable Encoding"
      ]
    },
    {
      "cell_type": "code",
      "execution_count": 13,
      "metadata": {
        "colab": {
          "base_uri": "https://localhost:8080/"
        },
        "id": "6vA_bmO8q85I",
        "outputId": "26a75be0-2b8f-47c4-dfa5-ad1a9dbb9c71"
      },
      "outputs": [
        {
          "name": "stdout",
          "output_type": "stream",
          "text": [
            "[[1. 0.]\n",
            " [0. 1.]\n",
            " [0. 0.]\n",
            " [0. 0.]\n",
            " [1. 0.]\n",
            " [0. 0.]]\n"
          ]
        },
        {
          "name": "stderr",
          "output_type": "stream",
          "text": [
            "c:\\Users\\lveig\\anaconda3\\Lib\\site-packages\\sklearn\\preprocessing\\_encoders.py:868: FutureWarning: `sparse` was renamed to `sparse_output` in version 1.2 and will be removed in 1.4. `sparse_output` is ignored unless you leave `sparse` to its default value.\n",
            "  warnings.warn(\n"
          ]
        }
      ],
      "source": [
        "# definindo o transformador como one hot encoding (com Dummy variable encoder)\n",
        "encoder = OneHotEncoder(drop='first', sparse=False)\n",
        "\n",
        "# transformando os dados\n",
        "dummy = encoder.fit_transform(data)\n",
        "print(dummy)"
      ]
    }
  ],
  "metadata": {
    "colab": {
      "provenance": [],
      "toc_visible": true
    },
    "kernelspec": {
      "display_name": "Python 3",
      "name": "python3"
    },
    "language_info": {
      "codemirror_mode": {
        "name": "ipython",
        "version": 3
      },
      "file_extension": ".py",
      "mimetype": "text/x-python",
      "name": "python",
      "nbconvert_exporter": "python",
      "pygments_lexer": "ipython3",
      "version": "3.11.3"
    }
  },
  "nbformat": 4,
  "nbformat_minor": 0
}
